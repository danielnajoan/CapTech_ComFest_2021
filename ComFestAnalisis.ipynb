{
 "cells": [
  {
   "cell_type": "code",
   "metadata": {
    "tags": [],
    "cell_id": "00000-e3207956-db05-4f93-8411-241115f97a59",
    "deepnote_to_be_reexecuted": false,
    "source_hash": "e8c82e1f",
    "execution_start": 1626362150981,
    "execution_millis": 3123,
    "deepnote_cell_type": "code"
   },
   "source": "pip install xlrd",
   "outputs": [
    {
     "name": "stdout",
     "text": "Requirement already satisfied: xlrd in /usr/local/lib/python3.7/site-packages (2.0.1)\n\u001b[33mWARNING: Running pip as root will break packages and permissions. You should install packages reliably by using venv: https://pip.pypa.io/warnings/venv\u001b[0m\n\u001b[33mWARNING: You are using pip version 21.1.2; however, version 21.1.3 is available.\nYou should consider upgrading via the '/usr/local/bin/python -m pip install --upgrade pip' command.\u001b[0m\nNote: you may need to restart the kernel to use updated packages.\n",
     "output_type": "stream"
    }
   ],
   "execution_count": 1
  },
  {
   "cell_type": "code",
   "metadata": {
    "tags": [],
    "cell_id": "00000-fe1867df-4372-4990-9bd3-3a7c3a8a8be3",
    "deepnote_to_be_reexecuted": false,
    "source_hash": "1dadd157",
    "execution_start": 1626362154110,
    "execution_millis": 1073,
    "deepnote_cell_type": "code"
   },
   "source": "import pandas as pd\nimport numpy as np \nimport matplotlib.pyplot as plt\nimport seaborn as sns\nimport scipy\n\nimport warnings\nwarnings.filterwarnings(\"ignore\")",
   "outputs": [],
   "execution_count": 2
  },
  {
   "cell_type": "code",
   "metadata": {
    "tags": [],
    "cell_id": "00001-eb593998-499b-41d2-a53b-dccf97775459",
    "deepnote_to_be_reexecuted": false,
    "source_hash": "9988bb8b",
    "execution_start": 1626362155187,
    "execution_millis": 2579,
    "deepnote_cell_type": "code"
   },
   "source": "data_xlsx = pd.read_excel(\"Daily Update Data Agregat Covid-19 Jakarta.xlsx\", sheet_name=\"Data Jakarta\")",
   "outputs": [],
   "execution_count": 3
  },
  {
   "cell_type": "code",
   "metadata": {
    "tags": [],
    "cell_id": "00003-4373018e-b6b9-4708-b650-79f8595e36dd",
    "deepnote_to_be_reexecuted": false,
    "source_hash": "134eecbb",
    "execution_start": 1626362157777,
    "execution_millis": 2,
    "deepnote_cell_type": "code"
   },
   "source": "data_slice = data_xlsx.iloc[:,:17]",
   "outputs": [],
   "execution_count": 4
  },
  {
   "cell_type": "code",
   "metadata": {
    "tags": [],
    "cell_id": "00004-199de72c-ed37-4fe1-873e-881daa8cc499",
    "deepnote_to_be_reexecuted": false,
    "source_hash": "c132bed0",
    "execution_start": 1626362157797,
    "execution_millis": 2,
    "deepnote_cell_type": "code"
   },
   "source": "data = data_slice.drop(['Belum Diketahui (masih verifikasi)'], axis = 1)",
   "outputs": [],
   "execution_count": 5
  },
  {
   "cell_type": "code",
   "metadata": {
    "tags": [],
    "cell_id": "00005-832e79b8-fa4e-41d5-a094-b78459cdd9a2",
    "deepnote_to_be_reexecuted": false,
    "source_hash": "878de0e4",
    "execution_start": 1626362157818,
    "execution_millis": 14,
    "deepnote_cell_type": "code"
   },
   "source": "data.isnull().sum()",
   "outputs": [
    {
     "output_type": "execute_result",
     "execution_count": 6,
     "data": {
      "text/plain": "Tanggal                          0\nJam                             19\nTanggal Jam                      0\nTotal Pasien                     0\nSembuh                           0\nMeninggal                        0\nSelf Isolation                   0\nMasih Perawatan                  0\nMenunggu Hasil                 496\nTenaga Kesehatan Terinfeksi    496\nPositif Harian                   0\nPositif Aktif                    0\nSembuh Harian                    0\nTanpa Gejala                   140\nBergejala                      140\nBelum Ada Data                 140\ndtype: int64"
     },
     "metadata": {}
    }
   ],
   "execution_count": 6
  },
  {
   "cell_type": "code",
   "metadata": {
    "tags": [],
    "cell_id": "00005-49cc5cf2-c587-44a9-8a03-777f6eebf56f",
    "deepnote_to_be_reexecuted": false,
    "source_hash": "8ea3976d",
    "execution_start": 1626362157838,
    "execution_millis": 45,
    "deepnote_cell_type": "code"
   },
   "source": "data['Jam'] = data['Jam'].fillna(18)",
   "outputs": [],
   "execution_count": 7
  },
  {
   "cell_type": "code",
   "metadata": {
    "tags": [],
    "cell_id": "00006-768e00f4-61ab-4f86-a749-9e819e19f239",
    "deepnote_to_be_reexecuted": false,
    "source_hash": "8922c6dc",
    "execution_start": 1626362157883,
    "execution_millis": 0,
    "deepnote_cell_type": "code"
   },
   "source": "data = data.fillna(0)",
   "outputs": [],
   "execution_count": 8
  },
  {
   "cell_type": "code",
   "metadata": {
    "tags": [],
    "cell_id": "00003-a7531a81-b056-4404-816a-209ebf1fd0c8",
    "deepnote_to_be_reexecuted": false,
    "source_hash": "e6928a8f",
    "execution_start": 1626362157884,
    "execution_millis": 105,
    "deepnote_cell_type": "code"
   },
   "source": "data",
   "outputs": [
    {
     "output_type": "execute_result",
     "execution_count": 9,
     "data": {
      "application/vnd.deepnote.dataframe.v2+json": {
       "row_count": 502,
       "column_count": 16,
       "columns": [
        {
         "name": "Tanggal",
         "dtype": "datetime64[ns]",
         "stats": {
          "unique_count": 502,
          "nan_count": 0,
          "min": "2020-03-01 00:00:00",
          "max": "2021-07-15 00:00:00",
          "histogram": [
           {
            "bin_start": 1583020800000000000,
            "bin_end": 1587349440000000000,
            "count": 51
           },
           {
            "bin_start": 1587349440000000000,
            "bin_end": 1591678080000000000,
            "count": 50
           },
           {
            "bin_start": 1591678080000000000,
            "bin_end": 1596006720000000000,
            "count": 50
           },
           {
            "bin_start": 1596006720000000000,
            "bin_end": 1600335360000000000,
            "count": 50
           },
           {
            "bin_start": 1600335360000000000,
            "bin_end": 1604664000000000000,
            "count": 50
           },
           {
            "bin_start": 1604664000000000000,
            "bin_end": 1608992640000000000,
            "count": 50
           },
           {
            "bin_start": 1608992640000000000,
            "bin_end": 1613321280000000000,
            "count": 50
           },
           {
            "bin_start": 1613321280000000000,
            "bin_end": 1617649920000000000,
            "count": 50
           },
           {
            "bin_start": 1617649920000000000,
            "bin_end": 1621978560000000000,
            "count": 50
           },
           {
            "bin_start": 1621978560000000000,
            "bin_end": 1626307200000000000,
            "count": 51
           }
          ]
         }
        },
        {
         "name": "Jam",
         "dtype": "float64",
         "stats": {
          "unique_count": 2,
          "nan_count": 0,
          "min": "8.0",
          "max": "18.0",
          "histogram": [
           {
            "bin_start": 8,
            "bin_end": 9,
            "count": 465
           },
           {
            "bin_start": 9,
            "bin_end": 10,
            "count": 0
           },
           {
            "bin_start": 10,
            "bin_end": 11,
            "count": 0
           },
           {
            "bin_start": 11,
            "bin_end": 12,
            "count": 0
           },
           {
            "bin_start": 12,
            "bin_end": 13,
            "count": 0
           },
           {
            "bin_start": 13,
            "bin_end": 14,
            "count": 0
           },
           {
            "bin_start": 14,
            "bin_end": 15,
            "count": 0
           },
           {
            "bin_start": 15,
            "bin_end": 16,
            "count": 0
           },
           {
            "bin_start": 16,
            "bin_end": 17,
            "count": 0
           },
           {
            "bin_start": 17,
            "bin_end": 18,
            "count": 37
           }
          ]
         }
        },
        {
         "name": "Tanggal Jam",
         "dtype": "datetime64[ns]",
         "stats": {
          "unique_count": 502,
          "nan_count": 0,
          "min": "2020-03-01 18:00:00",
          "max": "2021-07-15 08:00:00",
          "histogram": [
           {
            "bin_start": 1583085600000000000,
            "bin_end": 1587410640000000000,
            "count": 51
           },
           {
            "bin_start": 1587410640000000000,
            "bin_end": 1591735680000000000,
            "count": 50
           },
           {
            "bin_start": 1591735680000000000,
            "bin_end": 1596060720000000000,
            "count": 50
           },
           {
            "bin_start": 1596060720000000000,
            "bin_end": 1600385760000000000,
            "count": 50
           },
           {
            "bin_start": 1600385760000000000,
            "bin_end": 1604710800000000000,
            "count": 50
           },
           {
            "bin_start": 1604710800000000000,
            "bin_end": 1609035840000000000,
            "count": 50
           },
           {
            "bin_start": 1609035840000000000,
            "bin_end": 1613360880000000000,
            "count": 50
           },
           {
            "bin_start": 1613360880000000000,
            "bin_end": 1617685920000000000,
            "count": 50
           },
           {
            "bin_start": 1617685920000000000,
            "bin_end": 1622010960000000000,
            "count": 50
           },
           {
            "bin_start": 1622010960000000000,
            "bin_end": 1626336000000000000,
            "count": 51
           }
          ]
         }
        },
        {
         "name": "Total Pasien",
         "dtype": "int64",
         "stats": {
          "unique_count": 496,
          "nan_count": 0,
          "min": "0",
          "max": "714601",
          "histogram": [
           {
            "bin_start": 0,
            "bin_end": 71460.1,
            "count": 211
           },
           {
            "bin_start": 71460.1,
            "bin_end": 142920.2,
            "count": 69
           },
           {
            "bin_start": 142920.2,
            "bin_end": 214380.30000000002,
            "count": 38
           },
           {
            "bin_start": 214380.30000000002,
            "bin_end": 285840.4,
            "count": 23
           },
           {
            "bin_start": 285840.4,
            "bin_end": 357300.5,
            "count": 35
           },
           {
            "bin_start": 357300.5,
            "bin_end": 428760.60000000003,
            "count": 79
           },
           {
            "bin_start": 428760.60000000003,
            "bin_end": 500220.70000000007,
            "count": 26
           },
           {
            "bin_start": 500220.70000000007,
            "bin_end": 571680.8,
            "count": 9
           },
           {
            "bin_start": 571680.8,
            "bin_end": 643140.9,
            "count": 6
           },
           {
            "bin_start": 643140.9,
            "bin_end": 714601,
            "count": 6
           }
          ]
         }
        },
        {
         "name": "Sembuh",
         "dtype": "int64",
         "stats": {
          "unique_count": 479,
          "nan_count": 0,
          "min": "0",
          "max": "595582",
          "histogram": [
           {
            "bin_start": 0,
            "bin_end": 59558.2,
            "count": 213
           },
           {
            "bin_start": 59558.2,
            "bin_end": 119116.4,
            "count": 57
           },
           {
            "bin_start": 119116.4,
            "bin_end": 178674.59999999998,
            "count": 43
           },
           {
            "bin_start": 178674.59999999998,
            "bin_end": 238232.8,
            "count": 22
           },
           {
            "bin_start": 238232.8,
            "bin_end": 297791,
            "count": 18
           },
           {
            "bin_start": 297791,
            "bin_end": 357349.19999999995,
            "count": 33
           },
           {
            "bin_start": 357349.19999999995,
            "bin_end": 416907.39999999997,
            "count": 77
           },
           {
            "bin_start": 416907.39999999997,
            "bin_end": 476465.6,
            "count": 26
           },
           {
            "bin_start": 476465.6,
            "bin_end": 536023.7999999999,
            "count": 7
           },
           {
            "bin_start": 536023.7999999999,
            "bin_end": 595582,
            "count": 6
           }
          ]
         }
        },
        {
         "name": "Meninggal",
         "dtype": "int64",
         "stats": {
          "unique_count": 487,
          "nan_count": 0,
          "min": "0",
          "max": "9743",
          "histogram": [
           {
            "bin_start": 0,
            "bin_end": 974.3,
            "count": 165
           },
           {
            "bin_start": 974.3,
            "bin_end": 1948.6,
            "count": 62
           },
           {
            "bin_start": 1948.6,
            "bin_end": 2922.8999999999996,
            "count": 60
           },
           {
            "bin_start": 2922.8999999999996,
            "bin_end": 3897.2,
            "count": 39
           },
           {
            "bin_start": 3897.2,
            "bin_end": 4871.5,
            "count": 24
           },
           {
            "bin_start": 4871.5,
            "bin_end": 5845.799999999999,
            "count": 23
           },
           {
            "bin_start": 5845.799999999999,
            "bin_end": 6820.099999999999,
            "count": 57
           },
           {
            "bin_start": 6820.099999999999,
            "bin_end": 7794.4,
            "count": 45
           },
           {
            "bin_start": 7794.4,
            "bin_end": 8768.699999999999,
            "count": 16
           },
           {
            "bin_start": 8768.699999999999,
            "bin_end": 9743,
            "count": 11
           }
          ]
         }
        },
        {
         "name": "Self Isolation",
         "dtype": "int64",
         "stats": {
          "unique_count": 478,
          "nan_count": 0,
          "min": "0",
          "max": "86298",
          "histogram": [
           {
            "bin_start": 0,
            "bin_end": 8629.8,
            "count": 364
           },
           {
            "bin_start": 8629.8,
            "bin_end": 17259.6,
            "count": 92
           },
           {
            "bin_start": 17259.6,
            "bin_end": 25889.399999999998,
            "count": 24
           },
           {
            "bin_start": 25889.399999999998,
            "bin_end": 34519.2,
            "count": 3
           },
           {
            "bin_start": 34519.2,
            "bin_end": 43149,
            "count": 2
           },
           {
            "bin_start": 43149,
            "bin_end": 51778.799999999996,
            "count": 3
           },
           {
            "bin_start": 51778.799999999996,
            "bin_end": 60408.59999999999,
            "count": 3
           },
           {
            "bin_start": 60408.59999999999,
            "bin_end": 69038.4,
            "count": 4
           },
           {
            "bin_start": 69038.4,
            "bin_end": 77668.2,
            "count": 5
           },
           {
            "bin_start": 77668.2,
            "bin_end": 86298,
            "count": 2
           }
          ]
         }
        },
        {
         "name": "Masih Perawatan",
         "dtype": "int64",
         "stats": {
          "unique_count": 478,
          "nan_count": 0,
          "min": "0",
          "max": "30418",
          "histogram": [
           {
            "bin_start": 0,
            "bin_end": 3041.8,
            "count": 269
           },
           {
            "bin_start": 3041.8,
            "bin_end": 6083.6,
            "count": 189
           },
           {
            "bin_start": 6083.6,
            "bin_end": 9125.400000000001,
            "count": 13
           },
           {
            "bin_start": 9125.400000000001,
            "bin_end": 12167.2,
            "count": 8
           },
           {
            "bin_start": 12167.2,
            "bin_end": 15209,
            "count": 2
           },
           {
            "bin_start": 15209,
            "bin_end": 18250.800000000003,
            "count": 3
           },
           {
            "bin_start": 18250.800000000003,
            "bin_end": 21292.600000000002,
            "count": 6
           },
           {
            "bin_start": 21292.600000000002,
            "bin_end": 24334.4,
            "count": 4
           },
           {
            "bin_start": 24334.4,
            "bin_end": 27376.2,
            "count": 2
           },
           {
            "bin_start": 27376.2,
            "bin_end": 30418,
            "count": 6
           }
          ]
         }
        },
        {
         "name": "Menunggu Hasil",
         "dtype": "float64",
         "stats": {
          "unique_count": 7,
          "nan_count": 0,
          "min": "0.0",
          "max": "479.0",
          "histogram": [
           {
            "bin_start": 0,
            "bin_end": 47.9,
            "count": 496
           },
           {
            "bin_start": 47.9,
            "bin_end": 95.8,
            "count": 0
           },
           {
            "bin_start": 95.8,
            "bin_end": 143.7,
            "count": 0
           },
           {
            "bin_start": 143.7,
            "bin_end": 191.6,
            "count": 0
           },
           {
            "bin_start": 191.6,
            "bin_end": 239.5,
            "count": 0
           },
           {
            "bin_start": 239.5,
            "bin_end": 287.4,
            "count": 0
           },
           {
            "bin_start": 287.4,
            "bin_end": 335.3,
            "count": 0
           },
           {
            "bin_start": 335.3,
            "bin_end": 383.2,
            "count": 2
           },
           {
            "bin_start": 383.2,
            "bin_end": 431.09999999999997,
            "count": 2
           },
           {
            "bin_start": 431.09999999999997,
            "bin_end": 479,
            "count": 2
           }
          ]
         }
        },
        {
         "name": "Tenaga Kesehatan Terinfeksi",
         "dtype": "float64",
         "stats": {
          "unique_count": 7,
          "nan_count": 0,
          "min": "0.0",
          "max": "47.0",
          "histogram": [
           {
            "bin_start": 0,
            "bin_end": 4.7,
            "count": 496
           },
           {
            "bin_start": 4.7,
            "bin_end": 9.4,
            "count": 0
           },
           {
            "bin_start": 9.4,
            "bin_end": 14.100000000000001,
            "count": 0
           },
           {
            "bin_start": 14.100000000000001,
            "bin_end": 18.8,
            "count": 0
           },
           {
            "bin_start": 18.8,
            "bin_end": 23.5,
            "count": 0
           },
           {
            "bin_start": 23.5,
            "bin_end": 28.200000000000003,
            "count": 2
           },
           {
            "bin_start": 28.200000000000003,
            "bin_end": 32.9,
            "count": 0
           },
           {
            "bin_start": 32.9,
            "bin_end": 37.6,
            "count": 1
           },
           {
            "bin_start": 37.6,
            "bin_end": 42.300000000000004,
            "count": 1
           },
           {
            "bin_start": 42.300000000000004,
            "bin_end": 47,
            "count": 2
           }
          ]
         }
        },
        {
         "name": "Positif Harian",
         "dtype": "int64",
         "stats": {
          "unique_count": 436,
          "nan_count": 0,
          "min": "0",
          "max": "14619",
          "histogram": [
           {
            "bin_start": 0,
            "bin_end": 1461.9,
            "count": 378
           },
           {
            "bin_start": 1461.9,
            "bin_end": 2923.8,
            "count": 71
           },
           {
            "bin_start": 2923.8,
            "bin_end": 4385.700000000001,
            "count": 26
           },
           {
            "bin_start": 4385.700000000001,
            "bin_end": 5847.6,
            "count": 5
           },
           {
            "bin_start": 5847.6,
            "bin_end": 7309.5,
            "count": 1
           },
           {
            "bin_start": 7309.5,
            "bin_end": 8771.400000000001,
            "count": 5
           },
           {
            "bin_start": 8771.400000000001,
            "bin_end": 10233.300000000001,
            "count": 6
           },
           {
            "bin_start": 10233.300000000001,
            "bin_end": 11695.2,
            "count": 2
           },
           {
            "bin_start": 11695.2,
            "bin_end": 13157.1,
            "count": 7
           },
           {
            "bin_start": 13157.1,
            "bin_end": 14619,
            "count": 1
           }
          ]
         }
        },
        {
         "name": "Positif Aktif",
         "dtype": "int64",
         "stats": {
          "unique_count": 490,
          "nan_count": 0,
          "min": "0",
          "max": "109276",
          "histogram": [
           {
            "bin_start": 0,
            "bin_end": 10927.6,
            "count": 329
           },
           {
            "bin_start": 10927.6,
            "bin_end": 21855.2,
            "count": 122
           },
           {
            "bin_start": 21855.2,
            "bin_end": 32782.8,
            "count": 28
           },
           {
            "bin_start": 32782.8,
            "bin_end": 43710.4,
            "count": 2
           },
           {
            "bin_start": 43710.4,
            "bin_end": 54638,
            "count": 2
           },
           {
            "bin_start": 54638,
            "bin_end": 65565.6,
            "count": 2
           },
           {
            "bin_start": 65565.6,
            "bin_end": 76493.2,
            "count": 3
           },
           {
            "bin_start": 76493.2,
            "bin_end": 87420.8,
            "count": 4
           },
           {
            "bin_start": 87420.8,
            "bin_end": 98348.40000000001,
            "count": 5
           },
           {
            "bin_start": 98348.40000000001,
            "bin_end": 109276,
            "count": 5
           }
          ]
         }
        },
        {
         "name": "Sembuh Harian",
         "dtype": "int64",
         "stats": {
          "unique_count": 409,
          "nan_count": 0,
          "min": "0",
          "max": "20570",
          "histogram": [
           {
            "bin_start": 0,
            "bin_end": 2057,
            "count": 424
           },
           {
            "bin_start": 2057,
            "bin_end": 4114,
            "count": 59
           },
           {
            "bin_start": 4114,
            "bin_end": 6171,
            "count": 13
           },
           {
            "bin_start": 6171,
            "bin_end": 8228,
            "count": 1
           },
           {
            "bin_start": 8228,
            "bin_end": 10285,
            "count": 0
           },
           {
            "bin_start": 10285,
            "bin_end": 12342,
            "count": 1
           },
           {
            "bin_start": 12342,
            "bin_end": 14399,
            "count": 0
           },
           {
            "bin_start": 14399,
            "bin_end": 16456,
            "count": 1
           },
           {
            "bin_start": 16456,
            "bin_end": 18513,
            "count": 1
           },
           {
            "bin_start": 18513,
            "bin_end": 20570,
            "count": 2
           }
          ]
         }
        },
        {
         "name": "Tanpa Gejala",
         "dtype": "float64",
         "stats": {
          "unique_count": 350,
          "nan_count": 0,
          "min": "0.0",
          "max": "32752.0",
          "histogram": [
           {
            "bin_start": 0,
            "bin_end": 3275.2,
            "count": 286
           },
           {
            "bin_start": 3275.2,
            "bin_end": 6550.4,
            "count": 83
           },
           {
            "bin_start": 6550.4,
            "bin_end": 9825.599999999999,
            "count": 76
           },
           {
            "bin_start": 9825.599999999999,
            "bin_end": 13100.8,
            "count": 10
           },
           {
            "bin_start": 13100.8,
            "bin_end": 16376,
            "count": 12
           },
           {
            "bin_start": 16376,
            "bin_end": 19651.199999999997,
            "count": 16
           },
           {
            "bin_start": 19651.199999999997,
            "bin_end": 22926.399999999998,
            "count": 5
           },
           {
            "bin_start": 22926.399999999998,
            "bin_end": 26201.6,
            "count": 7
           },
           {
            "bin_start": 26201.6,
            "bin_end": 29476.8,
            "count": 4
           },
           {
            "bin_start": 29476.8,
            "bin_end": 32752,
            "count": 3
           }
          ]
         }
        },
        {
         "name": "Bergejala",
         "dtype": "float64",
         "stats": {
          "unique_count": 347,
          "nan_count": 0,
          "min": "0.0",
          "max": "60476.0",
          "histogram": [
           {
            "bin_start": 0,
            "bin_end": 6047.6,
            "count": 318
           },
           {
            "bin_start": 6047.6,
            "bin_end": 12095.2,
            "count": 125
           },
           {
            "bin_start": 12095.2,
            "bin_end": 18142.800000000003,
            "count": 38
           },
           {
            "bin_start": 18142.800000000003,
            "bin_end": 24190.4,
            "count": 8
           },
           {
            "bin_start": 24190.4,
            "bin_end": 30238,
            "count": 7
           },
           {
            "bin_start": 30238,
            "bin_end": 36285.600000000006,
            "count": 0
           },
           {
            "bin_start": 36285.600000000006,
            "bin_end": 42333.200000000004,
            "count": 1
           },
           {
            "bin_start": 42333.200000000004,
            "bin_end": 48380.8,
            "count": 0
           },
           {
            "bin_start": 48380.8,
            "bin_end": 54428.4,
            "count": 2
           },
           {
            "bin_start": 54428.4,
            "bin_end": 60476,
            "count": 3
           }
          ]
         }
        },
        {
         "name": "Belum Ada Data",
         "dtype": "float64",
         "stats": {
          "unique_count": 351,
          "nan_count": 0,
          "min": "0.0",
          "max": "70948.0",
          "histogram": [
           {
            "bin_start": 0,
            "bin_end": 7094.8,
            "count": 460
           },
           {
            "bin_start": 7094.8,
            "bin_end": 14189.6,
            "count": 19
           },
           {
            "bin_start": 14189.6,
            "bin_end": 21284.4,
            "count": 5
           },
           {
            "bin_start": 21284.4,
            "bin_end": 28379.2,
            "count": 5
           },
           {
            "bin_start": 28379.2,
            "bin_end": 35474,
            "count": 2
           },
           {
            "bin_start": 35474,
            "bin_end": 42568.8,
            "count": 4
           },
           {
            "bin_start": 42568.8,
            "bin_end": 49663.6,
            "count": 2
           },
           {
            "bin_start": 49663.6,
            "bin_end": 56758.4,
            "count": 1
           },
           {
            "bin_start": 56758.4,
            "bin_end": 63853.200000000004,
            "count": 3
           },
           {
            "bin_start": 63853.200000000004,
            "bin_end": 70948,
            "count": 1
           }
          ]
         }
        },
        {
         "name": "_deepnote_index_column",
         "dtype": "int64"
        }
       ],
       "rows_top": [
        {
         "Tanggal": "2020-03-01T00:00:00.000000",
         "Jam": 18,
         "Tanggal Jam": "2020-03-01T18:00:00.000000",
         "Total Pasien": 0,
         "Sembuh": 0,
         "Meninggal": 0,
         "Self Isolation": 0,
         "Masih Perawatan": 0,
         "Menunggu Hasil": 0,
         "Tenaga Kesehatan Terinfeksi": 0,
         "Positif Harian": 0,
         "Positif Aktif": 0,
         "Sembuh Harian": 0,
         "Tanpa Gejala": 0,
         "Bergejala": 0,
         "Belum Ada Data": 0,
         "_deepnote_index_column": 0
        },
        {
         "Tanggal": "2020-03-02T00:00:00.000000",
         "Jam": 18,
         "Tanggal Jam": "2020-03-02T18:00:00.000000",
         "Total Pasien": 0,
         "Sembuh": 0,
         "Meninggal": 0,
         "Self Isolation": 0,
         "Masih Perawatan": 0,
         "Menunggu Hasil": 0,
         "Tenaga Kesehatan Terinfeksi": 0,
         "Positif Harian": 0,
         "Positif Aktif": 0,
         "Sembuh Harian": 0,
         "Tanpa Gejala": 0,
         "Bergejala": 0,
         "Belum Ada Data": 0,
         "_deepnote_index_column": 1
        },
        {
         "Tanggal": "2020-03-03T00:00:00.000000",
         "Jam": 18,
         "Tanggal Jam": "2020-03-03T18:00:00.000000",
         "Total Pasien": 3,
         "Sembuh": 0,
         "Meninggal": 1,
         "Self Isolation": 0,
         "Masih Perawatan": 2,
         "Menunggu Hasil": 0,
         "Tenaga Kesehatan Terinfeksi": 0,
         "Positif Harian": 3,
         "Positif Aktif": 2,
         "Sembuh Harian": 0,
         "Tanpa Gejala": 0,
         "Bergejala": 0,
         "Belum Ada Data": 0,
         "_deepnote_index_column": 2
        },
        {
         "Tanggal": "2020-03-04T00:00:00.000000",
         "Jam": 18,
         "Tanggal Jam": "2020-03-04T18:00:00.000000",
         "Total Pasien": 3,
         "Sembuh": 0,
         "Meninggal": 1,
         "Self Isolation": 0,
         "Masih Perawatan": 2,
         "Menunggu Hasil": 0,
         "Tenaga Kesehatan Terinfeksi": 0,
         "Positif Harian": 0,
         "Positif Aktif": 2,
         "Sembuh Harian": 0,
         "Tanpa Gejala": 0,
         "Bergejala": 0,
         "Belum Ada Data": 0,
         "_deepnote_index_column": 3
        },
        {
         "Tanggal": "2020-03-05T00:00:00.000000",
         "Jam": 18,
         "Tanggal Jam": "2020-03-05T18:00:00.000000",
         "Total Pasien": 7,
         "Sembuh": 0,
         "Meninggal": 3,
         "Self Isolation": 0,
         "Masih Perawatan": 4,
         "Menunggu Hasil": 0,
         "Tenaga Kesehatan Terinfeksi": 0,
         "Positif Harian": 4,
         "Positif Aktif": 4,
         "Sembuh Harian": 0,
         "Tanpa Gejala": 0,
         "Bergejala": 0,
         "Belum Ada Data": 0,
         "_deepnote_index_column": 4
        },
        {
         "Tanggal": "2020-03-06T00:00:00.000000",
         "Jam": 18,
         "Tanggal Jam": "2020-03-06T18:00:00.000000",
         "Total Pasien": 7,
         "Sembuh": 0,
         "Meninggal": 3,
         "Self Isolation": 0,
         "Masih Perawatan": 4,
         "Menunggu Hasil": 0,
         "Tenaga Kesehatan Terinfeksi": 0,
         "Positif Harian": 0,
         "Positif Aktif": 4,
         "Sembuh Harian": 0,
         "Tanpa Gejala": 0,
         "Bergejala": 0,
         "Belum Ada Data": 0,
         "_deepnote_index_column": 5
        },
        {
         "Tanggal": "2020-03-07T00:00:00.000000",
         "Jam": 18,
         "Tanggal Jam": "2020-03-07T18:00:00.000000",
         "Total Pasien": 7,
         "Sembuh": 0,
         "Meninggal": 3,
         "Self Isolation": 0,
         "Masih Perawatan": 4,
         "Menunggu Hasil": 0,
         "Tenaga Kesehatan Terinfeksi": 0,
         "Positif Harian": 0,
         "Positif Aktif": 4,
         "Sembuh Harian": 0,
         "Tanpa Gejala": 0,
         "Bergejala": 0,
         "Belum Ada Data": 0,
         "_deepnote_index_column": 6
        },
        {
         "Tanggal": "2020-03-08T00:00:00.000000",
         "Jam": 18,
         "Tanggal Jam": "2020-03-08T18:00:00.000000",
         "Total Pasien": 7,
         "Sembuh": 0,
         "Meninggal": 3,
         "Self Isolation": 0,
         "Masih Perawatan": 4,
         "Menunggu Hasil": 0,
         "Tenaga Kesehatan Terinfeksi": 0,
         "Positif Harian": 0,
         "Positif Aktif": 4,
         "Sembuh Harian": 0,
         "Tanpa Gejala": 0,
         "Bergejala": 0,
         "Belum Ada Data": 0,
         "_deepnote_index_column": 7
        },
        {
         "Tanggal": "2020-03-09T00:00:00.000000",
         "Jam": 18,
         "Tanggal Jam": "2020-03-09T18:00:00.000000",
         "Total Pasien": 34,
         "Sembuh": 0,
         "Meninggal": 3,
         "Self Isolation": 0,
         "Masih Perawatan": 31,
         "Menunggu Hasil": 0,
         "Tenaga Kesehatan Terinfeksi": 0,
         "Positif Harian": 27,
         "Positif Aktif": 31,
         "Sembuh Harian": 0,
         "Tanpa Gejala": 0,
         "Bergejala": 0,
         "Belum Ada Data": 0,
         "_deepnote_index_column": 8
        },
        {
         "Tanggal": "2020-03-10T00:00:00.000000",
         "Jam": 18,
         "Tanggal Jam": "2020-03-10T18:00:00.000000",
         "Total Pasien": 34,
         "Sembuh": 0,
         "Meninggal": 3,
         "Self Isolation": 0,
         "Masih Perawatan": 31,
         "Menunggu Hasil": 0,
         "Tenaga Kesehatan Terinfeksi": 0,
         "Positif Harian": 0,
         "Positif Aktif": 31,
         "Sembuh Harian": 0,
         "Tanpa Gejala": 0,
         "Bergejala": 0,
         "Belum Ada Data": 0,
         "_deepnote_index_column": 9
        },
        {
         "Tanggal": "2020-03-11T00:00:00.000000",
         "Jam": 18,
         "Tanggal Jam": "2020-03-11T18:00:00.000000",
         "Total Pasien": 36,
         "Sembuh": 0,
         "Meninggal": 3,
         "Self Isolation": 0,
         "Masih Perawatan": 33,
         "Menunggu Hasil": 0,
         "Tenaga Kesehatan Terinfeksi": 0,
         "Positif Harian": 2,
         "Positif Aktif": 33,
         "Sembuh Harian": 0,
         "Tanpa Gejala": 0,
         "Bergejala": 0,
         "Belum Ada Data": 0,
         "_deepnote_index_column": 10
        },
        {
         "Tanggal": "2020-03-12T00:00:00.000000",
         "Jam": 18,
         "Tanggal Jam": "2020-03-12T18:00:00.000000",
         "Total Pasien": 62,
         "Sembuh": 0,
         "Meninggal": 5,
         "Self Isolation": 0,
         "Masih Perawatan": 57,
         "Menunggu Hasil": 0,
         "Tenaga Kesehatan Terinfeksi": 0,
         "Positif Harian": 26,
         "Positif Aktif": 57,
         "Sembuh Harian": 0,
         "Tanpa Gejala": 0,
         "Bergejala": 0,
         "Belum Ada Data": 0,
         "_deepnote_index_column": 11
        },
        {
         "Tanggal": "2020-03-13T00:00:00.000000",
         "Jam": 18,
         "Tanggal Jam": "2020-03-13T18:00:00.000000",
         "Total Pasien": 72,
         "Sembuh": 0,
         "Meninggal": 7,
         "Self Isolation": 0,
         "Masih Perawatan": 65,
         "Menunggu Hasil": 0,
         "Tenaga Kesehatan Terinfeksi": 0,
         "Positif Harian": 10,
         "Positif Aktif": 65,
         "Sembuh Harian": 0,
         "Tanpa Gejala": 0,
         "Bergejala": 0,
         "Belum Ada Data": 0,
         "_deepnote_index_column": 12
        },
        {
         "Tanggal": "2020-03-14T00:00:00.000000",
         "Jam": 18,
         "Tanggal Jam": "2020-03-14T18:00:00.000000",
         "Total Pasien": 79,
         "Sembuh": 0,
         "Meninggal": 9,
         "Self Isolation": 0,
         "Masih Perawatan": 70,
         "Menunggu Hasil": 0,
         "Tenaga Kesehatan Terinfeksi": 0,
         "Positif Harian": 7,
         "Positif Aktif": 70,
         "Sembuh Harian": 0,
         "Tanpa Gejala": 0,
         "Bergejala": 0,
         "Belum Ada Data": 0,
         "_deepnote_index_column": 13
        },
        {
         "Tanggal": "2020-03-15T00:00:00.000000",
         "Jam": 18,
         "Tanggal Jam": "2020-03-15T18:00:00.000000",
         "Total Pasien": 95,
         "Sembuh": 0,
         "Meninggal": 11,
         "Self Isolation": 0,
         "Masih Perawatan": 84,
         "Menunggu Hasil": 0,
         "Tenaga Kesehatan Terinfeksi": 0,
         "Positif Harian": 16,
         "Positif Aktif": 84,
         "Sembuh Harian": 0,
         "Tanpa Gejala": 0,
         "Bergejala": 0,
         "Belum Ada Data": 0,
         "_deepnote_index_column": 14
        },
        {
         "Tanggal": "2020-03-16T00:00:00.000000",
         "Jam": 18,
         "Tanggal Jam": "2020-03-16T18:00:00.000000",
         "Total Pasien": 97,
         "Sembuh": 0,
         "Meninggal": 12,
         "Self Isolation": 7,
         "Masih Perawatan": 78,
         "Menunggu Hasil": 0,
         "Tenaga Kesehatan Terinfeksi": 0,
         "Positif Harian": 2,
         "Positif Aktif": 85,
         "Sembuh Harian": 0,
         "Tanpa Gejala": 0,
         "Bergejala": 0,
         "Belum Ada Data": 0,
         "_deepnote_index_column": 15
        },
        {
         "Tanggal": "2020-03-17T00:00:00.000000",
         "Jam": 18,
         "Tanggal Jam": "2020-03-17T18:00:00.000000",
         "Total Pasien": 122,
         "Sembuh": 0,
         "Meninggal": 12,
         "Self Isolation": 27,
         "Masih Perawatan": 83,
         "Menunggu Hasil": 0,
         "Tenaga Kesehatan Terinfeksi": 0,
         "Positif Harian": 25,
         "Positif Aktif": 110,
         "Sembuh Harian": 0,
         "Tanpa Gejala": 0,
         "Bergejala": 0,
         "Belum Ada Data": 0,
         "_deepnote_index_column": 16
        },
        {
         "Tanggal": "2020-03-18T00:00:00.000000",
         "Jam": 18,
         "Tanggal Jam": "2020-03-18T18:00:00.000000",
         "Total Pasien": 160,
         "Sembuh": 12,
         "Meninggal": 15,
         "Self Isolation": 42,
         "Masih Perawatan": 91,
         "Menunggu Hasil": 0,
         "Tenaga Kesehatan Terinfeksi": 0,
         "Positif Harian": 38,
         "Positif Aktif": 133,
         "Sembuh Harian": 12,
         "Tanpa Gejala": 0,
         "Bergejala": 0,
         "Belum Ada Data": 0,
         "_deepnote_index_column": 17
        },
        {
         "Tanggal": "2020-03-19T00:00:00.000000",
         "Jam": 18,
         "Tanggal Jam": "2020-03-19T18:00:00.000000",
         "Total Pasien": 210,
         "Sembuh": 13,
         "Meninggal": 19,
         "Self Isolation": 57,
         "Masih Perawatan": 121,
         "Menunggu Hasil": 0,
         "Tenaga Kesehatan Terinfeksi": 0,
         "Positif Harian": 50,
         "Positif Aktif": 178,
         "Sembuh Harian": 1,
         "Tanpa Gejala": 0,
         "Bergejala": 0,
         "Belum Ada Data": 0,
         "_deepnote_index_column": 18
        },
        {
         "Tanggal": "2020-03-20T00:00:00.000000",
         "Jam": 18,
         "Tanggal Jam": "2020-03-20T18:00:00.000000",
         "Total Pasien": 224,
         "Sembuh": 13,
         "Meninggal": 20,
         "Self Isolation": 66,
         "Masih Perawatan": 125,
         "Menunggu Hasil": 345,
         "Tenaga Kesehatan Terinfeksi": 25,
         "Positif Harian": 14,
         "Positif Aktif": 191,
         "Sembuh Harian": 0,
         "Tanpa Gejala": 0,
         "Bergejala": 0,
         "Belum Ada Data": 0,
         "_deepnote_index_column": 19
        },
        {
         "Tanggal": "2020-03-21T00:00:00.000000",
         "Jam": 8,
         "Tanggal Jam": "2020-03-21T08:00:00.000000",
         "Total Pasien": 268,
         "Sembuh": 17,
         "Meninggal": 23,
         "Self Isolation": 71,
         "Masih Perawatan": 157,
         "Menunggu Hasil": 375,
         "Tenaga Kesehatan Terinfeksi": 28,
         "Positif Harian": 44,
         "Positif Aktif": 228,
         "Sembuh Harian": 4,
         "Tanpa Gejala": 0,
         "Bergejala": 0,
         "Belum Ada Data": 0,
         "_deepnote_index_column": 20
        },
        {
         "Tanggal": "2020-03-22T00:00:00.000000",
         "Jam": 8,
         "Tanggal Jam": "2020-03-22T08:00:00.000000",
         "Total Pasien": 304,
         "Sembuh": 21,
         "Meninggal": 29,
         "Self Isolation": 77,
         "Masih Perawatan": 177,
         "Menunggu Hasil": 393,
         "Tenaga Kesehatan Terinfeksi": 37,
         "Positif Harian": 36,
         "Positif Aktif": 254,
         "Sembuh Harian": 4,
         "Tanpa Gejala": 0,
         "Bergejala": 0,
         "Belum Ada Data": 0,
         "_deepnote_index_column": 21
        },
        {
         "Tanggal": "2020-03-23T00:00:00.000000",
         "Jam": 8,
         "Tanggal Jam": "2020-03-23T08:00:00.000000",
         "Total Pasien": 355,
         "Sembuh": 22,
         "Meninggal": 29,
         "Self Isolation": 79,
         "Masih Perawatan": 225,
         "Menunggu Hasil": 431,
         "Tenaga Kesehatan Terinfeksi": 42,
         "Positif Harian": 51,
         "Positif Aktif": 304,
         "Sembuh Harian": 1,
         "Tanpa Gejala": 0,
         "Bergejala": 0,
         "Belum Ada Data": 0,
         "_deepnote_index_column": 22
        },
        {
         "Tanggal": "2020-03-24T00:00:00.000000",
         "Jam": 18,
         "Tanggal Jam": "2020-03-24T18:00:00.000000",
         "Total Pasien": 426,
         "Sembuh": 23,
         "Meninggal": 34,
         "Self Isolation": 109,
         "Masih Perawatan": 260,
         "Menunggu Hasil": 445,
         "Tenaga Kesehatan Terinfeksi": 44,
         "Positif Harian": 71,
         "Positif Aktif": 369,
         "Sembuh Harian": 1,
         "Tanpa Gejala": 0,
         "Bergejala": 0,
         "Belum Ada Data": 0,
         "_deepnote_index_column": 23
        },
        {
         "Tanggal": "2020-03-25T00:00:00.000000",
         "Jam": 18,
         "Tanggal Jam": "2020-03-25T18:00:00.000000",
         "Total Pasien": 472,
         "Sembuh": 27,
         "Meninggal": 43,
         "Self Isolation": 112,
         "Masih Perawatan": 290,
         "Menunggu Hasil": 479,
         "Tenaga Kesehatan Terinfeksi": 47,
         "Positif Harian": 46,
         "Positif Aktif": 402,
         "Sembuh Harian": 4,
         "Tanpa Gejala": 0,
         "Bergejala": 0,
         "Belum Ada Data": 0,
         "_deepnote_index_column": 24
        },
        {
         "Tanggal": "2020-03-26T00:00:00.000000",
         "Jam": 18,
         "Tanggal Jam": "2020-03-26T18:00:00.000000",
         "Total Pasien": 515,
         "Sembuh": 29,
         "Meninggal": 49,
         "Self Isolation": 113,
         "Masih Perawatan": 324,
         "Menunggu Hasil": 0,
         "Tenaga Kesehatan Terinfeksi": 0,
         "Positif Harian": 43,
         "Positif Aktif": 437,
         "Sembuh Harian": 2,
         "Tanpa Gejala": 0,
         "Bergejala": 0,
         "Belum Ada Data": 0,
         "_deepnote_index_column": 25
        },
        {
         "Tanggal": "2020-03-27T00:00:00.000000",
         "Jam": 18,
         "Tanggal Jam": "2020-03-27T18:00:00.000000",
         "Total Pasien": 566,
         "Sembuh": 31,
         "Meninggal": 57,
         "Self Isolation": 132,
         "Masih Perawatan": 346,
         "Menunggu Hasil": 0,
         "Tenaga Kesehatan Terinfeksi": 0,
         "Positif Harian": 51,
         "Positif Aktif": 478,
         "Sembuh Harian": 2,
         "Tanpa Gejala": 0,
         "Bergejala": 0,
         "Belum Ada Data": 0,
         "_deepnote_index_column": 26
        },
        {
         "Tanggal": "2020-03-28T00:00:00.000000",
         "Jam": 18,
         "Tanggal Jam": "2020-03-28T18:00:00.000000",
         "Total Pasien": 603,
         "Sembuh": 43,
         "Meninggal": 62,
         "Self Isolation": 134,
         "Masih Perawatan": 364,
         "Menunggu Hasil": 0,
         "Tenaga Kesehatan Terinfeksi": 0,
         "Positif Harian": 37,
         "Positif Aktif": 498,
         "Sembuh Harian": 12,
         "Tanpa Gejala": 0,
         "Bergejala": 0,
         "Belum Ada Data": 0,
         "_deepnote_index_column": 27
        },
        {
         "Tanggal": "2020-03-29T00:00:00.000000",
         "Jam": 18,
         "Tanggal Jam": "2020-03-29T18:00:00.000000",
         "Total Pasien": 701,
         "Sembuh": 48,
         "Meninggal": 67,
         "Self Isolation": 151,
         "Masih Perawatan": 435,
         "Menunggu Hasil": 0,
         "Tenaga Kesehatan Terinfeksi": 0,
         "Positif Harian": 98,
         "Positif Aktif": 586,
         "Sembuh Harian": 5,
         "Tanpa Gejala": 0,
         "Bergejala": 0,
         "Belum Ada Data": 0,
         "_deepnote_index_column": 28
        },
        {
         "Tanggal": "2020-03-30T00:00:00.000000",
         "Jam": 18,
         "Tanggal Jam": "2020-03-30T18:00:00.000000",
         "Total Pasien": 727,
         "Sembuh": 49,
         "Meninggal": 78,
         "Self Isolation": 151,
         "Masih Perawatan": 449,
         "Menunggu Hasil": 0,
         "Tenaga Kesehatan Terinfeksi": 0,
         "Positif Harian": 26,
         "Positif Aktif": 600,
         "Sembuh Harian": 1,
         "Tanpa Gejala": 0,
         "Bergejala": 0,
         "Belum Ada Data": 0,
         "_deepnote_index_column": 29
        },
        {
         "Tanggal": "2020-03-31T00:00:00.000000",
         "Jam": 18,
         "Tanggal Jam": "2020-03-31T18:00:00.000000",
         "Total Pasien": 741,
         "Sembuh": 49,
         "Meninggal": 84,
         "Self Isolation": 157,
         "Masih Perawatan": 451,
         "Menunggu Hasil": 0,
         "Tenaga Kesehatan Terinfeksi": 0,
         "Positif Harian": 14,
         "Positif Aktif": 608,
         "Sembuh Harian": 0,
         "Tanpa Gejala": 0,
         "Bergejala": 0,
         "Belum Ada Data": 0,
         "_deepnote_index_column": 30
        }
       ],
       "rows_bottom": [
        {
         "Tanggal": "2021-06-15T00:00:00.000000",
         "Jam": 8,
         "Tanggal Jam": "2021-06-15T08:00:00.000000",
         "Total Pasien": 452295,
         "Sembuh": 425417,
         "Meninggal": 7634,
         "Self Isolation": 11102,
         "Masih Perawatan": 8142,
         "Menunggu Hasil": 0,
         "Tenaga Kesehatan Terinfeksi": 0,
         "Positif Harian": 1502,
         "Positif Aktif": 19244,
         "Sembuh Harian": 1329,
         "Tanpa Gejala": 3746,
         "Bergejala": 13108,
         "Belum Ada Data": 2390,
         "_deepnote_index_column": 471
        },
        {
         "Tanggal": "2021-06-16T00:00:00.000000",
         "Jam": 8,
         "Tanggal Jam": "2021-06-16T08:00:00.000000",
         "Total Pasien": 454671,
         "Sembuh": 426695,
         "Meninggal": 7665,
         "Self Isolation": 11555,
         "Masih Perawatan": 8756,
         "Menunggu Hasil": 0,
         "Tenaga Kesehatan Terinfeksi": 0,
         "Positif Harian": 2376,
         "Positif Aktif": 20311,
         "Sembuh Harian": 1278,
         "Tanpa Gejala": 3458,
         "Bergejala": 12419,
         "Belum Ada Data": 4434,
         "_deepnote_index_column": 472
        },
        {
         "Tanggal": "2021-06-17T00:00:00.000000",
         "Jam": 8,
         "Tanggal Jam": "2021-06-17T08:00:00.000000",
         "Total Pasien": 458815,
         "Sembuh": 428764,
         "Meninggal": 7713,
         "Self Isolation": 13054,
         "Masih Perawatan": 9284,
         "Menunggu Hasil": 0,
         "Tenaga Kesehatan Terinfeksi": 0,
         "Positif Harian": 4144,
         "Positif Aktif": 22338,
         "Sembuh Harian": 2069,
         "Tanpa Gejala": 2882,
         "Bergejala": 11788,
         "Belum Ada Data": 7668,
         "_deepnote_index_column": 473
        },
        {
         "Tanggal": "2021-06-18T00:00:00.000000",
         "Jam": 8,
         "Tanggal Jam": "2021-06-18T08:00:00.000000",
         "Total Pasien": 463552,
         "Sembuh": 431264,
         "Meninggal": 7777,
         "Self Isolation": 14951,
         "Masih Perawatan": 9560,
         "Menunggu Hasil": 0,
         "Tenaga Kesehatan Terinfeksi": 0,
         "Positif Harian": 4737,
         "Positif Aktif": 24511,
         "Sembuh Harian": 2500,
         "Tanpa Gejala": 2531,
         "Bergejala": 10655,
         "Belum Ada Data": 11325,
         "_deepnote_index_column": 474
        },
        {
         "Tanggal": "2021-06-19T00:00:00.000000",
         "Jam": 8,
         "Tanggal Jam": "2021-06-19T08:00:00.000000",
         "Total Pasien": 468447,
         "Sembuh": 433499,
         "Meninggal": 7836,
         "Self Isolation": 16787,
         "Masih Perawatan": 10325,
         "Menunggu Hasil": 0,
         "Tenaga Kesehatan Terinfeksi": 0,
         "Positif Harian": 4895,
         "Positif Aktif": 27112,
         "Sembuh Harian": 2235,
         "Tanpa Gejala": 1840,
         "Bergejala": 9740,
         "Belum Ada Data": 15532,
         "_deepnote_index_column": 475
        },
        {
         "Tanggal": "2021-06-20T00:00:00.000000",
         "Jam": 8,
         "Tanggal Jam": "2021-06-20T08:00:00.000000",
         "Total Pasien": 474029,
         "Sembuh": 435982,
         "Meninggal": 7905,
         "Self Isolation": 19105,
         "Masih Perawatan": 11037,
         "Menunggu Hasil": 0,
         "Tenaga Kesehatan Terinfeksi": 0,
         "Positif Harian": 5582,
         "Positif Aktif": 30142,
         "Sembuh Harian": 2483,
         "Tanpa Gejala": 1325,
         "Bergejala": 8734,
         "Belum Ada Data": 20083,
         "_deepnote_index_column": 476
        },
        {
         "Tanggal": "2021-06-21T00:00:00.000000",
         "Jam": 8,
         "Tanggal Jam": "2021-06-21T08:00:00.000000",
         "Total Pasien": 479043,
         "Sembuh": 439007,
         "Meninggal": 7976,
         "Self Isolation": 20717,
         "Masih Perawatan": 11343,
         "Menunggu Hasil": 0,
         "Tenaga Kesehatan Terinfeksi": 0,
         "Positif Harian": 5014,
         "Positif Aktif": 32060,
         "Sembuh Harian": 3025,
         "Tanpa Gejala": 8039,
         "Bergejala": 19670,
         "Belum Ada Data": 4351,
         "_deepnote_index_column": 477
        },
        {
         "Tanggal": "2021-06-22T00:00:00.000000",
         "Jam": 8,
         "Tanggal Jam": "2021-06-22T08:00:00.000000",
         "Total Pasien": 482264,
         "Sembuh": 442059,
         "Meninggal": 8014,
         "Self Isolation": 21167,
         "Masih Perawatan": 11024,
         "Menunggu Hasil": 0,
         "Tenaga Kesehatan Terinfeksi": 0,
         "Positif Harian": 3221,
         "Positif Aktif": 32191,
         "Sembuh Harian": 3052,
         "Tanpa Gejala": 6351,
         "Bergejala": 16241,
         "Belum Ada Data": 9599,
         "_deepnote_index_column": 478
        },
        {
         "Tanggal": "2021-06-23T00:00:00.000000",
         "Jam": 8,
         "Tanggal Jam": "2021-06-23T08:00:00.000000",
         "Total Pasien": 486957,
         "Sembuh": 443195,
         "Meninggal": 8057,
         "Self Isolation": 22868,
         "Masih Perawatan": 12837,
         "Menunggu Hasil": 0,
         "Tenaga Kesehatan Terinfeksi": 0,
         "Positif Harian": 4693,
         "Positif Aktif": 35705,
         "Sembuh Harian": 1136,
         "Tanpa Gejala": 6163,
         "Bergejala": 15906,
         "Belum Ada Data": 13636,
         "_deepnote_index_column": 479
        },
        {
         "Tanggal": "2021-06-24T00:00:00.000000",
         "Jam": 8,
         "Tanggal Jam": "2021-06-24T08:00:00.000000",
         "Total Pasien": 494462,
         "Sembuh": 445718,
         "Meninggal": 8107,
         "Self Isolation": 26403,
         "Masih Perawatan": 14234,
         "Menunggu Hasil": 0,
         "Tenaga Kesehatan Terinfeksi": 0,
         "Positif Harian": 7505,
         "Positif Aktif": 40637,
         "Sembuh Harian": 2523,
         "Tanpa Gejala": 5567,
         "Bergejala": 15624,
         "Belum Ada Data": 19446,
         "_deepnote_index_column": 480
        },
        {
         "Tanggal": "2021-06-25T00:00:00.000000",
         "Jam": 8,
         "Tanggal Jam": "2021-06-25T08:00:00.000000",
         "Total Pasien": 501396,
         "Sembuh": 448288,
         "Meninggal": 8177,
         "Self Isolation": 29325,
         "Masih Perawatan": 15606,
         "Menunggu Hasil": 0,
         "Tenaga Kesehatan Terinfeksi": 0,
         "Positif Harian": 6934,
         "Positif Aktif": 44931,
         "Sembuh Harian": 2570,
         "Tanpa Gejala": 5170,
         "Bergejala": 14668,
         "Belum Ada Data": 25093,
         "_deepnote_index_column": 481
        },
        {
         "Tanggal": "2021-06-26T00:00:00.000000",
         "Jam": 8,
         "Tanggal Jam": "2021-06-26T08:00:00.000000",
         "Total Pasien": 510667,
         "Sembuh": 451013,
         "Meninggal": 8220,
         "Self Isolation": 33829,
         "Masih Perawatan": 17605,
         "Menunggu Hasil": 0,
         "Tenaga Kesehatan Terinfeksi": 0,
         "Positif Harian": 9271,
         "Positif Aktif": 51434,
         "Sembuh Harian": 2725,
         "Tanpa Gejala": 4381,
         "Bergejala": 14547,
         "Belum Ada Data": 32506,
         "_deepnote_index_column": 482
        },
        {
         "Tanggal": "2021-06-27T00:00:00.000000",
         "Jam": 8,
         "Tanggal Jam": "2021-06-27T08:00:00.000000",
         "Total Pasien": 520061,
         "Sembuh": 454497,
         "Meninggal": 8269,
         "Self Isolation": 38464,
         "Masih Perawatan": 18831,
         "Menunggu Hasil": 0,
         "Tenaga Kesehatan Terinfeksi": 0,
         "Positif Harian": 9394,
         "Positif Aktif": 57295,
         "Sembuh Harian": 3484,
         "Tanpa Gejala": 3484,
         "Bergejala": 13789,
         "Belum Ada Data": 40022,
         "_deepnote_index_column": 483
        },
        {
         "Tanggal": "2021-06-28T00:00:00.000000",
         "Jam": 8,
         "Tanggal Jam": "2021-06-28T08:00:00.000000",
         "Total Pasien": 528409,
         "Sembuh": 457935,
         "Meninggal": 8348,
         "Self Isolation": 42252,
         "Masih Perawatan": 19874,
         "Menunggu Hasil": 0,
         "Tenaga Kesehatan Terinfeksi": 0,
         "Positif Harian": 8348,
         "Positif Aktif": 62126,
         "Sembuh Harian": 3438,
         "Tanpa Gejala": 17144,
         "Bergejala": 29461,
         "Belum Ada Data": 15521,
         "_deepnote_index_column": 484
        },
        {
         "Tanggal": "2021-06-29T00:00:00.000000",
         "Jam": 8,
         "Tanggal Jam": "2021-06-29T08:00:00.000000",
         "Total Pasien": 535788,
         "Sembuh": 461439,
         "Meninggal": 8426,
         "Self Isolation": 45504,
         "Masih Perawatan": 20419,
         "Menunggu Hasil": 0,
         "Tenaga Kesehatan Terinfeksi": 0,
         "Positif Harian": 7379,
         "Positif Aktif": 65923,
         "Sembuh Harian": 3504,
         "Tanpa Gejala": 15706,
         "Bergejala": 28925,
         "Belum Ada Data": 21292,
         "_deepnote_index_column": 485
        },
        {
         "Tanggal": "2021-06-30T00:00:00.000000",
         "Jam": 8,
         "Tanggal Jam": "2021-06-30T08:00:00.000000",
         "Total Pasien": 543468,
         "Sembuh": 464943,
         "Meninggal": 8486,
         "Self Isolation": 47829,
         "Masih Perawatan": 22210,
         "Menunggu Hasil": 0,
         "Tenaga Kesehatan Terinfeksi": 0,
         "Positif Harian": 7680,
         "Positif Aktif": 70039,
         "Sembuh Harian": 3504,
         "Tanpa Gejala": 14940,
         "Bergejala": 27514,
         "Belum Ada Data": 27585,
         "_deepnote_index_column": 486
        },
        {
         "Tanggal": "2021-07-01T00:00:00.000000",
         "Jam": 8,
         "Tanggal Jam": "2021-07-01T08:00:00.000000",
         "Total Pasien": 551009,
         "Sembuh": 468461,
         "Meninggal": 8528,
         "Self Isolation": 49836,
         "Masih Perawatan": 24184,
         "Menunggu Hasil": 0,
         "Tenaga Kesehatan Terinfeksi": 0,
         "Positif Harian": 7541,
         "Positif Aktif": 74020,
         "Sembuh Harian": 3518,
         "Tanpa Gejala": 13902,
         "Bergejala": 26151,
         "Belum Ada Data": 33967,
         "_deepnote_index_column": 487
        },
        {
         "Tanggal": "2021-07-02T00:00:00.000000",
         "Jam": 8,
         "Tanggal Jam": "2021-07-02T08:00:00.000000",
         "Total Pasien": 560408,
         "Sembuh": 473467,
         "Meninggal": 8547,
         "Self Isolation": 53014,
         "Masih Perawatan": 25380,
         "Menunggu Hasil": 0,
         "Tenaga Kesehatan Terinfeksi": 0,
         "Positif Harian": 9399,
         "Positif Aktif": 78394,
         "Sembuh Harian": 5006,
         "Tanpa Gejala": 12103,
         "Bergejala": 25076,
         "Belum Ada Data": 41215,
         "_deepnote_index_column": 488
        },
        {
         "Tanggal": "2021-07-03T00:00:00.000000",
         "Jam": 8,
         "Tanggal Jam": "2021-07-03T08:00:00.000000",
         "Total Pasien": 570110,
         "Sembuh": 479150,
         "Meninggal": 8577,
         "Self Isolation": 54941,
         "Masih Perawatan": 27442,
         "Menunggu Hasil": 0,
         "Tenaga Kesehatan Terinfeksi": 0,
         "Positif Harian": 9702,
         "Positif Aktif": 82383,
         "Sembuh Harian": 5683,
         "Tanpa Gejala": 11310,
         "Bergejala": 21941,
         "Belum Ada Data": 49132,
         "_deepnote_index_column": 489
        },
        {
         "Tanggal": "2021-07-04T00:00:00.000000",
         "Jam": 8,
         "Tanggal Jam": "2021-07-04T08:00:00.000000",
         "Total Pasien": 580595,
         "Sembuh": 484949,
         "Meninggal": 8652,
         "Self Isolation": 59307,
         "Masih Perawatan": 27687,
         "Menunggu Hasil": 0,
         "Tenaga Kesehatan Terinfeksi": 0,
         "Positif Harian": 10485,
         "Positif Aktif": 86994,
         "Sembuh Harian": 5799,
         "Tanpa Gejala": 8799,
         "Bergejala": 20101,
         "Belum Ada Data": 58094,
         "_deepnote_index_column": 490
        },
        {
         "Tanggal": "2021-07-05T00:00:00.000000",
         "Jam": 8,
         "Tanggal Jam": "2021-07-05T08:00:00.000000",
         "Total Pasien": 591498,
         "Sembuh": 491556,
         "Meninggal": 8779,
         "Self Isolation": 62873,
         "Masih Perawatan": 28290,
         "Menunggu Hasil": 0,
         "Tenaga Kesehatan Terinfeksi": 0,
         "Positif Harian": 10903,
         "Positif Aktif": 91163,
         "Sembuh Harian": 6607,
         "Tanpa Gejala": 7598,
         "Bergejala": 20096,
         "Belum Ada Data": 63469,
         "_deepnote_index_column": 491
        },
        {
         "Tanggal": "2021-07-06T00:00:00.000000",
         "Jam": 8,
         "Tanggal Jam": "2021-07-06T08:00:00.000000",
         "Total Pasien": 600937,
         "Sembuh": 497492,
         "Meninggal": 8861,
         "Self Isolation": 65448,
         "Masih Perawatan": 29136,
         "Menunggu Hasil": 0,
         "Tenaga Kesehatan Terinfeksi": 0,
         "Positif Harian": 9439,
         "Positif Aktif": 94584,
         "Sembuh Harian": 5936,
         "Tanpa Gejala": 18451,
         "Bergejala": 60476,
         "Belum Ada Data": 15657,
         "_deepnote_index_column": 492
        },
        {
         "Tanggal": "2021-07-07T00:00:00.000000",
         "Jam": 8,
         "Tanggal Jam": "2021-07-07T08:00:00.000000",
         "Total Pasien": 610303,
         "Sembuh": 501199,
         "Meninggal": 9042,
         "Self Isolation": 69644,
         "Masih Perawatan": 30418,
         "Menunggu Hasil": 0,
         "Tenaga Kesehatan Terinfeksi": 0,
         "Positif Harian": 9366,
         "Positif Aktif": 100062,
         "Sembuh Harian": 3707,
         "Tanpa Gejala": 18376,
         "Bergejala": 57521,
         "Belum Ada Data": 24165,
         "_deepnote_index_column": 493
        },
        {
         "Tanggal": "2021-07-08T00:00:00.000000",
         "Jam": 8,
         "Tanggal Jam": "2021-07-08T08:00:00.000000",
         "Total Pasien": 623277,
         "Sembuh": 512085,
         "Meninggal": 9110,
         "Self Isolation": 72361,
         "Masih Perawatan": 29721,
         "Menunggu Hasil": 0,
         "Tenaga Kesehatan Terinfeksi": 0,
         "Positif Harian": 12974,
         "Positif Aktif": 102082,
         "Sembuh Harian": 10886,
         "Tanpa Gejala": 14748,
         "Bergejala": 50824,
         "Belum Ada Data": 36510,
         "_deepnote_index_column": 494
        },
        {
         "Tanggal": "2021-07-09T00:00:00.000000",
         "Jam": 8,
         "Tanggal Jam": "2021-07-09T08:00:00.000000",
         "Total Pasien": 636389,
         "Sembuh": 526941,
         "Meninggal": 9306,
         "Self Isolation": 73239,
         "Masih Perawatan": 26903,
         "Menunggu Hasil": 0,
         "Tenaga Kesehatan Terinfeksi": 0,
         "Positif Harian": 13112,
         "Positif Aktif": 100142,
         "Sembuh Harian": 14856,
         "Tanpa Gejala": 10095,
         "Bergejala": 40727,
         "Belum Ada Data": 49320,
         "_deepnote_index_column": 495
        },
        {
         "Tanggal": "2021-07-10T00:00:00.000000",
         "Jam": 8,
         "Tanggal Jam": "2021-07-10T08:00:00.000000",
         "Total Pasien": 649309,
         "Sembuh": 543867,
         "Meninggal": 9357,
         "Self Isolation": 71812,
         "Masih Perawatan": 24273,
         "Menunggu Hasil": 0,
         "Tenaga Kesehatan Terinfeksi": 0,
         "Positif Harian": 12920,
         "Positif Aktif": 96085,
         "Sembuh Harian": 16926,
         "Tanpa Gejala": 7999,
         "Bergejala": 26379,
         "Belum Ada Data": 61707,
         "_deepnote_index_column": 496
        },
        {
         "Tanggal": "2021-07-11T00:00:00.000000",
         "Jam": 8,
         "Tanggal Jam": "2021-07-11T08:00:00.000000",
         "Total Pasien": 662442,
         "Sembuh": 564437,
         "Meninggal": 9395,
         "Self Isolation": 68251,
         "Masih Perawatan": 20359,
         "Menunggu Hasil": 0,
         "Tenaga Kesehatan Terinfeksi": 0,
         "Positif Harian": 13133,
         "Positif Aktif": 88610,
         "Sembuh Harian": 20570,
         "Tanpa Gejala": 4769,
         "Bergejala": 12893,
         "Belum Ada Data": 70948,
         "_deepnote_index_column": 497
        },
        {
         "Tanggal": "2021-07-12T00:00:00.000000",
         "Jam": 8,
         "Tanggal Jam": "2021-07-12T08:00:00.000000",
         "Total Pasien": 677061,
         "Sembuh": 584912,
         "Meninggal": 9462,
         "Self Isolation": 66581,
         "Masih Perawatan": 16106,
         "Menunggu Hasil": 0,
         "Tenaga Kesehatan Terinfeksi": 0,
         "Positif Harian": 14619,
         "Positif Aktif": 82687,
         "Sembuh Harian": 20475,
         "Tanpa Gejala": 17649,
         "Bergejala": 25597,
         "Belum Ada Data": 39441,
         "_deepnote_index_column": 498
        },
        {
         "Tanggal": "2021-07-13T00:00:00.000000",
         "Jam": 8,
         "Tanggal Jam": "2021-07-13T08:00:00.000000",
         "Total Pasien": 689243,
         "Sembuh": 589486,
         "Meninggal": 9541,
         "Self Isolation": 71848,
         "Masih Perawatan": 18368,
         "Menunggu Hasil": 0,
         "Tenaga Kesehatan Terinfeksi": 0,
         "Positif Harian": 12182,
         "Positif Aktif": 90216,
         "Sembuh Harian": 4574,
         "Tanpa Gejala": 16957,
         "Bergejala": 22339,
         "Belum Ada Data": 50920,
         "_deepnote_index_column": 499
        },
        {
         "Tanggal": "2021-07-14T00:00:00.000000",
         "Jam": 8,
         "Tanggal Jam": "2021-07-14T08:00:00.000000",
         "Total Pasien": 701910,
         "Sembuh": 592556,
         "Meninggal": 9603,
         "Self Isolation": 78571,
         "Masih Perawatan": 21180,
         "Menunggu Hasil": 0,
         "Tenaga Kesehatan Terinfeksi": 0,
         "Positif Harian": 12667,
         "Positif Aktif": 99751,
         "Sembuh Harian": 3070,
         "Tanpa Gejala": 32752,
         "Bergejala": 54463,
         "Belum Ada Data": 12536,
         "_deepnote_index_column": 500
        },
        {
         "Tanggal": "2021-07-15T00:00:00.000000",
         "Jam": 8,
         "Tanggal Jam": "2021-07-15T08:00:00.000000",
         "Total Pasien": 714601,
         "Sembuh": 595582,
         "Meninggal": 9743,
         "Self Isolation": 86298,
         "Masih Perawatan": 22978,
         "Menunggu Hasil": 0,
         "Tenaga Kesehatan Terinfeksi": 0,
         "Positif Harian": 12691,
         "Positif Aktif": 109276,
         "Sembuh Harian": 3026,
         "Tanpa Gejala": 31922,
         "Bergejala": 52360,
         "Belum Ada Data": 24994,
         "_deepnote_index_column": 501
        }
       ]
      },
      "text/plain": "       Tanggal   Jam         Tanggal Jam  Total Pasien  Sembuh  Meninggal  \\\n0   2020-03-01  18.0 2020-03-01 18:00:00             0       0          0   \n1   2020-03-02  18.0 2020-03-02 18:00:00             0       0          0   \n2   2020-03-03  18.0 2020-03-03 18:00:00             3       0          1   \n3   2020-03-04  18.0 2020-03-04 18:00:00             3       0          1   \n4   2020-03-05  18.0 2020-03-05 18:00:00             7       0          3   \n..         ...   ...                 ...           ...     ...        ...   \n497 2021-07-11   8.0 2021-07-11 08:00:00        662442  564437       9395   \n498 2021-07-12   8.0 2021-07-12 08:00:00        677061  584912       9462   \n499 2021-07-13   8.0 2021-07-13 08:00:00        689243  589486       9541   \n500 2021-07-14   8.0 2021-07-14 08:00:00        701910  592556       9603   \n501 2021-07-15   8.0 2021-07-15 08:00:00        714601  595582       9743   \n\n     Self Isolation  Masih Perawatan  Menunggu Hasil  \\\n0                 0                0             0.0   \n1                 0                0             0.0   \n2                 0                2             0.0   \n3                 0                2             0.0   \n4                 0                4             0.0   \n..              ...              ...             ...   \n497           68251            20359             0.0   \n498           66581            16106             0.0   \n499           71848            18368             0.0   \n500           78571            21180             0.0   \n501           86298            22978             0.0   \n\n     Tenaga Kesehatan Terinfeksi  Positif Harian  Positif Aktif  \\\n0                            0.0               0              0   \n1                            0.0               0              0   \n2                            0.0               3              2   \n3                            0.0               0              2   \n4                            0.0               4              4   \n..                           ...             ...            ...   \n497                          0.0           13133          88610   \n498                          0.0           14619          82687   \n499                          0.0           12182          90216   \n500                          0.0           12667          99751   \n501                          0.0           12691         109276   \n\n     Sembuh Harian  Tanpa Gejala  Bergejala  Belum Ada Data  \n0                0           0.0        0.0             0.0  \n1                0           0.0        0.0             0.0  \n2                0           0.0        0.0             0.0  \n3                0           0.0        0.0             0.0  \n4                0           0.0        0.0             0.0  \n..             ...           ...        ...             ...  \n497          20570        4769.0    12893.0         70948.0  \n498          20475       17649.0    25597.0         39441.0  \n499           4574       16957.0    22339.0         50920.0  \n500           3070       32752.0    54463.0         12536.0  \n501           3026       31922.0    52360.0         24994.0  \n\n[502 rows x 16 columns]",
      "text/html": "<div>\n<style scoped>\n    .dataframe tbody tr th:only-of-type {\n        vertical-align: middle;\n    }\n\n    .dataframe tbody tr th {\n        vertical-align: top;\n    }\n\n    .dataframe thead th {\n        text-align: right;\n    }\n</style>\n<table border=\"1\" class=\"dataframe\">\n  <thead>\n    <tr style=\"text-align: right;\">\n      <th></th>\n      <th>Tanggal</th>\n      <th>Jam</th>\n      <th>Tanggal Jam</th>\n      <th>Total Pasien</th>\n      <th>Sembuh</th>\n      <th>Meninggal</th>\n      <th>Self Isolation</th>\n      <th>Masih Perawatan</th>\n      <th>Menunggu Hasil</th>\n      <th>Tenaga Kesehatan Terinfeksi</th>\n      <th>Positif Harian</th>\n      <th>Positif Aktif</th>\n      <th>Sembuh Harian</th>\n      <th>Tanpa Gejala</th>\n      <th>Bergejala</th>\n      <th>Belum Ada Data</th>\n    </tr>\n  </thead>\n  <tbody>\n    <tr>\n      <th>0</th>\n      <td>2020-03-01</td>\n      <td>18.0</td>\n      <td>2020-03-01 18:00:00</td>\n      <td>0</td>\n      <td>0</td>\n      <td>0</td>\n      <td>0</td>\n      <td>0</td>\n      <td>0.0</td>\n      <td>0.0</td>\n      <td>0</td>\n      <td>0</td>\n      <td>0</td>\n      <td>0.0</td>\n      <td>0.0</td>\n      <td>0.0</td>\n    </tr>\n    <tr>\n      <th>1</th>\n      <td>2020-03-02</td>\n      <td>18.0</td>\n      <td>2020-03-02 18:00:00</td>\n      <td>0</td>\n      <td>0</td>\n      <td>0</td>\n      <td>0</td>\n      <td>0</td>\n      <td>0.0</td>\n      <td>0.0</td>\n      <td>0</td>\n      <td>0</td>\n      <td>0</td>\n      <td>0.0</td>\n      <td>0.0</td>\n      <td>0.0</td>\n    </tr>\n    <tr>\n      <th>2</th>\n      <td>2020-03-03</td>\n      <td>18.0</td>\n      <td>2020-03-03 18:00:00</td>\n      <td>3</td>\n      <td>0</td>\n      <td>1</td>\n      <td>0</td>\n      <td>2</td>\n      <td>0.0</td>\n      <td>0.0</td>\n      <td>3</td>\n      <td>2</td>\n      <td>0</td>\n      <td>0.0</td>\n      <td>0.0</td>\n      <td>0.0</td>\n    </tr>\n    <tr>\n      <th>3</th>\n      <td>2020-03-04</td>\n      <td>18.0</td>\n      <td>2020-03-04 18:00:00</td>\n      <td>3</td>\n      <td>0</td>\n      <td>1</td>\n      <td>0</td>\n      <td>2</td>\n      <td>0.0</td>\n      <td>0.0</td>\n      <td>0</td>\n      <td>2</td>\n      <td>0</td>\n      <td>0.0</td>\n      <td>0.0</td>\n      <td>0.0</td>\n    </tr>\n    <tr>\n      <th>4</th>\n      <td>2020-03-05</td>\n      <td>18.0</td>\n      <td>2020-03-05 18:00:00</td>\n      <td>7</td>\n      <td>0</td>\n      <td>3</td>\n      <td>0</td>\n      <td>4</td>\n      <td>0.0</td>\n      <td>0.0</td>\n      <td>4</td>\n      <td>4</td>\n      <td>0</td>\n      <td>0.0</td>\n      <td>0.0</td>\n      <td>0.0</td>\n    </tr>\n    <tr>\n      <th>...</th>\n      <td>...</td>\n      <td>...</td>\n      <td>...</td>\n      <td>...</td>\n      <td>...</td>\n      <td>...</td>\n      <td>...</td>\n      <td>...</td>\n      <td>...</td>\n      <td>...</td>\n      <td>...</td>\n      <td>...</td>\n      <td>...</td>\n      <td>...</td>\n      <td>...</td>\n      <td>...</td>\n    </tr>\n    <tr>\n      <th>497</th>\n      <td>2021-07-11</td>\n      <td>8.0</td>\n      <td>2021-07-11 08:00:00</td>\n      <td>662442</td>\n      <td>564437</td>\n      <td>9395</td>\n      <td>68251</td>\n      <td>20359</td>\n      <td>0.0</td>\n      <td>0.0</td>\n      <td>13133</td>\n      <td>88610</td>\n      <td>20570</td>\n      <td>4769.0</td>\n      <td>12893.0</td>\n      <td>70948.0</td>\n    </tr>\n    <tr>\n      <th>498</th>\n      <td>2021-07-12</td>\n      <td>8.0</td>\n      <td>2021-07-12 08:00:00</td>\n      <td>677061</td>\n      <td>584912</td>\n      <td>9462</td>\n      <td>66581</td>\n      <td>16106</td>\n      <td>0.0</td>\n      <td>0.0</td>\n      <td>14619</td>\n      <td>82687</td>\n      <td>20475</td>\n      <td>17649.0</td>\n      <td>25597.0</td>\n      <td>39441.0</td>\n    </tr>\n    <tr>\n      <th>499</th>\n      <td>2021-07-13</td>\n      <td>8.0</td>\n      <td>2021-07-13 08:00:00</td>\n      <td>689243</td>\n      <td>589486</td>\n      <td>9541</td>\n      <td>71848</td>\n      <td>18368</td>\n      <td>0.0</td>\n      <td>0.0</td>\n      <td>12182</td>\n      <td>90216</td>\n      <td>4574</td>\n      <td>16957.0</td>\n      <td>22339.0</td>\n      <td>50920.0</td>\n    </tr>\n    <tr>\n      <th>500</th>\n      <td>2021-07-14</td>\n      <td>8.0</td>\n      <td>2021-07-14 08:00:00</td>\n      <td>701910</td>\n      <td>592556</td>\n      <td>9603</td>\n      <td>78571</td>\n      <td>21180</td>\n      <td>0.0</td>\n      <td>0.0</td>\n      <td>12667</td>\n      <td>99751</td>\n      <td>3070</td>\n      <td>32752.0</td>\n      <td>54463.0</td>\n      <td>12536.0</td>\n    </tr>\n    <tr>\n      <th>501</th>\n      <td>2021-07-15</td>\n      <td>8.0</td>\n      <td>2021-07-15 08:00:00</td>\n      <td>714601</td>\n      <td>595582</td>\n      <td>9743</td>\n      <td>86298</td>\n      <td>22978</td>\n      <td>0.0</td>\n      <td>0.0</td>\n      <td>12691</td>\n      <td>109276</td>\n      <td>3026</td>\n      <td>31922.0</td>\n      <td>52360.0</td>\n      <td>24994.0</td>\n    </tr>\n  </tbody>\n</table>\n<p>502 rows × 16 columns</p>\n</div>"
     },
     "metadata": {}
    }
   ],
   "execution_count": 9
  },
  {
   "cell_type": "code",
   "metadata": {
    "tags": [],
    "cell_id": "00004-b87ce607-776f-429d-bc61-2f0fec8abdcf",
    "deepnote_to_be_reexecuted": false,
    "source_hash": "957547ae",
    "execution_start": 1626362158025,
    "execution_millis": 19,
    "deepnote_cell_type": "code"
   },
   "source": "data.info()",
   "outputs": [
    {
     "name": "stdout",
     "text": "<class 'pandas.core.frame.DataFrame'>\nRangeIndex: 502 entries, 0 to 501\nData columns (total 16 columns):\n #   Column                       Non-Null Count  Dtype         \n---  ------                       --------------  -----         \n 0   Tanggal                      502 non-null    datetime64[ns]\n 1   Jam                          502 non-null    float64       \n 2   Tanggal Jam                  502 non-null    datetime64[ns]\n 3   Total Pasien                 502 non-null    int64         \n 4   Sembuh                       502 non-null    int64         \n 5   Meninggal                    502 non-null    int64         \n 6   Self Isolation               502 non-null    int64         \n 7   Masih Perawatan              502 non-null    int64         \n 8   Menunggu Hasil               502 non-null    float64       \n 9   Tenaga Kesehatan Terinfeksi  502 non-null    float64       \n 10  Positif Harian               502 non-null    int64         \n 11  Positif Aktif                502 non-null    int64         \n 12  Sembuh Harian                502 non-null    int64         \n 13  Tanpa Gejala                 502 non-null    float64       \n 14  Bergejala                    502 non-null    float64       \n 15  Belum Ada Data               502 non-null    float64       \ndtypes: datetime64[ns](2), float64(6), int64(8)\nmemory usage: 62.9 KB\n",
     "output_type": "stream"
    }
   ],
   "execution_count": 10
  },
  {
   "cell_type": "code",
   "metadata": {
    "tags": [],
    "cell_id": "00004-dfa284a5-ab3a-43e8-8b8e-709fbb8e1724",
    "deepnote_to_be_reexecuted": false,
    "source_hash": "998af25e",
    "execution_start": 1626362158026,
    "execution_millis": 18,
    "deepnote_cell_type": "code"
   },
   "source": "data[\"Positif Harian\"].mean()",
   "outputs": [
    {
     "output_type": "execute_result",
     "execution_count": 11,
     "data": {
      "text/plain": "1423.5079681274901"
     },
     "metadata": {}
    }
   ],
   "execution_count": 11
  },
  {
   "cell_type": "code",
   "metadata": {
    "tags": [],
    "cell_id": "00005-6216336a-89c4-47a1-b781-646260806a84",
    "deepnote_to_be_reexecuted": false,
    "source_hash": "ad46ee82",
    "execution_start": 1626362158027,
    "execution_millis": 24,
    "deepnote_cell_type": "code"
   },
   "source": "data[\"Positif Harian\"].median()",
   "outputs": [
    {
     "output_type": "execute_result",
     "execution_count": 12,
     "data": {
      "text/plain": "889.0"
     },
     "metadata": {}
    }
   ],
   "execution_count": 12
  },
  {
   "cell_type": "code",
   "metadata": {
    "tags": [],
    "cell_id": "00006-f7b57da5-c465-4c5a-a198-5c7f4f2f90fb",
    "deepnote_to_be_reexecuted": false,
    "source_hash": "96b9de34",
    "execution_start": 1626362158075,
    "execution_millis": 1,
    "deepnote_cell_type": "code"
   },
   "source": "categorical_positif_harian = data[\"Positif Harian\"].astype(str)",
   "outputs": [],
   "execution_count": 13
  },
  {
   "cell_type": "code",
   "metadata": {
    "tags": [],
    "cell_id": "00007-73f1c365-9317-48dc-a3ad-974cb0236fed",
    "deepnote_to_be_reexecuted": false,
    "source_hash": "b833011b",
    "execution_start": 1626362158076,
    "execution_millis": 7,
    "deepnote_cell_type": "code"
   },
   "source": "categorical_positif_harian.describe()",
   "outputs": [
    {
     "output_type": "execute_result",
     "execution_count": 14,
     "data": {
      "text/plain": "count     502\nunique    436\ntop         0\nfreq        7\nName: Positif Harian, dtype: object"
     },
     "metadata": {}
    }
   ],
   "execution_count": 14
  },
  {
   "cell_type": "code",
   "metadata": {
    "tags": [],
    "cell_id": "00007-d6edc816-684e-4cad-a8b2-c3c52353cd46",
    "deepnote_to_be_reexecuted": false,
    "source_hash": "8e9bf252",
    "execution_start": 1626362158077,
    "execution_millis": 6,
    "deepnote_cell_type": "code"
   },
   "source": "categorical_positif_harian.mode()",
   "outputs": [
    {
     "output_type": "execute_result",
     "execution_count": 15,
     "data": {
      "text/plain": "0    0\ndtype: object"
     },
     "metadata": {}
    }
   ],
   "execution_count": 15
  },
  {
   "cell_type": "code",
   "metadata": {
    "tags": [],
    "cell_id": "00009-d6583de5-2aee-4854-84b5-ffb6f4f1b076",
    "deepnote_to_be_reexecuted": false,
    "source_hash": "e6c863f1",
    "execution_start": 1626362158104,
    "execution_millis": 11,
    "deepnote_cell_type": "code"
   },
   "source": "data[\"Positif Harian\"].min()",
   "outputs": [
    {
     "output_type": "execute_result",
     "execution_count": 16,
     "data": {
      "text/plain": "0"
     },
     "metadata": {}
    }
   ],
   "execution_count": 16
  },
  {
   "cell_type": "code",
   "metadata": {
    "tags": [],
    "cell_id": "00010-9714a1d2-8df2-4bc0-a302-d37826b4661a",
    "deepnote_to_be_reexecuted": false,
    "source_hash": "c3324b44",
    "execution_start": 1626362158105,
    "execution_millis": 10,
    "deepnote_cell_type": "code"
   },
   "source": "data[\"Positif Harian\"].max()",
   "outputs": [
    {
     "output_type": "execute_result",
     "execution_count": 17,
     "data": {
      "text/plain": "14619"
     },
     "metadata": {}
    }
   ],
   "execution_count": 17
  },
  {
   "cell_type": "code",
   "metadata": {
    "tags": [],
    "cell_id": "00011-627fb2f2-991d-43ed-bbe9-1dbcf61b05a3",
    "deepnote_to_be_reexecuted": false,
    "source_hash": "a895ba62",
    "execution_start": 1626362158106,
    "execution_millis": 10,
    "deepnote_cell_type": "code"
   },
   "source": "data_col_numeric = data.select_dtypes(include=['int64']).columns.tolist()\ndata_col_numeric",
   "outputs": [
    {
     "output_type": "execute_result",
     "execution_count": 18,
     "data": {
      "text/plain": "['Total Pasien',\n 'Sembuh',\n 'Meninggal',\n 'Self Isolation',\n 'Masih Perawatan',\n 'Positif Harian',\n 'Positif Aktif',\n 'Sembuh Harian']"
     },
     "metadata": {}
    }
   ],
   "execution_count": 18
  },
  {
   "cell_type": "code",
   "metadata": {
    "tags": [],
    "cell_id": "00013-44ff6bb7-0328-4f78-b46e-1db87a3c7c8c",
    "deepnote_to_be_reexecuted": false,
    "source_hash": "11df827d",
    "execution_start": 1626362158113,
    "execution_millis": 8,
    "deepnote_cell_type": "code"
   },
   "source": "data_col_float = data.select_dtypes(include=['float64']).columns.tolist()\ndata_col_float",
   "outputs": [
    {
     "output_type": "execute_result",
     "execution_count": 19,
     "data": {
      "text/plain": "['Jam',\n 'Menunggu Hasil',\n 'Tenaga Kesehatan Terinfeksi',\n 'Tanpa Gejala',\n 'Bergejala',\n 'Belum Ada Data']"
     },
     "metadata": {}
    }
   ],
   "execution_count": 19
  },
  {
   "cell_type": "code",
   "metadata": {
    "tags": [],
    "cell_id": "00012-2f3e643f-6a7a-4681-8e1a-e1d8b03a74d9",
    "deepnote_to_be_reexecuted": false,
    "source_hash": "ab75fe5b",
    "execution_start": 1626362158170,
    "execution_millis": 0,
    "deepnote_cell_type": "code"
   },
   "source": "def boxplot_numerical(numerical):\n    plt.figure(figsize = (10, 6))\n    sns.boxplot(data[numerical]).set_title(numerical)\n    median = data[numerical].median()\n    FirstQuartile = data[numerical].quantile(0.25)\n    ThirdQuartile = data[numerical].quantile(0.75)\n    Interquartile = scipy.stats.iqr(data[numerical])\n    UpperFence = ThirdQuartile + (1.5*Interquartile)\n    LowerFence = FirstQuartile - (1.5*Interquartile)\n\n    print ('==================================')\n    print ('Statistical Data Summary')\n    print ('==================================')\n    print ('Median : ', median)\n    print ('1st Quartile : ', FirstQuartile)\n    print ('3rd Quartile : ', ThirdQuartile)\n    print ('IQR : ', Interquartile)\n    print ('Upper Fence : ', UpperFence)\n    print ('Lower Fence : ', LowerFence)\n    print ('==================================')\n\n    UpperOutliers = []\n    LowerOutliers = []\n    StatusUpperOutliers = False\n    StatusLowerOutliers = False\n    for x in data[numerical]:\n      if (x > UpperFence):\n        UpperOutliers.append(x)\n        StatusUpperOutliers = True\n      elif (x < LowerFence):\n        LowerOutliers.append(x)\n        StatusLowerOutliers = True\n    print ()\n    print ('==================================')\n    print ('Outliers Data Detection')\n    print ('==================================')\n    print ('Upper Outliers Data : ', sorted(UpperOutliers, reverse=False))\n    print ('Upper Outliers Status : ', StatusUpperOutliers)\n    print ('Lower Outliers Data : ', sorted(LowerOutliers, reverse=False))\n    print ('Lower Outliers Status : ', StatusLowerOutliers)\n\n    plt.figure(figsize = (10, 6))\n    sns.boxplot(data[numerical], showfliers = False).set_title(numerical + ' No Outliers')",
   "outputs": [],
   "execution_count": 20
  },
  {
   "cell_type": "code",
   "metadata": {
    "tags": [],
    "cell_id": "00013-29f9f503-1ec5-4f07-8684-f573a94b9da9",
    "deepnote_to_be_reexecuted": false,
    "source_hash": "da286c65",
    "execution_start": 1626362158171,
    "execution_millis": 396,
    "deepnote_cell_type": "code"
   },
   "source": "boxplot_numerical(data_col_numeric[0])",
   "outputs": [
    {
     "name": "stdout",
     "text": "==================================\nStatistical Data Summary\n==================================\nMedian :  110642.0\n1st Quartile :  12103.0\n3rd Quartile :  357273.75\nIQR :  345170.75\nUpper Fence :  875029.875\nLower Fence :  -505653.125\n==================================\n\n==================================\nOutliers Data Detection\n==================================\nUpper Outliers Data :  []\nUpper Outliers Status :  False\nLower Outliers Data :  []\nLower Outliers Status :  False\n",
     "output_type": "stream"
    },
    {
     "data": {
      "text/plain": "<Figure size 720x432 with 1 Axes>",
      "image/png": "[encoded data removed]"
     },
     "metadata": {
      "needs_background": "light",
      "image/png": {
       "width": 575,
       "height": 387
      }
     },
     "output_type": "display_data"
    },
    {
     "data": {
      "text/plain": "<Figure size 720x432 with 1 Axes>",
      "image/png": "[encoded data removed]"
     },
     "metadata": {
      "needs_background": "light",
      "image/png": {
       "width": 575,
       "height": 387
      }
     },
     "output_type": "display_data"
    }
   ],
   "execution_count": 21
  },
  {
   "cell_type": "code",
   "metadata": {
    "tags": [],
    "cell_id": "00014-21275a10-e5ca-42ab-8c0e-d60b9a5a3290",
    "deepnote_to_be_reexecuted": false,
    "source_hash": "f6b4e09c",
    "execution_start": 1626362158577,
    "execution_millis": 406,
    "deepnote_cell_type": "code"
   },
   "source": "boxplot_numerical(data_col_numeric[1])",
   "outputs": [
    {
     "name": "stdout",
     "text": "==================================\nStatistical Data Summary\n==================================\nMedian :  100323.0\n1st Quartile :  7448.5\n3rd Quartile :  343089.75\nIQR :  335641.25\nUpper Fence :  846551.625\nLower Fence :  -496013.375\n==================================\n\n==================================\nOutliers Data Detection\n==================================\nUpper Outliers Data :  []\nUpper Outliers Status :  False\nLower Outliers Data :  []\nLower Outliers Status :  False\n",
     "output_type": "stream"
    },
    {
     "data": {
      "text/plain": "<Figure size 720x432 with 1 Axes>",
      "image/png": "[encoded data removed]"
     },
     "metadata": {
      "needs_background": "light",
      "image/png": {
       "width": 575,
       "height": 387
      }
     },
     "output_type": "display_data"
    },
    {
     "data": {
      "text/plain": "<Figure size 720x432 with 1 Axes>",
      "image/png": "[encoded data removed]"
     },
     "metadata": {
      "needs_background": "light",
      "image/png": {
       "width": 575,
       "height": 387
      }
     },
     "output_type": "display_data"
    }
   ],
   "execution_count": 22
  },
  {
   "cell_type": "code",
   "metadata": {
    "tags": [],
    "cell_id": "00015-1c828dcf-6c79-4890-9e6c-298654a75034",
    "deepnote_to_be_reexecuted": false,
    "source_hash": "6b3c8452",
    "execution_start": 1626362159092,
    "execution_millis": 303,
    "deepnote_cell_type": "code"
   },
   "source": "boxplot_numerical(data_col_numeric[2])",
   "outputs": [
    {
     "name": "stdout",
     "text": "==================================\nStatistical Data Summary\n==================================\nMedian :  2353.5\n1st Quartile :  652.0\n3rd Quartile :  5962.5\nIQR :  5310.5\nUpper Fence :  13928.25\nLower Fence :  -7313.75\n==================================\n\n==================================\nOutliers Data Detection\n==================================\nUpper Outliers Data :  []\nUpper Outliers Status :  False\nLower Outliers Data :  []\nLower Outliers Status :  False\n",
     "output_type": "stream"
    },
    {
     "data": {
      "text/plain": "<Figure size 720x432 with 1 Axes>",
      "image/png": "[encoded data removed]"
     },
     "metadata": {
      "needs_background": "light",
      "image/png": {
       "width": 579,
       "height": 387
      }
     },
     "output_type": "display_data"
    },
    {
     "data": {
      "text/plain": "<Figure size 720x432 with 1 Axes>",
      "image/png": "[encoded data removed]"
     },
     "metadata": {
      "needs_background": "light",
      "image/png": {
       "width": 579,
       "height": 387
      }
     },
     "output_type": "display_data"
    }
   ],
   "execution_count": 23
  },
  {
   "cell_type": "code",
   "metadata": {
    "tags": [],
    "cell_id": "00016-874593de-c128-4000-9a9b-687fbcec4d43",
    "deepnote_to_be_reexecuted": false,
    "source_hash": "8904637",
    "execution_start": 1626362159413,
    "execution_millis": 389,
    "deepnote_cell_type": "code"
   },
   "source": "boxplot_numerical(data_col_numeric[3])",
   "outputs": [
    {
     "name": "stdout",
     "text": "==================================\nStatistical Data Summary\n==================================\nMedian :  5022.5\n1st Quartile :  3006.25\n3rd Quartile :  8985.5\nIQR :  5979.25\nUpper Fence :  17954.375\nLower Fence :  -5962.625\n==================================\n\n==================================\nOutliers Data Detection\n==================================\nUpper Outliers Data :  [17958, 18174, 18473, 18528, 18657, 18925, 19105, 19272, 19325, 19381, 19432, 19554, 19824, 19869, 20419, 20539, 20717, 21167, 21191, 21863, 22868, 26403, 29325, 33829, 38464, 42252, 45504, 47829, 49836, 53014, 54941, 59307, 62873, 65448, 66581, 68251, 69644, 71812, 71848, 72361, 73239, 78571, 86298]\nUpper Outliers Status :  True\nLower Outliers Data :  []\nLower Outliers Status :  False\n",
     "output_type": "stream"
    },
    {
     "data": {
      "text/plain": "<Figure size 720x432 with 1 Axes>",
      "image/png": "[encoded data removed]"
     },
     "metadata": {
      "needs_background": "light",
      "image/png": {
       "width": 575,
       "height": 387
      }
     },
     "output_type": "display_data"
    },
    {
     "data": {
      "text/plain": "<Figure size 720x432 with 1 Axes>",
      "image/png": "[encoded data removed]"
     },
     "metadata": {
      "needs_background": "light",
      "image/png": {
       "width": 575,
       "height": 387
      }
     },
     "output_type": "display_data"
    }
   ],
   "execution_count": 24
  },
  {
   "cell_type": "code",
   "metadata": {
    "tags": [],
    "cell_id": "00017-ff991694-d700-4ce5-8f01-681ffba4015c",
    "deepnote_to_be_reexecuted": false,
    "source_hash": "f29b300c",
    "execution_start": 1626362159816,
    "execution_millis": 385,
    "deepnote_cell_type": "code"
   },
   "source": "boxplot_numerical(data_col_numeric[4])",
   "outputs": [
    {
     "name": "stdout",
     "text": "==================================\nStatistical Data Summary\n==================================\nMedian :  2850.0\n1st Quartile :  1869.5\n3rd Quartile :  4403.0\nIQR :  2533.5\nUpper Fence :  8203.25\nLower Fence :  -1930.75\n==================================\n\n==================================\nOutliers Data Detection\n==================================\nUpper Outliers Data :  [8540, 8756, 9284, 9374, 9560, 9888, 10325, 11024, 11037, 11343, 12837, 14234, 15606, 16106, 17605, 18368, 18831, 19874, 20359, 20419, 21180, 22210, 22978, 24184, 24273, 25380, 26903, 27442, 27687, 28290, 29136, 29721, 30418]\nUpper Outliers Status :  True\nLower Outliers Data :  []\nLower Outliers Status :  False\n",
     "output_type": "stream"
    },
    {
     "data": {
      "text/plain": "<Figure size 720x432 with 1 Axes>",
      "image/png": "[encoded data removed]"
     },
     "metadata": {
      "needs_background": "light",
      "image/png": {
       "width": 575,
       "height": 387
      }
     },
     "output_type": "display_data"
    },
    {
     "data": {
      "text/plain": "<Figure size 720x432 with 1 Axes>",
      "image/png": "[encoded data removed]"
     },
     "metadata": {
      "needs_background": "light",
      "image/png": {
       "width": 575,
       "height": 387
      }
     },
     "output_type": "display_data"
    }
   ],
   "execution_count": 25
  },
  {
   "cell_type": "code",
   "metadata": {
    "tags": [],
    "cell_id": "00018-046b73ea-fe96-489d-a6a9-39d37112fa36",
    "deepnote_to_be_reexecuted": false,
    "source_hash": "5e441906",
    "execution_start": 1626362160215,
    "execution_millis": 365,
    "deepnote_cell_type": "code"
   },
   "source": "boxplot_numerical(data_col_numeric[5])",
   "outputs": [
    {
     "name": "stdout",
     "text": "==================================\nStatistical Data Summary\n==================================\nMedian :  889.0\n1st Quartile :  217.0\n3rd Quartile :  1443.75\nIQR :  1226.75\nUpper Fence :  3283.875\nLower Fence :  -1623.125\n==================================\n\n==================================\nOutliers Data Detection\n==================================\nUpper Outliers Data :  [3285, 3309, 3340, 3362, 3395, 3437, 3448, 3474, 3476, 3491, 3512, 3536, 3567, 3614, 3632, 3786, 3792, 3810, 4144, 4213, 4693, 4737, 4895, 5014, 5582, 6934, 7379, 7505, 7541, 7680, 8348, 9271, 9366, 9394, 9399, 9439, 9702, 10485, 10903, 12182, 12667, 12691, 12920, 12974, 13112, 13133, 14619]\nUpper Outliers Status :  True\nLower Outliers Data :  []\nLower Outliers Status :  False\n",
     "output_type": "stream"
    },
    {
     "data": {
      "text/plain": "<Figure size 720x432 with 1 Axes>",
      "image/png": "[encoded data removed]"
     },
     "metadata": {
      "needs_background": "light",
      "image/png": {
       "width": 575,
       "height": 387
      }
     },
     "output_type": "display_data"
    },
    {
     "data": {
      "text/plain": "<Figure size 720x432 with 1 Axes>",
      "image/png": "[encoded data removed]"
     },
     "metadata": {
      "needs_background": "light",
      "image/png": {
       "width": 575,
       "height": 387
      }
     },
     "output_type": "display_data"
    }
   ],
   "execution_count": 26
  },
  {
   "cell_type": "code",
   "metadata": {
    "tags": [],
    "cell_id": "00019-85eef2cf-0bb1-49a7-82a4-4d962ce0e0e0",
    "deepnote_to_be_reexecuted": false,
    "source_hash": "2a1ff3d7",
    "execution_start": 1626362160598,
    "execution_millis": 373,
    "deepnote_cell_type": "code"
   },
   "source": "boxplot_numerical(data_col_numeric[6])",
   "outputs": [
    {
     "name": "stdout",
     "text": "==================================\nStatistical Data Summary\n==================================\nMedian :  7806.0\n1st Quartile :  4507.5\n3rd Quartile :  12926.5\nIQR :  8419.0\nUpper Fence :  25555.0\nLower Fence :  -8121.0\n==================================\n\n==================================\nOutliers Data Detection\n==================================\nUpper Outliers Data :  [26029, 26031, 27112, 30142, 32060, 32191, 35705, 40637, 44931, 51434, 57295, 62126, 65923, 70039, 74020, 78394, 82383, 82687, 86994, 88610, 90216, 91163, 94584, 96085, 99751, 100062, 100142, 102082, 109276]\nUpper Outliers Status :  True\nLower Outliers Data :  []\nLower Outliers Status :  False\n",
     "output_type": "stream"
    },
    {
     "data": {
      "text/plain": "<Figure size 720x432 with 1 Axes>",
      "image/png": "[encoded data removed]"
     },
     "metadata": {
      "needs_background": "light",
      "image/png": {
       "width": 575,
       "height": 387
      }
     },
     "output_type": "display_data"
    },
    {
     "data": {
      "text/plain": "<Figure size 720x432 with 1 Axes>",
      "image/png": "[encoded data removed]"
     },
     "metadata": {
      "needs_background": "light",
      "image/png": {
       "width": 575,
       "height": 387
      }
     },
     "output_type": "display_data"
    }
   ],
   "execution_count": 27
  },
  {
   "cell_type": "code",
   "metadata": {
    "tags": [],
    "cell_id": "00020-23f09f3a-35fd-4778-90a7-8e8185ffe0c2",
    "deepnote_to_be_reexecuted": false,
    "source_hash": "70ddadca",
    "execution_start": 1626362160975,
    "execution_millis": 363,
    "deepnote_cell_type": "code"
   },
   "source": "boxplot_numerical(data_col_numeric[7])",
   "outputs": [
    {
     "name": "stdout",
     "text": "==================================\nStatistical Data Summary\n==================================\nMedian :  858.0\n1st Quartile :  161.0\n3rd Quartile :  1310.75\nIQR :  1149.75\nUpper Fence :  3035.375\nLower Fence :  -1563.625\n==================================\n\n==================================\nOutliers Data Detection\n==================================\nUpper Outliers Data :  [3052, 3070, 3244, 3255, 3416, 3438, 3484, 3504, 3504, 3518, 3568, 3674, 3707, 3771, 4005, 4313, 4325, 4342, 4345, 4349, 4527, 4574, 4610, 5006, 5683, 5757, 5799, 5936, 6607, 10886, 14856, 16926, 20475, 20570]\nUpper Outliers Status :  True\nLower Outliers Data :  []\nLower Outliers Status :  False\n",
     "output_type": "stream"
    },
    {
     "data": {
      "text/plain": "<Figure size 720x432 with 1 Axes>",
      "image/png": "[encoded data removed]"
     },
     "metadata": {
      "needs_background": "light",
      "image/png": {
       "width": 575,
       "height": 387
      }
     },
     "output_type": "display_data"
    },
    {
     "data": {
      "text/plain": "<Figure size 720x432 with 1 Axes>",
      "image/png": "[encoded data removed]"
     },
     "metadata": {
      "needs_background": "light",
      "image/png": {
       "width": 575,
       "height": 387
      }
     },
     "output_type": "display_data"
    }
   ],
   "execution_count": 28
  },
  {
   "cell_type": "code",
   "metadata": {
    "tags": [],
    "cell_id": "00023-c4276bdf-4d71-465d-b0f2-8e7c24caac81",
    "deepnote_to_be_reexecuted": false,
    "source_hash": "748ec35d",
    "execution_start": 1626362161334,
    "execution_millis": 375,
    "deepnote_cell_type": "code"
   },
   "source": "boxplot_numerical(data_col_float[0])",
   "outputs": [
    {
     "name": "stdout",
     "text": "==================================\nStatistical Data Summary\n==================================\nMedian :  8.0\n1st Quartile :  8.0\n3rd Quartile :  8.0\nIQR :  0.0\nUpper Fence :  8.0\nLower Fence :  8.0\n==================================\n\n==================================\nOutliers Data Detection\n==================================\nUpper Outliers Data :  [18.0, 18.0, 18.0, 18.0, 18.0, 18.0, 18.0, 18.0, 18.0, 18.0, 18.0, 18.0, 18.0, 18.0, 18.0, 18.0, 18.0, 18.0, 18.0, 18.0, 18.0, 18.0, 18.0, 18.0, 18.0, 18.0, 18.0, 18.0, 18.0, 18.0, 18.0, 18.0, 18.0, 18.0, 18.0, 18.0, 18.0]\nUpper Outliers Status :  True\nLower Outliers Data :  []\nLower Outliers Status :  False\n",
     "output_type": "stream"
    },
    {
     "data": {
      "text/plain": "<Figure size 720x432 with 1 Axes>",
      "image/png": "[encoded data removed]"
     },
     "metadata": {
      "needs_background": "light",
      "image/png": {
       "width": 575,
       "height": 387
      }
     },
     "output_type": "display_data"
    },
    {
     "data": {
      "text/plain": "<Figure size 720x432 with 1 Axes>",
      "image/png": "[encoded data removed]"
     },
     "metadata": {
      "needs_background": "light",
      "image/png": {
       "width": 575,
       "height": 387
      }
     },
     "output_type": "display_data"
    }
   ],
   "execution_count": 29
  },
  {
   "cell_type": "code",
   "metadata": {
    "tags": [],
    "cell_id": "00024-7cea19b3-2836-49ff-b467-01aae1291a51",
    "deepnote_to_be_reexecuted": false,
    "source_hash": "644c241",
    "execution_start": 1626362161707,
    "execution_millis": 407,
    "deepnote_cell_type": "code"
   },
   "source": "boxplot_numerical(data_col_float[1])",
   "outputs": [
    {
     "name": "stdout",
     "text": "==================================\nStatistical Data Summary\n==================================\nMedian :  0.0\n1st Quartile :  0.0\n3rd Quartile :  0.0\nIQR :  0.0\nUpper Fence :  0.0\nLower Fence :  0.0\n==================================\n\n==================================\nOutliers Data Detection\n==================================\nUpper Outliers Data :  [345.0, 375.0, 393.0, 431.0, 445.0, 479.0]\nUpper Outliers Status :  True\nLower Outliers Data :  []\nLower Outliers Status :  False\n",
     "output_type": "stream"
    },
    {
     "data": {
      "text/plain": "<Figure size 720x432 with 1 Axes>",
      "image/png": "[encoded data removed]"
     },
     "metadata": {
      "needs_background": "light",
      "image/png": {
       "width": 582,
       "height": 387
      }
     },
     "output_type": "display_data"
    },
    {
     "data": {
      "text/plain": "<Figure size 720x432 with 1 Axes>",
      "image/png": "[encoded data removed]"
     },
     "metadata": {
      "needs_background": "light",
      "image/png": {
       "width": 575,
       "height": 387
      }
     },
     "output_type": "display_data"
    }
   ],
   "execution_count": 30
  },
  {
   "cell_type": "code",
   "metadata": {
    "tags": [],
    "cell_id": "00025-d65eef43-8296-46ac-bf65-d9f77d15e65f",
    "deepnote_to_be_reexecuted": false,
    "source_hash": "55a6abf5",
    "execution_start": 1626362162118,
    "execution_millis": 375,
    "deepnote_cell_type": "code"
   },
   "source": "boxplot_numerical(data_col_float[2])",
   "outputs": [
    {
     "name": "stdout",
     "text": "==================================\nStatistical Data Summary\n==================================\nMedian :  0.0\n1st Quartile :  0.0\n3rd Quartile :  0.0\nIQR :  0.0\nUpper Fence :  0.0\nLower Fence :  0.0\n==================================\n\n==================================\nOutliers Data Detection\n==================================\nUpper Outliers Data :  [25.0, 28.0, 37.0, 42.0, 44.0, 47.0]\nUpper Outliers Status :  True\nLower Outliers Data :  []\nLower Outliers Status :  False\n",
     "output_type": "stream"
    },
    {
     "data": {
      "text/plain": "<Figure size 720x432 with 1 Axes>",
      "image/png": "[encoded data removed]"
     },
     "metadata": {
      "needs_background": "light",
      "image/png": {
       "width": 575,
       "height": 387
      }
     },
     "output_type": "display_data"
    },
    {
     "data": {
      "text/plain": "<Figure size 720x432 with 1 Axes>",
      "image/png": "[encoded data removed]"
     },
     "metadata": {
      "needs_background": "light",
      "image/png": {
       "width": 575,
       "height": 387
      }
     },
     "output_type": "display_data"
    }
   ],
   "execution_count": 31
  },
  {
   "cell_type": "code",
   "metadata": {
    "tags": [],
    "cell_id": "00026-1fa4c112-dcdf-4bfb-a46f-56b9a639d46e",
    "deepnote_to_be_reexecuted": false,
    "source_hash": "5bb3a26",
    "execution_start": 1626362162505,
    "execution_millis": 398,
    "deepnote_cell_type": "code"
   },
   "source": "boxplot_numerical(data_col_float[3])",
   "outputs": [
    {
     "name": "stdout",
     "text": "==================================\nStatistical Data Summary\n==================================\nMedian :  2133.0\n1st Quartile :  0.0\n3rd Quartile :  6705.0\nIQR :  6705.0\nUpper Fence :  16762.5\nLower Fence :  -10057.5\n==================================\n\n==================================\nOutliers Data Detection\n==================================\nUpper Outliers Data :  [16820.0, 16957.0, 17099.0, 17144.0, 17300.0, 17500.0, 17649.0, 18100.0, 18376.0, 18399.0, 18451.0, 18688.0, 18788.0, 19088.0, 19308.0, 20500.0, 20500.0, 20500.0, 20991.0, 21491.0, 23553.0, 23953.0, 24507.0, 25000.0, 25600.0, 26005.0, 26005.0, 27502.0, 28502.0, 28902.0, 29253.0, 29553.0, 31922.0, 32752.0]\nUpper Outliers Status :  True\nLower Outliers Data :  []\nLower Outliers Status :  False\n",
     "output_type": "stream"
    },
    {
     "data": {
      "text/plain": "<Figure size 720x432 with 1 Axes>",
      "image/png": "[encoded data removed]"
     },
     "metadata": {
      "needs_background": "light",
      "image/png": {
       "width": 575,
       "height": 387
      }
     },
     "output_type": "display_data"
    },
    {
     "data": {
      "text/plain": "<Figure size 720x432 with 1 Axes>",
      "image/png": "[encoded data removed]"
     },
     "metadata": {
      "needs_background": "light",
      "image/png": {
       "width": 575,
       "height": 387
      }
     },
     "output_type": "display_data"
    }
   ],
   "execution_count": 32
  },
  {
   "cell_type": "code",
   "metadata": {
    "tags": [],
    "cell_id": "00027-91d09a9e-6824-4b3d-b4a5-edfaa79b466d",
    "deepnote_to_be_reexecuted": false,
    "source_hash": "68b21ea5",
    "execution_start": 1626362162907,
    "execution_millis": 375,
    "deepnote_cell_type": "code"
   },
   "source": "boxplot_numerical(data_col_float[4])",
   "outputs": [
    {
     "name": "stdout",
     "text": "==================================\nStatistical Data Summary\n==================================\nMedian :  4749.0\n1st Quartile :  0.0\n3rd Quartile :  7692.0\nIQR :  7692.0\nUpper Fence :  19230.0\nLower Fence :  -11538.0\n==================================\n\n==================================\nOutliers Data Detection\n==================================\nUpper Outliers Data :  [19670.0, 19733.0, 20096.0, 20101.0, 21941.0, 22339.0, 25076.0, 25597.0, 26151.0, 26379.0, 27514.0, 28925.0, 29461.0, 40727.0, 50824.0, 52360.0, 54463.0, 57521.0, 60476.0]\nUpper Outliers Status :  True\nLower Outliers Data :  []\nLower Outliers Status :  False\n",
     "output_type": "stream"
    },
    {
     "data": {
      "text/plain": "<Figure size 720x432 with 1 Axes>",
      "image/png": "[encoded data removed]"
     },
     "metadata": {
      "needs_background": "light",
      "image/png": {
       "width": 575,
       "height": 387
      }
     },
     "output_type": "display_data"
    },
    {
     "data": {
      "text/plain": "<Figure size 720x432 with 1 Axes>",
      "image/png": "[encoded data removed]"
     },
     "metadata": {
      "needs_background": "light",
      "image/png": {
       "width": 575,
       "height": 387
      }
     },
     "output_type": "display_data"
    }
   ],
   "execution_count": 33
  },
  {
   "cell_type": "code",
   "metadata": {
    "tags": [],
    "cell_id": "00028-59ba9705-a2c2-47df-a5b3-bfed1bef5a52",
    "deepnote_to_be_reexecuted": false,
    "source_hash": "769cc239",
    "execution_start": 1626362163374,
    "execution_millis": 384,
    "deepnote_cell_type": "code"
   },
   "source": "boxplot_numerical(data_col_float[5])",
   "outputs": [
    {
     "name": "stdout",
     "text": "==================================\nStatistical Data Summary\n==================================\nMedian :  1133.0\n1st Quartile :  0.0\n3rd Quartile :  3137.5\nIQR :  3137.5\nUpper Fence :  7843.75\nLower Fence :  -4706.25\n==================================\n\n==================================\nOutliers Data Detection\n==================================\nUpper Outliers Data :  [7894.0, 7928.0, 7940.0, 7944.0, 8565.0, 8723.0, 8748.0, 9217.0, 9599.0, 9975.0, 10760.0, 11296.0, 11325.0, 12536.0, 13636.0, 15521.0, 15532.0, 15657.0, 19446.0, 20083.0, 21292.0, 24165.0, 24994.0, 25093.0, 27585.0, 32506.0, 33967.0, 36510.0, 39441.0, 40022.0, 41215.0, 49132.0, 49320.0, 50920.0, 58094.0, 61707.0, 63469.0, 70948.0]\nUpper Outliers Status :  True\nLower Outliers Data :  []\nLower Outliers Status :  False\n",
     "output_type": "stream"
    },
    {
     "data": {
      "text/plain": "<Figure size 720x432 with 1 Axes>",
      "image/png": "[encoded data removed]"
     },
     "metadata": {
      "needs_background": "light",
      "image/png": {
       "width": 575,
       "height": 387
      }
     },
     "output_type": "display_data"
    },
    {
     "data": {
      "text/plain": "<Figure size 720x432 with 1 Axes>",
      "image/png": "[encoded data removed]"
     },
     "metadata": {
      "needs_background": "light",
      "image/png": {
       "width": 577,
       "height": 387
      }
     },
     "output_type": "display_data"
    }
   ],
   "execution_count": 34
  },
  {
   "cell_type": "code",
   "metadata": {
    "tags": [],
    "cell_id": "00030-961da1c0-3edd-4887-870c-6ff65247c7b6",
    "deepnote_to_be_reexecuted": false,
    "source_hash": "25adc0ea",
    "execution_start": 1626362163771,
    "execution_millis": 2442,
    "deepnote_cell_type": "code"
   },
   "source": "# Increase the size of the heatmap.\nplt.figure(figsize=(16, 6))\n\n# Store heatmap object in a variable to easily access it when you want to include more features (such as title).\n# Set the range of values to be displayed on the colormap from -1 to 1, and set the annotation to True to display the correlation values on the heatmap.\nheatmap = sns.heatmap(data.corr(), vmin=-1, vmax=1, annot=True)\n\n# Give a title to the heatmap. Pad defines the distance of the title from the top of the heatmap.\nheatmap.set_title('Correlation Heatmap', fontdict={'fontsize':12}, pad=12);",
   "outputs": [
    {
     "data": {
      "text/plain": "<Figure size 1152x432 with 2 Axes>",
      "image/png": "[encoded data removed]"
     },
     "metadata": {
      "needs_background": "light",
      "image/png": {
       "width": 975,
       "height": 510
      }
     },
     "output_type": "display_data"
    }
   ],
   "execution_count": 35
  },
  {
   "cell_type": "markdown",
   "source": "<a style='text-decoration:none;line-height:16px;display:flex;color:#5B5B62;padding:10px;justify-content:end;' href='https://deepnote.com?utm_source=created-in-deepnote-cell&projectId=7c5d87d6-50ef-4fbe-bc4b-b153ed24ae51' target=\"_blank\">\n<img alt='Created in deepnote.com' style='display:inline;max-height:16px;margin:0px;margin-right:7.5px;' src='data:image/svg+xml;base64,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' > </img>\nCreated in <span style='font-weight:600;margin-left:4px;'>Deepnote</span></a>",
   "metadata": {
    "tags": [],
    "created_in_deepnote_cell": true,
    "deepnote_cell_type": "markdown"
   }
  }
 ],
 "nbformat": 4,
 "nbformat_minor": 2,
 "metadata": {
  "orig_nbformat": 2,
  "deepnote": {
   "is_reactive": false
  },
  "deepnote_notebook_id": "a984064a-4a66-4e8f-8452-35afa43423b8",
  "deepnote_execution_queue": []
 }
}