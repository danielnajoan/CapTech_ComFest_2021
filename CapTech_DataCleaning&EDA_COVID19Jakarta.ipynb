{
 "cells": [
  {
   "cell_type": "markdown",
   "metadata": {},
   "source": [
    "# Created By CapTech\n",
    "\n",
    "1. Nina Ayuningtyas\n",
    "2. Daniel Stephanus Najoan\n",
    "3. Ghazali Akmal Rabbani"
   ]
  },
  {
   "cell_type": "code",
   "execution_count": 1,
   "metadata": {
    "ExecuteTime": {
     "end_time": "2021-07-16T07:33:55.082395Z",
     "start_time": "2021-07-16T07:33:51.503999Z"
    },
    "cell_id": "00000-e3207956-db05-4f93-8411-241115f97a59",
    "deepnote_cell_type": "code",
    "deepnote_to_be_reexecuted": false,
    "execution_millis": 3123,
    "execution_start": 1626362150981,
    "source_hash": "e8c82e1f",
    "tags": []
   },
   "outputs": [
    {
     "name": "stdout",
     "output_type": "stream",
     "text": [
      "Requirement already satisfied: xlrd in c:\\users\\ghaza\\anaconda3\\lib\\site-packages (2.0.1)\n",
      "Note: you may need to restart the kernel to use updated packages.\n"
     ]
    }
   ],
   "source": [
    "pip install xlrd"
   ]
  },
  {
   "cell_type": "markdown",
   "metadata": {},
   "source": [
    "# Import Library and Data"
   ]
  },
  {
   "cell_type": "code",
   "execution_count": 2,
   "metadata": {
    "ExecuteTime": {
     "end_time": "2021-07-16T07:33:57.659489Z",
     "start_time": "2021-07-16T07:33:55.086396Z"
    },
    "cell_id": "00000-fe1867df-4372-4990-9bd3-3a7c3a8a8be3",
    "deepnote_cell_type": "code",
    "deepnote_to_be_reexecuted": false,
    "execution_millis": 1073,
    "execution_start": 1626362154110,
    "source_hash": "1dadd157",
    "tags": []
   },
   "outputs": [],
   "source": [
    "import pandas as pd\n",
    "import numpy as np \n",
    "import matplotlib.pyplot as plt\n",
    "import seaborn as sns\n",
    "import scipy\n",
    "\n",
    "import warnings\n",
    "warnings.filterwarnings(\"ignore\")"
   ]
  },
  {
   "cell_type": "code",
   "execution_count": 3,
   "metadata": {
    "ExecuteTime": {
     "end_time": "2021-07-16T07:34:00.027023Z",
     "start_time": "2021-07-16T07:33:57.663491Z"
    },
    "cell_id": "00001-eb593998-499b-41d2-a53b-dccf97775459",
    "deepnote_cell_type": "code",
    "deepnote_to_be_reexecuted": false,
    "execution_millis": 2579,
    "execution_start": 1626362155187,
    "source_hash": "9988bb8b",
    "tags": []
   },
   "outputs": [],
   "source": [
    "data_xlsx = pd.read_excel(\"Daily Update Data Agregat Covid-19 Jakarta.xlsx\", sheet_name=\"Data Jakarta\")"
   ]
  },
  {
   "cell_type": "markdown",
   "metadata": {},
   "source": [
    "# Data Preprocessing"
   ]
  },
  {
   "cell_type": "code",
   "execution_count": 4,
   "metadata": {
    "ExecuteTime": {
     "end_time": "2021-07-16T07:34:00.043026Z",
     "start_time": "2021-07-16T07:34:00.029024Z"
    },
    "cell_id": "00003-4373018e-b6b9-4708-b650-79f8595e36dd",
    "deepnote_cell_type": "code",
    "deepnote_to_be_reexecuted": false,
    "execution_millis": 2,
    "execution_start": 1626362157777,
    "source_hash": "134eecbb",
    "tags": []
   },
   "outputs": [],
   "source": [
    "#Slicing to get necessary column only\n",
    "data_slice = data_xlsx.iloc[:,:17]"
   ]
  },
  {
   "cell_type": "code",
   "execution_count": 5,
   "metadata": {
    "ExecuteTime": {
     "end_time": "2021-07-16T07:34:00.058030Z",
     "start_time": "2021-07-16T07:34:00.047028Z"
    },
    "cell_id": "00004-199de72c-ed37-4fe1-873e-881daa8cc499",
    "deepnote_cell_type": "code",
    "deepnote_to_be_reexecuted": false,
    "execution_millis": 2,
    "execution_start": 1626362157797,
    "source_hash": "c132bed0",
    "tags": []
   },
   "outputs": [],
   "source": [
    "#Drop column 'Belum Diketahui (Masih verifikasi)', because in that column is full of null value\n",
    "data = data_slice.drop(['Belum Diketahui (masih verifikasi)'], axis = 1)"
   ]
  },
  {
   "cell_type": "code",
   "execution_count": 6,
   "metadata": {
    "ExecuteTime": {
     "end_time": "2021-07-16T07:34:00.074034Z",
     "start_time": "2021-07-16T07:34:00.062032Z"
    },
    "cell_id": "00005-832e79b8-fa4e-41d5-a094-b78459cdd9a2",
    "deepnote_cell_type": "code",
    "deepnote_to_be_reexecuted": false,
    "execution_millis": 14,
    "execution_start": 1626362157818,
    "source_hash": "878de0e4",
    "tags": []
   },
   "outputs": [
    {
     "data": {
      "text/plain": [
       "Tanggal                          0\n",
       "Jam                             19\n",
       "Tanggal Jam                      0\n",
       "Total Pasien                     0\n",
       "Sembuh                           0\n",
       "Meninggal                        0\n",
       "Self Isolation                   0\n",
       "Masih Perawatan                  0\n",
       "Menunggu Hasil                 496\n",
       "Tenaga Kesehatan Terinfeksi    496\n",
       "Positif Harian                   0\n",
       "Positif Aktif                    0\n",
       "Sembuh Harian                    0\n",
       "Tanpa Gejala                   140\n",
       "Bergejala                      140\n",
       "Belum Ada Data                 140\n",
       "dtype: int64"
      ]
     },
     "execution_count": 6,
     "metadata": {},
     "output_type": "execute_result"
    }
   ],
   "source": [
    "#Check Null Value for other column\n",
    "data.isnull().sum()"
   ]
  },
  {
   "cell_type": "code",
   "execution_count": 7,
   "metadata": {
    "ExecuteTime": {
     "end_time": "2021-07-16T07:34:00.089037Z",
     "start_time": "2021-07-16T07:34:00.078034Z"
    },
    "cell_id": "00005-49cc5cf2-c587-44a9-8a03-777f6eebf56f",
    "deepnote_cell_type": "code",
    "deepnote_to_be_reexecuted": false,
    "execution_millis": 45,
    "execution_start": 1626362157838,
    "source_hash": "8ea3976d",
    "tags": []
   },
   "outputs": [],
   "source": [
    "#Fill null value in Jam column with 18 which means as 18.00 or 6pm\n",
    "data['Jam'] = data['Jam'].fillna(18)"
   ]
  },
  {
   "cell_type": "code",
   "execution_count": 8,
   "metadata": {
    "ExecuteTime": {
     "end_time": "2021-07-16T07:34:00.104043Z",
     "start_time": "2021-07-16T07:34:00.092038Z"
    },
    "cell_id": "00006-768e00f4-61ab-4f86-a749-9e819e19f239",
    "deepnote_cell_type": "code",
    "deepnote_to_be_reexecuted": false,
    "execution_millis": 0,
    "execution_start": 1626362157883,
    "source_hash": "8922c6dc",
    "tags": []
   },
   "outputs": [],
   "source": [
    "#Fill other null value data with zero (0)\n",
    "data = data.fillna(0)"
   ]
  },
  {
   "cell_type": "code",
   "execution_count": 41,
   "metadata": {
    "ExecuteTime": {
     "end_time": "2021-07-16T10:32:41.038905Z",
     "start_time": "2021-07-16T10:32:41.013898Z"
    }
   },
   "outputs": [
    {
     "data": {
      "text/plain": [
       "Tanggal                        0\n",
       "Jam                            0\n",
       "Tanggal Jam                    0\n",
       "Total Pasien                   0\n",
       "Sembuh                         0\n",
       "Meninggal                      0\n",
       "Self Isolation                 0\n",
       "Masih Perawatan                0\n",
       "Menunggu Hasil                 0\n",
       "Tenaga Kesehatan Terinfeksi    0\n",
       "Positif Harian                 0\n",
       "Positif Aktif                  0\n",
       "Sembuh Harian                  0\n",
       "Tanpa Gejala                   0\n",
       "Bergejala                      0\n",
       "Belum Ada Data                 0\n",
       "dtype: int64"
      ]
     },
     "execution_count": 41,
     "metadata": {},
     "output_type": "execute_result"
    }
   ],
   "source": [
    "data.isnull().sum()"
   ]
  },
  {
   "cell_type": "code",
   "execution_count": 9,
   "metadata": {
    "ExecuteTime": {
     "end_time": "2021-07-16T07:34:00.167055Z",
     "start_time": "2021-07-16T07:34:00.106041Z"
    },
    "cell_id": "00003-a7531a81-b056-4404-816a-209ebf1fd0c8",
    "deepnote_cell_type": "code",
    "deepnote_to_be_reexecuted": false,
    "execution_millis": 105,
    "execution_start": 1626362157884,
    "source_hash": "e6928a8f",
    "tags": []
   },
   "outputs": [
    {
     "data": {
      "text/html": [
       "<div>\n",
       "<style scoped>\n",
       "    .dataframe tbody tr th:only-of-type {\n",
       "        vertical-align: middle;\n",
       "    }\n",
       "\n",
       "    .dataframe tbody tr th {\n",
       "        vertical-align: top;\n",
       "    }\n",
       "\n",
       "    .dataframe thead th {\n",
       "        text-align: right;\n",
       "    }\n",
       "</style>\n",
       "<table border=\"1\" class=\"dataframe\">\n",
       "  <thead>\n",
       "    <tr style=\"text-align: right;\">\n",
       "      <th></th>\n",
       "      <th>Tanggal</th>\n",
       "      <th>Jam</th>\n",
       "      <th>Tanggal Jam</th>\n",
       "      <th>Total Pasien</th>\n",
       "      <th>Sembuh</th>\n",
       "      <th>Meninggal</th>\n",
       "      <th>Self Isolation</th>\n",
       "      <th>Masih Perawatan</th>\n",
       "      <th>Menunggu Hasil</th>\n",
       "      <th>Tenaga Kesehatan Terinfeksi</th>\n",
       "      <th>Positif Harian</th>\n",
       "      <th>Positif Aktif</th>\n",
       "      <th>Sembuh Harian</th>\n",
       "      <th>Tanpa Gejala</th>\n",
       "      <th>Bergejala</th>\n",
       "      <th>Belum Ada Data</th>\n",
       "    </tr>\n",
       "  </thead>\n",
       "  <tbody>\n",
       "    <tr>\n",
       "      <th>0</th>\n",
       "      <td>2020-03-01</td>\n",
       "      <td>18.0</td>\n",
       "      <td>2020-03-01 18:00:00</td>\n",
       "      <td>0</td>\n",
       "      <td>0</td>\n",
       "      <td>0</td>\n",
       "      <td>0</td>\n",
       "      <td>0</td>\n",
       "      <td>0.0</td>\n",
       "      <td>0.0</td>\n",
       "      <td>0</td>\n",
       "      <td>0</td>\n",
       "      <td>0</td>\n",
       "      <td>0.0</td>\n",
       "      <td>0.0</td>\n",
       "      <td>0.0</td>\n",
       "    </tr>\n",
       "    <tr>\n",
       "      <th>1</th>\n",
       "      <td>2020-03-02</td>\n",
       "      <td>18.0</td>\n",
       "      <td>2020-03-02 18:00:00</td>\n",
       "      <td>0</td>\n",
       "      <td>0</td>\n",
       "      <td>0</td>\n",
       "      <td>0</td>\n",
       "      <td>0</td>\n",
       "      <td>0.0</td>\n",
       "      <td>0.0</td>\n",
       "      <td>0</td>\n",
       "      <td>0</td>\n",
       "      <td>0</td>\n",
       "      <td>0.0</td>\n",
       "      <td>0.0</td>\n",
       "      <td>0.0</td>\n",
       "    </tr>\n",
       "    <tr>\n",
       "      <th>2</th>\n",
       "      <td>2020-03-03</td>\n",
       "      <td>18.0</td>\n",
       "      <td>2020-03-03 18:00:00</td>\n",
       "      <td>3</td>\n",
       "      <td>0</td>\n",
       "      <td>1</td>\n",
       "      <td>0</td>\n",
       "      <td>2</td>\n",
       "      <td>0.0</td>\n",
       "      <td>0.0</td>\n",
       "      <td>3</td>\n",
       "      <td>2</td>\n",
       "      <td>0</td>\n",
       "      <td>0.0</td>\n",
       "      <td>0.0</td>\n",
       "      <td>0.0</td>\n",
       "    </tr>\n",
       "    <tr>\n",
       "      <th>3</th>\n",
       "      <td>2020-03-04</td>\n",
       "      <td>18.0</td>\n",
       "      <td>2020-03-04 18:00:00</td>\n",
       "      <td>3</td>\n",
       "      <td>0</td>\n",
       "      <td>1</td>\n",
       "      <td>0</td>\n",
       "      <td>2</td>\n",
       "      <td>0.0</td>\n",
       "      <td>0.0</td>\n",
       "      <td>0</td>\n",
       "      <td>2</td>\n",
       "      <td>0</td>\n",
       "      <td>0.0</td>\n",
       "      <td>0.0</td>\n",
       "      <td>0.0</td>\n",
       "    </tr>\n",
       "    <tr>\n",
       "      <th>4</th>\n",
       "      <td>2020-03-05</td>\n",
       "      <td>18.0</td>\n",
       "      <td>2020-03-05 18:00:00</td>\n",
       "      <td>7</td>\n",
       "      <td>0</td>\n",
       "      <td>3</td>\n",
       "      <td>0</td>\n",
       "      <td>4</td>\n",
       "      <td>0.0</td>\n",
       "      <td>0.0</td>\n",
       "      <td>4</td>\n",
       "      <td>4</td>\n",
       "      <td>0</td>\n",
       "      <td>0.0</td>\n",
       "      <td>0.0</td>\n",
       "      <td>0.0</td>\n",
       "    </tr>\n",
       "    <tr>\n",
       "      <th>...</th>\n",
       "      <td>...</td>\n",
       "      <td>...</td>\n",
       "      <td>...</td>\n",
       "      <td>...</td>\n",
       "      <td>...</td>\n",
       "      <td>...</td>\n",
       "      <td>...</td>\n",
       "      <td>...</td>\n",
       "      <td>...</td>\n",
       "      <td>...</td>\n",
       "      <td>...</td>\n",
       "      <td>...</td>\n",
       "      <td>...</td>\n",
       "      <td>...</td>\n",
       "      <td>...</td>\n",
       "      <td>...</td>\n",
       "    </tr>\n",
       "    <tr>\n",
       "      <th>497</th>\n",
       "      <td>2021-07-11</td>\n",
       "      <td>8.0</td>\n",
       "      <td>2021-07-11 08:00:00</td>\n",
       "      <td>662442</td>\n",
       "      <td>564437</td>\n",
       "      <td>9395</td>\n",
       "      <td>68251</td>\n",
       "      <td>20359</td>\n",
       "      <td>0.0</td>\n",
       "      <td>0.0</td>\n",
       "      <td>13133</td>\n",
       "      <td>88610</td>\n",
       "      <td>20570</td>\n",
       "      <td>4769.0</td>\n",
       "      <td>12893.0</td>\n",
       "      <td>70948.0</td>\n",
       "    </tr>\n",
       "    <tr>\n",
       "      <th>498</th>\n",
       "      <td>2021-07-12</td>\n",
       "      <td>8.0</td>\n",
       "      <td>2021-07-12 08:00:00</td>\n",
       "      <td>677061</td>\n",
       "      <td>584912</td>\n",
       "      <td>9462</td>\n",
       "      <td>66581</td>\n",
       "      <td>16106</td>\n",
       "      <td>0.0</td>\n",
       "      <td>0.0</td>\n",
       "      <td>14619</td>\n",
       "      <td>82687</td>\n",
       "      <td>20475</td>\n",
       "      <td>17649.0</td>\n",
       "      <td>25597.0</td>\n",
       "      <td>39441.0</td>\n",
       "    </tr>\n",
       "    <tr>\n",
       "      <th>499</th>\n",
       "      <td>2021-07-13</td>\n",
       "      <td>8.0</td>\n",
       "      <td>2021-07-13 08:00:00</td>\n",
       "      <td>689243</td>\n",
       "      <td>589486</td>\n",
       "      <td>9541</td>\n",
       "      <td>71848</td>\n",
       "      <td>18368</td>\n",
       "      <td>0.0</td>\n",
       "      <td>0.0</td>\n",
       "      <td>12182</td>\n",
       "      <td>90216</td>\n",
       "      <td>4574</td>\n",
       "      <td>16957.0</td>\n",
       "      <td>22339.0</td>\n",
       "      <td>50920.0</td>\n",
       "    </tr>\n",
       "    <tr>\n",
       "      <th>500</th>\n",
       "      <td>2021-07-14</td>\n",
       "      <td>8.0</td>\n",
       "      <td>2021-07-14 08:00:00</td>\n",
       "      <td>701910</td>\n",
       "      <td>592556</td>\n",
       "      <td>9603</td>\n",
       "      <td>78571</td>\n",
       "      <td>21180</td>\n",
       "      <td>0.0</td>\n",
       "      <td>0.0</td>\n",
       "      <td>12667</td>\n",
       "      <td>99751</td>\n",
       "      <td>3070</td>\n",
       "      <td>32752.0</td>\n",
       "      <td>54463.0</td>\n",
       "      <td>12536.0</td>\n",
       "    </tr>\n",
       "    <tr>\n",
       "      <th>501</th>\n",
       "      <td>2021-07-15</td>\n",
       "      <td>8.0</td>\n",
       "      <td>2021-07-15 08:00:00</td>\n",
       "      <td>714601</td>\n",
       "      <td>595582</td>\n",
       "      <td>9743</td>\n",
       "      <td>86298</td>\n",
       "      <td>22978</td>\n",
       "      <td>0.0</td>\n",
       "      <td>0.0</td>\n",
       "      <td>12691</td>\n",
       "      <td>109276</td>\n",
       "      <td>3026</td>\n",
       "      <td>31922.0</td>\n",
       "      <td>52360.0</td>\n",
       "      <td>24994.0</td>\n",
       "    </tr>\n",
       "  </tbody>\n",
       "</table>\n",
       "<p>502 rows × 16 columns</p>\n",
       "</div>"
      ],
      "text/plain": [
       "       Tanggal   Jam         Tanggal Jam  Total Pasien  Sembuh  Meninggal  \\\n",
       "0   2020-03-01  18.0 2020-03-01 18:00:00             0       0          0   \n",
       "1   2020-03-02  18.0 2020-03-02 18:00:00             0       0          0   \n",
       "2   2020-03-03  18.0 2020-03-03 18:00:00             3       0          1   \n",
       "3   2020-03-04  18.0 2020-03-04 18:00:00             3       0          1   \n",
       "4   2020-03-05  18.0 2020-03-05 18:00:00             7       0          3   \n",
       "..         ...   ...                 ...           ...     ...        ...   \n",
       "497 2021-07-11   8.0 2021-07-11 08:00:00        662442  564437       9395   \n",
       "498 2021-07-12   8.0 2021-07-12 08:00:00        677061  584912       9462   \n",
       "499 2021-07-13   8.0 2021-07-13 08:00:00        689243  589486       9541   \n",
       "500 2021-07-14   8.0 2021-07-14 08:00:00        701910  592556       9603   \n",
       "501 2021-07-15   8.0 2021-07-15 08:00:00        714601  595582       9743   \n",
       "\n",
       "     Self Isolation  Masih Perawatan  Menunggu Hasil  \\\n",
       "0                 0                0             0.0   \n",
       "1                 0                0             0.0   \n",
       "2                 0                2             0.0   \n",
       "3                 0                2             0.0   \n",
       "4                 0                4             0.0   \n",
       "..              ...              ...             ...   \n",
       "497           68251            20359             0.0   \n",
       "498           66581            16106             0.0   \n",
       "499           71848            18368             0.0   \n",
       "500           78571            21180             0.0   \n",
       "501           86298            22978             0.0   \n",
       "\n",
       "     Tenaga Kesehatan Terinfeksi  Positif Harian  Positif Aktif  \\\n",
       "0                            0.0               0              0   \n",
       "1                            0.0               0              0   \n",
       "2                            0.0               3              2   \n",
       "3                            0.0               0              2   \n",
       "4                            0.0               4              4   \n",
       "..                           ...             ...            ...   \n",
       "497                          0.0           13133          88610   \n",
       "498                          0.0           14619          82687   \n",
       "499                          0.0           12182          90216   \n",
       "500                          0.0           12667          99751   \n",
       "501                          0.0           12691         109276   \n",
       "\n",
       "     Sembuh Harian  Tanpa Gejala  Bergejala  Belum Ada Data  \n",
       "0                0           0.0        0.0             0.0  \n",
       "1                0           0.0        0.0             0.0  \n",
       "2                0           0.0        0.0             0.0  \n",
       "3                0           0.0        0.0             0.0  \n",
       "4                0           0.0        0.0             0.0  \n",
       "..             ...           ...        ...             ...  \n",
       "497          20570        4769.0    12893.0         70948.0  \n",
       "498          20475       17649.0    25597.0         39441.0  \n",
       "499           4574       16957.0    22339.0         50920.0  \n",
       "500           3070       32752.0    54463.0         12536.0  \n",
       "501           3026       31922.0    52360.0         24994.0  \n",
       "\n",
       "[502 rows x 16 columns]"
      ]
     },
     "execution_count": 9,
     "metadata": {},
     "output_type": "execute_result"
    }
   ],
   "source": [
    "#Show clean data\n",
    "data"
   ]
  },
  {
   "cell_type": "code",
   "execution_count": 10,
   "metadata": {
    "ExecuteTime": {
     "end_time": "2021-07-16T07:34:00.199063Z",
     "start_time": "2021-07-16T07:34:00.169056Z"
    },
    "cell_id": "00004-b87ce607-776f-429d-bc61-2f0fec8abdcf",
    "deepnote_cell_type": "code",
    "deepnote_to_be_reexecuted": false,
    "execution_millis": 19,
    "execution_start": 1626362158025,
    "source_hash": "957547ae",
    "tags": []
   },
   "outputs": [
    {
     "name": "stdout",
     "output_type": "stream",
     "text": [
      "<class 'pandas.core.frame.DataFrame'>\n",
      "RangeIndex: 502 entries, 0 to 501\n",
      "Data columns (total 16 columns):\n",
      " #   Column                       Non-Null Count  Dtype         \n",
      "---  ------                       --------------  -----         \n",
      " 0   Tanggal                      502 non-null    datetime64[ns]\n",
      " 1   Jam                          502 non-null    float64       \n",
      " 2   Tanggal Jam                  502 non-null    datetime64[ns]\n",
      " 3   Total Pasien                 502 non-null    int64         \n",
      " 4   Sembuh                       502 non-null    int64         \n",
      " 5   Meninggal                    502 non-null    int64         \n",
      " 6   Self Isolation               502 non-null    int64         \n",
      " 7   Masih Perawatan              502 non-null    int64         \n",
      " 8   Menunggu Hasil               502 non-null    float64       \n",
      " 9   Tenaga Kesehatan Terinfeksi  502 non-null    float64       \n",
      " 10  Positif Harian               502 non-null    int64         \n",
      " 11  Positif Aktif                502 non-null    int64         \n",
      " 12  Sembuh Harian                502 non-null    int64         \n",
      " 13  Tanpa Gejala                 502 non-null    float64       \n",
      " 14  Bergejala                    502 non-null    float64       \n",
      " 15  Belum Ada Data               502 non-null    float64       \n",
      "dtypes: datetime64[ns](2), float64(6), int64(8)\n",
      "memory usage: 62.9 KB\n"
     ]
    }
   ],
   "source": [
    "#Check Data types\n",
    "data.info()"
   ]
  },
  {
   "cell_type": "markdown",
   "metadata": {},
   "source": [
    "# Positif Harian Mean"
   ]
  },
  {
   "cell_type": "code",
   "execution_count": 11,
   "metadata": {
    "ExecuteTime": {
     "end_time": "2021-07-16T07:34:00.215065Z",
     "start_time": "2021-07-16T07:34:00.202063Z"
    },
    "cell_id": "00004-dfa284a5-ab3a-43e8-8b8e-709fbb8e1724",
    "deepnote_cell_type": "code",
    "deepnote_to_be_reexecuted": false,
    "execution_millis": 18,
    "execution_start": 1626362158026,
    "source_hash": "998af25e",
    "tags": []
   },
   "outputs": [
    {
     "data": {
      "text/plain": [
       "1423.5079681274901"
      ]
     },
     "execution_count": 11,
     "metadata": {},
     "output_type": "execute_result"
    }
   ],
   "source": [
    "data[\"Positif Harian\"].mean()"
   ]
  },
  {
   "cell_type": "markdown",
   "metadata": {},
   "source": [
    "# Positif Harian median"
   ]
  },
  {
   "cell_type": "code",
   "execution_count": 12,
   "metadata": {
    "ExecuteTime": {
     "end_time": "2021-07-16T07:34:00.231069Z",
     "start_time": "2021-07-16T07:34:00.217066Z"
    },
    "cell_id": "00005-6216336a-89c4-47a1-b781-646260806a84",
    "deepnote_cell_type": "code",
    "deepnote_to_be_reexecuted": false,
    "execution_millis": 24,
    "execution_start": 1626362158027,
    "source_hash": "ad46ee82",
    "tags": []
   },
   "outputs": [
    {
     "data": {
      "text/plain": [
       "889.0"
      ]
     },
     "execution_count": 12,
     "metadata": {},
     "output_type": "execute_result"
    }
   ],
   "source": [
    "data[\"Positif Harian\"].median()"
   ]
  },
  {
   "cell_type": "markdown",
   "metadata": {},
   "source": [
    "# Convert Positif Harian Column to string type to get mode value of the column"
   ]
  },
  {
   "cell_type": "code",
   "execution_count": 13,
   "metadata": {
    "ExecuteTime": {
     "end_time": "2021-07-16T07:34:00.247073Z",
     "start_time": "2021-07-16T07:34:00.234071Z"
    },
    "cell_id": "00006-f7b57da5-c465-4c5a-a198-5c7f4f2f90fb",
    "deepnote_cell_type": "code",
    "deepnote_to_be_reexecuted": false,
    "execution_millis": 1,
    "execution_start": 1626362158075,
    "source_hash": "96b9de34",
    "tags": []
   },
   "outputs": [],
   "source": [
    "categorical_positif_harian = data[\"Positif Harian\"].astype(str)"
   ]
  },
  {
   "cell_type": "markdown",
   "metadata": {},
   "source": [
    "# Get Mode value of Positif Harian Column"
   ]
  },
  {
   "cell_type": "code",
   "execution_count": 14,
   "metadata": {
    "ExecuteTime": {
     "end_time": "2021-07-16T07:34:00.295084Z",
     "start_time": "2021-07-16T07:34:00.250074Z"
    },
    "cell_id": "00007-73f1c365-9317-48dc-a3ad-974cb0236fed",
    "deepnote_cell_type": "code",
    "deepnote_to_be_reexecuted": false,
    "execution_millis": 7,
    "execution_start": 1626362158076,
    "source_hash": "b833011b",
    "tags": []
   },
   "outputs": [
    {
     "data": {
      "text/plain": [
       "count     502\n",
       "unique    436\n",
       "top         0\n",
       "freq        7\n",
       "Name: Positif Harian, dtype: object"
      ]
     },
     "execution_count": 14,
     "metadata": {},
     "output_type": "execute_result"
    }
   ],
   "source": [
    "categorical_positif_harian.describe()"
   ]
  },
  {
   "cell_type": "code",
   "execution_count": 15,
   "metadata": {
    "ExecuteTime": {
     "end_time": "2021-07-16T07:34:00.311087Z",
     "start_time": "2021-07-16T07:34:00.297084Z"
    },
    "cell_id": "00007-d6edc816-684e-4cad-a8b2-c3c52353cd46",
    "deepnote_cell_type": "code",
    "deepnote_to_be_reexecuted": false,
    "execution_millis": 6,
    "execution_start": 1626362158077,
    "source_hash": "8e9bf252",
    "tags": []
   },
   "outputs": [
    {
     "data": {
      "text/plain": [
       "0    0\n",
       "dtype: object"
      ]
     },
     "execution_count": 15,
     "metadata": {},
     "output_type": "execute_result"
    }
   ],
   "source": [
    "categorical_positif_harian.mode()"
   ]
  },
  {
   "cell_type": "markdown",
   "metadata": {},
   "source": [
    "**Based on result in above, Mode value of Positif Harian column is Zero (0) with frequency of Zero data is 7**"
   ]
  },
  {
   "cell_type": "markdown",
   "metadata": {},
   "source": [
    "# Get Positif Harian Min"
   ]
  },
  {
   "cell_type": "code",
   "execution_count": 16,
   "metadata": {
    "ExecuteTime": {
     "end_time": "2021-07-16T07:34:00.327091Z",
     "start_time": "2021-07-16T07:34:00.313089Z"
    },
    "cell_id": "00009-d6583de5-2aee-4854-84b5-ffb6f4f1b076",
    "deepnote_cell_type": "code",
    "deepnote_to_be_reexecuted": false,
    "execution_millis": 11,
    "execution_start": 1626362158104,
    "source_hash": "e6c863f1",
    "tags": []
   },
   "outputs": [
    {
     "data": {
      "text/plain": [
       "0"
      ]
     },
     "execution_count": 16,
     "metadata": {},
     "output_type": "execute_result"
    }
   ],
   "source": [
    "data[\"Positif Harian\"].min()"
   ]
  },
  {
   "cell_type": "markdown",
   "metadata": {},
   "source": [
    "# Get Positif Harian Max"
   ]
  },
  {
   "cell_type": "code",
   "execution_count": 17,
   "metadata": {
    "ExecuteTime": {
     "end_time": "2021-07-16T07:34:00.343094Z",
     "start_time": "2021-07-16T07:34:00.329092Z"
    },
    "cell_id": "00010-9714a1d2-8df2-4bc0-a302-d37826b4661a",
    "deepnote_cell_type": "code",
    "deepnote_to_be_reexecuted": false,
    "execution_millis": 10,
    "execution_start": 1626362158105,
    "source_hash": "c3324b44",
    "tags": []
   },
   "outputs": [
    {
     "data": {
      "text/plain": [
       "14619"
      ]
     },
     "execution_count": 17,
     "metadata": {},
     "output_type": "execute_result"
    }
   ],
   "source": [
    "data[\"Positif Harian\"].max()"
   ]
  },
  {
   "cell_type": "code",
   "execution_count": 37,
   "metadata": {
    "ExecuteTime": {
     "end_time": "2021-07-16T07:47:54.118933Z",
     "start_time": "2021-07-16T07:47:54.102677Z"
    }
   },
   "outputs": [
    {
     "data": {
      "text/plain": [
       "count      502.000000\n",
       "mean      1423.507968\n",
       "std       2193.364567\n",
       "min          0.000000\n",
       "25%        217.000000\n",
       "50%        889.000000\n",
       "75%       1443.750000\n",
       "max      14619.000000\n",
       "Name: Positif Harian, dtype: float64"
      ]
     },
     "execution_count": 37,
     "metadata": {},
     "output_type": "execute_result"
    }
   ],
   "source": [
    "data['Positif Harian'].describe()"
   ]
  },
  {
   "cell_type": "code",
   "execution_count": 44,
   "metadata": {
    "ExecuteTime": {
     "end_time": "2021-07-16T12:37:44.830544Z",
     "start_time": "2021-07-16T12:37:44.808539Z"
    }
   },
   "outputs": [
    {
     "data": {
      "text/html": [
       "<div>\n",
       "<style scoped>\n",
       "    .dataframe tbody tr th:only-of-type {\n",
       "        vertical-align: middle;\n",
       "    }\n",
       "\n",
       "    .dataframe tbody tr th {\n",
       "        vertical-align: top;\n",
       "    }\n",
       "\n",
       "    .dataframe thead th {\n",
       "        text-align: right;\n",
       "    }\n",
       "</style>\n",
       "<table border=\"1\" class=\"dataframe\">\n",
       "  <thead>\n",
       "    <tr style=\"text-align: right;\">\n",
       "      <th></th>\n",
       "      <th>Tanggal</th>\n",
       "      <th>Jam</th>\n",
       "      <th>Tanggal Jam</th>\n",
       "      <th>Total Pasien</th>\n",
       "      <th>Sembuh</th>\n",
       "      <th>Meninggal</th>\n",
       "      <th>Self Isolation</th>\n",
       "      <th>Masih Perawatan</th>\n",
       "      <th>Menunggu Hasil</th>\n",
       "      <th>Tenaga Kesehatan Terinfeksi</th>\n",
       "      <th>Positif Harian</th>\n",
       "      <th>Positif Aktif</th>\n",
       "      <th>Sembuh Harian</th>\n",
       "      <th>Tanpa Gejala</th>\n",
       "      <th>Bergejala</th>\n",
       "      <th>Belum Ada Data</th>\n",
       "    </tr>\n",
       "  </thead>\n",
       "  <tbody>\n",
       "    <tr>\n",
       "      <th>498</th>\n",
       "      <td>2021-07-12</td>\n",
       "      <td>8.0</td>\n",
       "      <td>2021-07-12 08:00:00</td>\n",
       "      <td>677061</td>\n",
       "      <td>584912</td>\n",
       "      <td>9462</td>\n",
       "      <td>66581</td>\n",
       "      <td>16106</td>\n",
       "      <td>0.0</td>\n",
       "      <td>0.0</td>\n",
       "      <td>14619</td>\n",
       "      <td>82687</td>\n",
       "      <td>20475</td>\n",
       "      <td>17649.0</td>\n",
       "      <td>25597.0</td>\n",
       "      <td>39441.0</td>\n",
       "    </tr>\n",
       "  </tbody>\n",
       "</table>\n",
       "</div>"
      ],
      "text/plain": [
       "       Tanggal  Jam         Tanggal Jam  Total Pasien  Sembuh  Meninggal  \\\n",
       "498 2021-07-12  8.0 2021-07-12 08:00:00        677061  584912       9462   \n",
       "\n",
       "     Self Isolation  Masih Perawatan  Menunggu Hasil  \\\n",
       "498           66581            16106             0.0   \n",
       "\n",
       "     Tenaga Kesehatan Terinfeksi  Positif Harian  Positif Aktif  \\\n",
       "498                          0.0           14619          82687   \n",
       "\n",
       "     Sembuh Harian  Tanpa Gejala  Bergejala  Belum Ada Data  \n",
       "498          20475       17649.0    25597.0         39441.0  "
      ]
     },
     "execution_count": 44,
     "metadata": {},
     "output_type": "execute_result"
    }
   ],
   "source": [
    "data[data['Positif Harian'] == 14619]"
   ]
  },
  {
   "cell_type": "code",
   "execution_count": 45,
   "metadata": {
    "ExecuteTime": {
     "end_time": "2021-07-16T12:38:21.713853Z",
     "start_time": "2021-07-16T12:38:21.686846Z"
    }
   },
   "outputs": [
    {
     "data": {
      "text/html": [
       "<div>\n",
       "<style scoped>\n",
       "    .dataframe tbody tr th:only-of-type {\n",
       "        vertical-align: middle;\n",
       "    }\n",
       "\n",
       "    .dataframe tbody tr th {\n",
       "        vertical-align: top;\n",
       "    }\n",
       "\n",
       "    .dataframe thead th {\n",
       "        text-align: right;\n",
       "    }\n",
       "</style>\n",
       "<table border=\"1\" class=\"dataframe\">\n",
       "  <thead>\n",
       "    <tr style=\"text-align: right;\">\n",
       "      <th></th>\n",
       "      <th>Tanggal</th>\n",
       "      <th>Jam</th>\n",
       "      <th>Tanggal Jam</th>\n",
       "      <th>Total Pasien</th>\n",
       "      <th>Sembuh</th>\n",
       "      <th>Meninggal</th>\n",
       "      <th>Self Isolation</th>\n",
       "      <th>Masih Perawatan</th>\n",
       "      <th>Menunggu Hasil</th>\n",
       "      <th>Tenaga Kesehatan Terinfeksi</th>\n",
       "      <th>Positif Harian</th>\n",
       "      <th>Positif Aktif</th>\n",
       "      <th>Sembuh Harian</th>\n",
       "      <th>Tanpa Gejala</th>\n",
       "      <th>Bergejala</th>\n",
       "      <th>Belum Ada Data</th>\n",
       "    </tr>\n",
       "  </thead>\n",
       "  <tbody>\n",
       "    <tr>\n",
       "      <th>0</th>\n",
       "      <td>2020-03-01</td>\n",
       "      <td>18.0</td>\n",
       "      <td>2020-03-01 18:00:00</td>\n",
       "      <td>0</td>\n",
       "      <td>0</td>\n",
       "      <td>0</td>\n",
       "      <td>0</td>\n",
       "      <td>0</td>\n",
       "      <td>0.0</td>\n",
       "      <td>0.0</td>\n",
       "      <td>0</td>\n",
       "      <td>0</td>\n",
       "      <td>0</td>\n",
       "      <td>0.0</td>\n",
       "      <td>0.0</td>\n",
       "      <td>0.0</td>\n",
       "    </tr>\n",
       "    <tr>\n",
       "      <th>1</th>\n",
       "      <td>2020-03-02</td>\n",
       "      <td>18.0</td>\n",
       "      <td>2020-03-02 18:00:00</td>\n",
       "      <td>0</td>\n",
       "      <td>0</td>\n",
       "      <td>0</td>\n",
       "      <td>0</td>\n",
       "      <td>0</td>\n",
       "      <td>0.0</td>\n",
       "      <td>0.0</td>\n",
       "      <td>0</td>\n",
       "      <td>0</td>\n",
       "      <td>0</td>\n",
       "      <td>0.0</td>\n",
       "      <td>0.0</td>\n",
       "      <td>0.0</td>\n",
       "    </tr>\n",
       "    <tr>\n",
       "      <th>3</th>\n",
       "      <td>2020-03-04</td>\n",
       "      <td>18.0</td>\n",
       "      <td>2020-03-04 18:00:00</td>\n",
       "      <td>3</td>\n",
       "      <td>0</td>\n",
       "      <td>1</td>\n",
       "      <td>0</td>\n",
       "      <td>2</td>\n",
       "      <td>0.0</td>\n",
       "      <td>0.0</td>\n",
       "      <td>0</td>\n",
       "      <td>2</td>\n",
       "      <td>0</td>\n",
       "      <td>0.0</td>\n",
       "      <td>0.0</td>\n",
       "      <td>0.0</td>\n",
       "    </tr>\n",
       "    <tr>\n",
       "      <th>5</th>\n",
       "      <td>2020-03-06</td>\n",
       "      <td>18.0</td>\n",
       "      <td>2020-03-06 18:00:00</td>\n",
       "      <td>7</td>\n",
       "      <td>0</td>\n",
       "      <td>3</td>\n",
       "      <td>0</td>\n",
       "      <td>4</td>\n",
       "      <td>0.0</td>\n",
       "      <td>0.0</td>\n",
       "      <td>0</td>\n",
       "      <td>4</td>\n",
       "      <td>0</td>\n",
       "      <td>0.0</td>\n",
       "      <td>0.0</td>\n",
       "      <td>0.0</td>\n",
       "    </tr>\n",
       "    <tr>\n",
       "      <th>6</th>\n",
       "      <td>2020-03-07</td>\n",
       "      <td>18.0</td>\n",
       "      <td>2020-03-07 18:00:00</td>\n",
       "      <td>7</td>\n",
       "      <td>0</td>\n",
       "      <td>3</td>\n",
       "      <td>0</td>\n",
       "      <td>4</td>\n",
       "      <td>0.0</td>\n",
       "      <td>0.0</td>\n",
       "      <td>0</td>\n",
       "      <td>4</td>\n",
       "      <td>0</td>\n",
       "      <td>0.0</td>\n",
       "      <td>0.0</td>\n",
       "      <td>0.0</td>\n",
       "    </tr>\n",
       "    <tr>\n",
       "      <th>7</th>\n",
       "      <td>2020-03-08</td>\n",
       "      <td>18.0</td>\n",
       "      <td>2020-03-08 18:00:00</td>\n",
       "      <td>7</td>\n",
       "      <td>0</td>\n",
       "      <td>3</td>\n",
       "      <td>0</td>\n",
       "      <td>4</td>\n",
       "      <td>0.0</td>\n",
       "      <td>0.0</td>\n",
       "      <td>0</td>\n",
       "      <td>4</td>\n",
       "      <td>0</td>\n",
       "      <td>0.0</td>\n",
       "      <td>0.0</td>\n",
       "      <td>0.0</td>\n",
       "    </tr>\n",
       "    <tr>\n",
       "      <th>9</th>\n",
       "      <td>2020-03-10</td>\n",
       "      <td>18.0</td>\n",
       "      <td>2020-03-10 18:00:00</td>\n",
       "      <td>34</td>\n",
       "      <td>0</td>\n",
       "      <td>3</td>\n",
       "      <td>0</td>\n",
       "      <td>31</td>\n",
       "      <td>0.0</td>\n",
       "      <td>0.0</td>\n",
       "      <td>0</td>\n",
       "      <td>31</td>\n",
       "      <td>0</td>\n",
       "      <td>0.0</td>\n",
       "      <td>0.0</td>\n",
       "      <td>0.0</td>\n",
       "    </tr>\n",
       "  </tbody>\n",
       "</table>\n",
       "</div>"
      ],
      "text/plain": [
       "     Tanggal   Jam         Tanggal Jam  Total Pasien  Sembuh  Meninggal  \\\n",
       "0 2020-03-01  18.0 2020-03-01 18:00:00             0       0          0   \n",
       "1 2020-03-02  18.0 2020-03-02 18:00:00             0       0          0   \n",
       "3 2020-03-04  18.0 2020-03-04 18:00:00             3       0          1   \n",
       "5 2020-03-06  18.0 2020-03-06 18:00:00             7       0          3   \n",
       "6 2020-03-07  18.0 2020-03-07 18:00:00             7       0          3   \n",
       "7 2020-03-08  18.0 2020-03-08 18:00:00             7       0          3   \n",
       "9 2020-03-10  18.0 2020-03-10 18:00:00            34       0          3   \n",
       "\n",
       "   Self Isolation  Masih Perawatan  Menunggu Hasil  \\\n",
       "0               0                0             0.0   \n",
       "1               0                0             0.0   \n",
       "3               0                2             0.0   \n",
       "5               0                4             0.0   \n",
       "6               0                4             0.0   \n",
       "7               0                4             0.0   \n",
       "9               0               31             0.0   \n",
       "\n",
       "   Tenaga Kesehatan Terinfeksi  Positif Harian  Positif Aktif  Sembuh Harian  \\\n",
       "0                          0.0               0              0              0   \n",
       "1                          0.0               0              0              0   \n",
       "3                          0.0               0              2              0   \n",
       "5                          0.0               0              4              0   \n",
       "6                          0.0               0              4              0   \n",
       "7                          0.0               0              4              0   \n",
       "9                          0.0               0             31              0   \n",
       "\n",
       "   Tanpa Gejala  Bergejala  Belum Ada Data  \n",
       "0           0.0        0.0             0.0  \n",
       "1           0.0        0.0             0.0  \n",
       "3           0.0        0.0             0.0  \n",
       "5           0.0        0.0             0.0  \n",
       "6           0.0        0.0             0.0  \n",
       "7           0.0        0.0             0.0  \n",
       "9           0.0        0.0             0.0  "
      ]
     },
     "execution_count": 45,
     "metadata": {},
     "output_type": "execute_result"
    }
   ],
   "source": [
    "data[data['Positif Harian'] == 0]"
   ]
  },
  {
   "cell_type": "markdown",
   "metadata": {},
   "source": [
    "# Get Outlier of each Column"
   ]
  },
  {
   "cell_type": "code",
   "execution_count": 18,
   "metadata": {
    "ExecuteTime": {
     "end_time": "2021-07-16T07:34:00.359098Z",
     "start_time": "2021-07-16T07:34:00.345094Z"
    },
    "cell_id": "00011-627fb2f2-991d-43ed-bbe9-1dbcf61b05a3",
    "deepnote_cell_type": "code",
    "deepnote_to_be_reexecuted": false,
    "execution_millis": 10,
    "execution_start": 1626362158106,
    "source_hash": "a895ba62",
    "tags": []
   },
   "outputs": [
    {
     "data": {
      "text/plain": [
       "['Total Pasien',\n",
       " 'Sembuh',\n",
       " 'Meninggal',\n",
       " 'Self Isolation',\n",
       " 'Masih Perawatan',\n",
       " 'Positif Harian',\n",
       " 'Positif Aktif',\n",
       " 'Sembuh Harian']"
      ]
     },
     "execution_count": 18,
     "metadata": {},
     "output_type": "execute_result"
    }
   ],
   "source": [
    "#Get list of int column data\n",
    "data_col_numeric = data.select_dtypes(include=['int64']).columns.tolist()\n",
    "data_col_numeric"
   ]
  },
  {
   "cell_type": "code",
   "execution_count": 19,
   "metadata": {
    "ExecuteTime": {
     "end_time": "2021-07-16T07:34:00.375102Z",
     "start_time": "2021-07-16T07:34:00.361099Z"
    },
    "cell_id": "00013-44ff6bb7-0328-4f78-b46e-1db87a3c7c8c",
    "deepnote_cell_type": "code",
    "deepnote_to_be_reexecuted": false,
    "execution_millis": 8,
    "execution_start": 1626362158113,
    "source_hash": "11df827d",
    "tags": []
   },
   "outputs": [
    {
     "data": {
      "text/plain": [
       "['Jam',\n",
       " 'Menunggu Hasil',\n",
       " 'Tenaga Kesehatan Terinfeksi',\n",
       " 'Tanpa Gejala',\n",
       " 'Bergejala',\n",
       " 'Belum Ada Data']"
      ]
     },
     "execution_count": 19,
     "metadata": {},
     "output_type": "execute_result"
    }
   ],
   "source": [
    "#Get list of float column data\n",
    "data_col_float = data.select_dtypes(include=['float64']).columns.tolist()\n",
    "data_col_float"
   ]
  },
  {
   "cell_type": "code",
   "execution_count": 20,
   "metadata": {
    "ExecuteTime": {
     "end_time": "2021-07-16T07:34:00.391106Z",
     "start_time": "2021-07-16T07:34:00.378103Z"
    },
    "cell_id": "00012-2f3e643f-6a7a-4681-8e1a-e1d8b03a74d9",
    "deepnote_cell_type": "code",
    "deepnote_to_be_reexecuted": false,
    "execution_millis": 0,
    "execution_start": 1626362158170,
    "source_hash": "ab75fe5b",
    "tags": []
   },
   "outputs": [],
   "source": [
    "#Create Boxplot Function\n",
    "\n",
    "def boxplot_numerical(numerical):\n",
    "    plt.figure(figsize = (10, 6))\n",
    "    sns.boxplot(data[numerical]).set_title(numerical)\n",
    "    median = data[numerical].median()\n",
    "    FirstQuartile = data[numerical].quantile(0.25)\n",
    "    ThirdQuartile = data[numerical].quantile(0.75)\n",
    "    Interquartile = scipy.stats.iqr(data[numerical])\n",
    "    UpperFence = ThirdQuartile + (1.5*Interquartile)\n",
    "    LowerFence = FirstQuartile - (1.5*Interquartile)\n",
    "\n",
    "    print ('==================================')\n",
    "    print ('Statistical Data Summary')\n",
    "    print ('==================================')\n",
    "    print ('Median : ', median)\n",
    "    print ('1st Quartile : ', FirstQuartile)\n",
    "    print ('3rd Quartile : ', ThirdQuartile)\n",
    "    print ('IQR : ', Interquartile)\n",
    "    print ('Upper Fence : ', UpperFence)\n",
    "    print ('Lower Fence : ', LowerFence)\n",
    "    print ('==================================')\n",
    "\n",
    "    UpperOutliers = []\n",
    "    LowerOutliers = []\n",
    "    StatusUpperOutliers = False\n",
    "    StatusLowerOutliers = False\n",
    "    for x in data[numerical]:\n",
    "      if (x > UpperFence):\n",
    "        UpperOutliers.append(x)\n",
    "        StatusUpperOutliers = True\n",
    "      elif (x < LowerFence):\n",
    "        LowerOutliers.append(x)\n",
    "        StatusLowerOutliers = True\n",
    "    print ()\n",
    "    print ('==================================')\n",
    "    print ('Outliers Data Detection')\n",
    "    print ('==================================')\n",
    "    print ('Upper Outliers Data : ', sorted(UpperOutliers, reverse=False))\n",
    "    print ('Upper Outliers Status : ', StatusUpperOutliers)\n",
    "    print ('Lower Outliers Data : ', sorted(LowerOutliers, reverse=False))\n",
    "    print ('Lower Outliers Status : ', StatusLowerOutliers)\n",
    "\n",
    "    plt.figure(figsize = (10, 6))\n",
    "    sns.boxplot(data[numerical], showfliers = False).set_title(numerical + ' No Outliers')"
   ]
  },
  {
   "cell_type": "markdown",
   "metadata": {},
   "source": [
    "## Outlier of Each Column"
   ]
  },
  {
   "cell_type": "code",
   "execution_count": 21,
   "metadata": {
    "ExecuteTime": {
     "end_time": "2021-07-16T07:34:00.754187Z",
     "start_time": "2021-07-16T07:34:00.393107Z"
    },
    "cell_id": "00013-29f9f503-1ec5-4f07-8684-f573a94b9da9",
    "deepnote_cell_type": "code",
    "deepnote_to_be_reexecuted": false,
    "execution_millis": 396,
    "execution_start": 1626362158171,
    "source_hash": "da286c65",
    "tags": []
   },
   "outputs": [
    {
     "name": "stdout",
     "output_type": "stream",
     "text": [
      "==================================\n",
      "Statistical Data Summary\n",
      "==================================\n",
      "Median :  110642.0\n",
      "1st Quartile :  12103.0\n",
      "3rd Quartile :  357273.75\n",
      "IQR :  345170.75\n",
      "Upper Fence :  875029.875\n",
      "Lower Fence :  -505653.125\n",
      "==================================\n",
      "\n",
      "==================================\n",
      "Outliers Data Detection\n",
      "==================================\n",
      "Upper Outliers Data :  []\n",
      "Upper Outliers Status :  False\n",
      "Lower Outliers Data :  []\n",
      "Lower Outliers Status :  False\n"
     ]
    },
    {
     "data": {
      "image/png": "[encoded data removed]",
      "text/plain": [
       "<Figure size 720x432 with 1 Axes>"
      ]
     },
     "metadata": {
      "needs_background": "light"
     },
     "output_type": "display_data"
    },
    {
     "data": {
      "image/png": "[encoded data removed]",
      "text/plain": [
       "<Figure size 720x432 with 1 Axes>"
      ]
     },
     "metadata": {
      "needs_background": "light"
     },
     "output_type": "display_data"
    }
   ],
   "source": [
    "boxplot_numerical(data_col_numeric[0])"
   ]
  },
  {
   "cell_type": "code",
   "execution_count": 22,
   "metadata": {
    "ExecuteTime": {
     "end_time": "2021-07-16T07:34:01.053255Z",
     "start_time": "2021-07-16T07:34:00.759190Z"
    },
    "cell_id": "00014-21275a10-e5ca-42ab-8c0e-d60b9a5a3290",
    "deepnote_cell_type": "code",
    "deepnote_to_be_reexecuted": false,
    "execution_millis": 406,
    "execution_start": 1626362158577,
    "source_hash": "f6b4e09c",
    "tags": []
   },
   "outputs": [
    {
     "name": "stdout",
     "output_type": "stream",
     "text": [
      "==================================\n",
      "Statistical Data Summary\n",
      "==================================\n",
      "Median :  100323.0\n",
      "1st Quartile :  7448.5\n",
      "3rd Quartile :  343089.75\n",
      "IQR :  335641.25\n",
      "Upper Fence :  846551.625\n",
      "Lower Fence :  -496013.375\n",
      "==================================\n",
      "\n",
      "==================================\n",
      "Outliers Data Detection\n",
      "==================================\n",
      "Upper Outliers Data :  []\n",
      "Upper Outliers Status :  False\n",
      "Lower Outliers Data :  []\n",
      "Lower Outliers Status :  False\n"
     ]
    },
    {
     "data": {
      "image/png": "[encoded data removed]",
      "text/plain": [
       "<Figure size 720x432 with 1 Axes>"
      ]
     },
     "metadata": {
      "needs_background": "light"
     },
     "output_type": "display_data"
    },
    {
     "data": {
      "image/png": "[encoded data removed]",
      "text/plain": [
       "<Figure size 720x432 with 1 Axes>"
      ]
     },
     "metadata": {
      "needs_background": "light"
     },
     "output_type": "display_data"
    }
   ],
   "source": [
    "boxplot_numerical(data_col_numeric[1])"
   ]
  },
  {
   "cell_type": "code",
   "execution_count": 23,
   "metadata": {
    "ExecuteTime": {
     "end_time": "2021-07-16T07:34:01.323316Z",
     "start_time": "2021-07-16T07:34:01.056256Z"
    },
    "cell_id": "00015-1c828dcf-6c79-4890-9e6c-298654a75034",
    "deepnote_cell_type": "code",
    "deepnote_to_be_reexecuted": false,
    "execution_millis": 303,
    "execution_start": 1626362159092,
    "source_hash": "6b3c8452",
    "tags": []
   },
   "outputs": [
    {
     "name": "stdout",
     "output_type": "stream",
     "text": [
      "==================================\n",
      "Statistical Data Summary\n",
      "==================================\n",
      "Median :  2353.5\n",
      "1st Quartile :  652.0\n",
      "3rd Quartile :  5962.5\n",
      "IQR :  5310.5\n",
      "Upper Fence :  13928.25\n",
      "Lower Fence :  -7313.75\n",
      "==================================\n",
      "\n",
      "==================================\n",
      "Outliers Data Detection\n",
      "==================================\n",
      "Upper Outliers Data :  []\n",
      "Upper Outliers Status :  False\n",
      "Lower Outliers Data :  []\n",
      "Lower Outliers Status :  False\n"
     ]
    },
    {
     "data": {
      "image/png": "[encoded data removed]",
      "text/plain": [
       "<Figure size 720x432 with 1 Axes>"
      ]
     },
     "metadata": {
      "needs_background": "light"
     },
     "output_type": "display_data"
    },
    {
     "data": {
      "image/png": "[encoded data removed]",
      "text/plain": [
       "<Figure size 720x432 with 1 Axes>"
      ]
     },
     "metadata": {
      "needs_background": "light"
     },
     "output_type": "display_data"
    }
   ],
   "source": [
    "boxplot_numerical(data_col_numeric[2])"
   ]
  },
  {
   "cell_type": "code",
   "execution_count": 24,
   "metadata": {
    "ExecuteTime": {
     "end_time": "2021-07-16T07:34:01.703401Z",
     "start_time": "2021-07-16T07:34:01.328317Z"
    },
    "cell_id": "00016-874593de-c128-4000-9a9b-687fbcec4d43",
    "deepnote_cell_type": "code",
    "deepnote_to_be_reexecuted": false,
    "execution_millis": 389,
    "execution_start": 1626362159413,
    "source_hash": "8904637",
    "tags": []
   },
   "outputs": [
    {
     "name": "stdout",
     "output_type": "stream",
     "text": [
      "==================================\n",
      "Statistical Data Summary\n",
      "==================================\n",
      "Median :  5022.5\n",
      "1st Quartile :  3006.25\n",
      "3rd Quartile :  8985.5\n",
      "IQR :  5979.25\n",
      "Upper Fence :  17954.375\n",
      "Lower Fence :  -5962.625\n",
      "==================================\n",
      "\n",
      "==================================\n",
      "Outliers Data Detection\n",
      "==================================\n",
      "Upper Outliers Data :  [17958, 18174, 18473, 18528, 18657, 18925, 19105, 19272, 19325, 19381, 19432, 19554, 19824, 19869, 20419, 20539, 20717, 21167, 21191, 21863, 22868, 26403, 29325, 33829, 38464, 42252, 45504, 47829, 49836, 53014, 54941, 59307, 62873, 65448, 66581, 68251, 69644, 71812, 71848, 72361, 73239, 78571, 86298]\n",
      "Upper Outliers Status :  True\n",
      "Lower Outliers Data :  []\n",
      "Lower Outliers Status :  False\n"
     ]
    },
    {
     "data": {
      "image/png": "[encoded data removed]",
      "text/plain": [
       "<Figure size 720x432 with 1 Axes>"
      ]
     },
     "metadata": {
      "needs_background": "light"
     },
     "output_type": "display_data"
    },
    {
     "data": {
      "image/png": "[encoded data removed]",
      "text/plain": [
       "<Figure size 720x432 with 1 Axes>"
      ]
     },
     "metadata": {
      "needs_background": "light"
     },
     "output_type": "display_data"
    }
   ],
   "source": [
    "boxplot_numerical(data_col_numeric[3])"
   ]
  },
  {
   "cell_type": "code",
   "execution_count": 25,
   "metadata": {
    "ExecuteTime": {
     "end_time": "2021-07-16T07:34:02.035477Z",
     "start_time": "2021-07-16T07:34:01.709405Z"
    },
    "cell_id": "00017-ff991694-d700-4ce5-8f01-681ffba4015c",
    "deepnote_cell_type": "code",
    "deepnote_to_be_reexecuted": false,
    "execution_millis": 385,
    "execution_start": 1626362159816,
    "scrolled": false,
    "source_hash": "f29b300c",
    "tags": []
   },
   "outputs": [
    {
     "name": "stdout",
     "output_type": "stream",
     "text": [
      "==================================\n",
      "Statistical Data Summary\n",
      "==================================\n",
      "Median :  2850.0\n",
      "1st Quartile :  1869.5\n",
      "3rd Quartile :  4403.0\n",
      "IQR :  2533.5\n",
      "Upper Fence :  8203.25\n",
      "Lower Fence :  -1930.75\n",
      "==================================\n",
      "\n",
      "==================================\n",
      "Outliers Data Detection\n",
      "==================================\n",
      "Upper Outliers Data :  [8540, 8756, 9284, 9374, 9560, 9888, 10325, 11024, 11037, 11343, 12837, 14234, 15606, 16106, 17605, 18368, 18831, 19874, 20359, 20419, 21180, 22210, 22978, 24184, 24273, 25380, 26903, 27442, 27687, 28290, 29136, 29721, 30418]\n",
      "Upper Outliers Status :  True\n",
      "Lower Outliers Data :  []\n",
      "Lower Outliers Status :  False\n"
     ]
    },
    {
     "data": {
      "image/png": "[encoded data removed]",
      "text/plain": [
       "<Figure size 720x432 with 1 Axes>"
      ]
     },
     "metadata": {
      "needs_background": "light"
     },
     "output_type": "display_data"
    },
    {
     "data": {
      "image/png": "[encoded data removed]",
      "text/plain": [
       "<Figure size 720x432 with 1 Axes>"
      ]
     },
     "metadata": {
      "needs_background": "light"
     },
     "output_type": "display_data"
    }
   ],
   "source": [
    "boxplot_numerical(data_col_numeric[4])"
   ]
  },
  {
   "cell_type": "code",
   "execution_count": 26,
   "metadata": {
    "ExecuteTime": {
     "end_time": "2021-07-16T07:34:02.369552Z",
     "start_time": "2021-07-16T07:34:02.037477Z"
    },
    "cell_id": "00018-046b73ea-fe96-489d-a6a9-39d37112fa36",
    "deepnote_cell_type": "code",
    "deepnote_to_be_reexecuted": false,
    "execution_millis": 365,
    "execution_start": 1626362160215,
    "source_hash": "5e441906",
    "tags": []
   },
   "outputs": [
    {
     "name": "stdout",
     "output_type": "stream",
     "text": [
      "==================================\n",
      "Statistical Data Summary\n",
      "==================================\n",
      "Median :  889.0\n",
      "1st Quartile :  217.0\n",
      "3rd Quartile :  1443.75\n",
      "IQR :  1226.75\n",
      "Upper Fence :  3283.875\n",
      "Lower Fence :  -1623.125\n",
      "==================================\n",
      "\n",
      "==================================\n",
      "Outliers Data Detection\n",
      "==================================\n",
      "Upper Outliers Data :  [3285, 3309, 3340, 3362, 3395, 3437, 3448, 3474, 3476, 3491, 3512, 3536, 3567, 3614, 3632, 3786, 3792, 3810, 4144, 4213, 4693, 4737, 4895, 5014, 5582, 6934, 7379, 7505, 7541, 7680, 8348, 9271, 9366, 9394, 9399, 9439, 9702, 10485, 10903, 12182, 12667, 12691, 12920, 12974, 13112, 13133, 14619]\n",
      "Upper Outliers Status :  True\n",
      "Lower Outliers Data :  []\n",
      "Lower Outliers Status :  False\n"
     ]
    },
    {
     "data": {
      "image/png": "[encoded data removed]",
      "text/plain": [
       "<Figure size 720x432 with 1 Axes>"
      ]
     },
     "metadata": {
      "needs_background": "light"
     },
     "output_type": "display_data"
    },
    {
     "data": {
      "image/png": "[encoded data removed]",
      "text/plain": [
       "<Figure size 720x432 with 1 Axes>"
      ]
     },
     "metadata": {
      "needs_background": "light"
     },
     "output_type": "display_data"
    }
   ],
   "source": [
    "boxplot_numerical(data_col_numeric[5])"
   ]
  },
  {
   "cell_type": "code",
   "execution_count": 27,
   "metadata": {
    "ExecuteTime": {
     "end_time": "2021-07-16T07:34:02.713653Z",
     "start_time": "2021-07-16T07:34:02.371553Z"
    },
    "cell_id": "00019-85eef2cf-0bb1-49a7-82a4-4d962ce0e0e0",
    "deepnote_cell_type": "code",
    "deepnote_to_be_reexecuted": false,
    "execution_millis": 373,
    "execution_start": 1626362160598,
    "source_hash": "2a1ff3d7",
    "tags": []
   },
   "outputs": [
    {
     "name": "stdout",
     "output_type": "stream",
     "text": [
      "==================================\n",
      "Statistical Data Summary\n",
      "==================================\n",
      "Median :  7806.0\n",
      "1st Quartile :  4507.5\n",
      "3rd Quartile :  12926.5\n",
      "IQR :  8419.0\n",
      "Upper Fence :  25555.0\n",
      "Lower Fence :  -8121.0\n",
      "==================================\n",
      "\n",
      "==================================\n",
      "Outliers Data Detection\n",
      "==================================\n",
      "Upper Outliers Data :  [26029, 26031, 27112, 30142, 32060, 32191, 35705, 40637, 44931, 51434, 57295, 62126, 65923, 70039, 74020, 78394, 82383, 82687, 86994, 88610, 90216, 91163, 94584, 96085, 99751, 100062, 100142, 102082, 109276]\n",
      "Upper Outliers Status :  True\n",
      "Lower Outliers Data :  []\n",
      "Lower Outliers Status :  False\n"
     ]
    },
    {
     "data": {
      "image/png": "[encoded data removed]",
      "text/plain": [
       "<Figure size 720x432 with 1 Axes>"
      ]
     },
     "metadata": {
      "needs_background": "light"
     },
     "output_type": "display_data"
    },
    {
     "data": {
      "image/png": "[encoded data removed]",
      "text/plain": [
       "<Figure size 720x432 with 1 Axes>"
      ]
     },
     "metadata": {
      "needs_background": "light"
     },
     "output_type": "display_data"
    }
   ],
   "source": [
    "boxplot_numerical(data_col_numeric[6])"
   ]
  },
  {
   "cell_type": "code",
   "execution_count": 28,
   "metadata": {
    "ExecuteTime": {
     "end_time": "2021-07-16T07:34:03.040729Z",
     "start_time": "2021-07-16T07:34:02.716654Z"
    },
    "cell_id": "00020-23f09f3a-35fd-4778-90a7-8e8185ffe0c2",
    "deepnote_cell_type": "code",
    "deepnote_to_be_reexecuted": false,
    "execution_millis": 363,
    "execution_start": 1626362160975,
    "source_hash": "70ddadca",
    "tags": []
   },
   "outputs": [
    {
     "name": "stdout",
     "output_type": "stream",
     "text": [
      "==================================\n",
      "Statistical Data Summary\n",
      "==================================\n",
      "Median :  858.0\n",
      "1st Quartile :  161.0\n",
      "3rd Quartile :  1310.75\n",
      "IQR :  1149.75\n",
      "Upper Fence :  3035.375\n",
      "Lower Fence :  -1563.625\n",
      "==================================\n",
      "\n",
      "==================================\n",
      "Outliers Data Detection\n",
      "==================================\n",
      "Upper Outliers Data :  [3052, 3070, 3244, 3255, 3416, 3438, 3484, 3504, 3504, 3518, 3568, 3674, 3707, 3771, 4005, 4313, 4325, 4342, 4345, 4349, 4527, 4574, 4610, 5006, 5683, 5757, 5799, 5936, 6607, 10886, 14856, 16926, 20475, 20570]\n",
      "Upper Outliers Status :  True\n",
      "Lower Outliers Data :  []\n",
      "Lower Outliers Status :  False\n"
     ]
    },
    {
     "data": {
      "image/png": "[encoded data removed]",
      "text/plain": [
       "<Figure size 720x432 with 1 Axes>"
      ]
     },
     "metadata": {
      "needs_background": "light"
     },
     "output_type": "display_data"
    },
    {
     "data": {
      "image/png": "[encoded data removed]",
      "text/plain": [
       "<Figure size 720x432 with 1 Axes>"
      ]
     },
     "metadata": {
      "needs_background": "light"
     },
     "output_type": "display_data"
    }
   ],
   "source": [
    "boxplot_numerical(data_col_numeric[7])"
   ]
  },
  {
   "cell_type": "code",
   "execution_count": 29,
   "metadata": {
    "ExecuteTime": {
     "end_time": "2021-07-16T07:34:03.403808Z",
     "start_time": "2021-07-16T07:34:03.042727Z"
    },
    "cell_id": "00023-c4276bdf-4d71-465d-b0f2-8e7c24caac81",
    "deepnote_cell_type": "code",
    "deepnote_to_be_reexecuted": false,
    "execution_millis": 375,
    "execution_start": 1626362161334,
    "source_hash": "748ec35d",
    "tags": []
   },
   "outputs": [
    {
     "name": "stdout",
     "output_type": "stream",
     "text": [
      "==================================\n",
      "Statistical Data Summary\n",
      "==================================\n",
      "Median :  8.0\n",
      "1st Quartile :  8.0\n",
      "3rd Quartile :  8.0\n",
      "IQR :  0.0\n",
      "Upper Fence :  8.0\n",
      "Lower Fence :  8.0\n",
      "==================================\n",
      "\n",
      "==================================\n",
      "Outliers Data Detection\n",
      "==================================\n",
      "Upper Outliers Data :  [18.0, 18.0, 18.0, 18.0, 18.0, 18.0, 18.0, 18.0, 18.0, 18.0, 18.0, 18.0, 18.0, 18.0, 18.0, 18.0, 18.0, 18.0, 18.0, 18.0, 18.0, 18.0, 18.0, 18.0, 18.0, 18.0, 18.0, 18.0, 18.0, 18.0, 18.0, 18.0, 18.0, 18.0, 18.0, 18.0, 18.0]\n",
      "Upper Outliers Status :  True\n",
      "Lower Outliers Data :  []\n",
      "Lower Outliers Status :  False\n"
     ]
    },
    {
     "data": {
      "image/png": "[encoded data removed]",
      "text/plain": [
       "<Figure size 720x432 with 1 Axes>"
      ]
     },
     "metadata": {
      "needs_background": "light"
     },
     "output_type": "display_data"
    },
    {
     "data": {
      "image/png": "[encoded data removed]",
      "text/plain": [
       "<Figure size 720x432 with 1 Axes>"
      ]
     },
     "metadata": {
      "needs_background": "light"
     },
     "output_type": "display_data"
    }
   ],
   "source": [
    "boxplot_numerical(data_col_float[0])"
   ]
  },
  {
   "cell_type": "code",
   "execution_count": 30,
   "metadata": {
    "ExecuteTime": {
     "end_time": "2021-07-16T07:34:03.751887Z",
     "start_time": "2021-07-16T07:34:03.411810Z"
    },
    "cell_id": "00024-7cea19b3-2836-49ff-b467-01aae1291a51",
    "deepnote_cell_type": "code",
    "deepnote_to_be_reexecuted": false,
    "execution_millis": 407,
    "execution_start": 1626362161707,
    "source_hash": "644c241",
    "tags": []
   },
   "outputs": [
    {
     "name": "stdout",
     "output_type": "stream",
     "text": [
      "==================================\n",
      "Statistical Data Summary\n",
      "==================================\n",
      "Median :  0.0\n",
      "1st Quartile :  0.0\n",
      "3rd Quartile :  0.0\n",
      "IQR :  0.0\n",
      "Upper Fence :  0.0\n",
      "Lower Fence :  0.0\n",
      "==================================\n",
      "\n",
      "==================================\n",
      "Outliers Data Detection\n",
      "==================================\n",
      "Upper Outliers Data :  [345.0, 375.0, 393.0, 431.0, 445.0, 479.0]\n",
      "Upper Outliers Status :  True\n",
      "Lower Outliers Data :  []\n",
      "Lower Outliers Status :  False\n"
     ]
    },
    {
     "data": {
      "image/png": "[encoded data removed]",
      "text/plain": [
       "<Figure size 720x432 with 1 Axes>"
      ]
     },
     "metadata": {
      "needs_background": "light"
     },
     "output_type": "display_data"
    },
    {
     "data": {
      "image/png": "[encoded data removed]",
      "text/plain": [
       "<Figure size 720x432 with 1 Axes>"
      ]
     },
     "metadata": {
      "needs_background": "light"
     },
     "output_type": "display_data"
    }
   ],
   "source": [
    "boxplot_numerical(data_col_float[1])"
   ]
  },
  {
   "cell_type": "code",
   "execution_count": 31,
   "metadata": {
    "ExecuteTime": {
     "end_time": "2021-07-16T07:34:04.081961Z",
     "start_time": "2021-07-16T07:34:03.755887Z"
    },
    "cell_id": "00025-d65eef43-8296-46ac-bf65-d9f77d15e65f",
    "deepnote_cell_type": "code",
    "deepnote_to_be_reexecuted": false,
    "execution_millis": 375,
    "execution_start": 1626362162118,
    "source_hash": "55a6abf5",
    "tags": []
   },
   "outputs": [
    {
     "name": "stdout",
     "output_type": "stream",
     "text": [
      "==================================\n",
      "Statistical Data Summary\n",
      "==================================\n",
      "Median :  0.0\n",
      "1st Quartile :  0.0\n",
      "3rd Quartile :  0.0\n",
      "IQR :  0.0\n",
      "Upper Fence :  0.0\n",
      "Lower Fence :  0.0\n",
      "==================================\n",
      "\n",
      "==================================\n",
      "Outliers Data Detection\n",
      "==================================\n",
      "Upper Outliers Data :  [25.0, 28.0, 37.0, 42.0, 44.0, 47.0]\n",
      "Upper Outliers Status :  True\n",
      "Lower Outliers Data :  []\n",
      "Lower Outliers Status :  False\n"
     ]
    },
    {
     "data": {
      "image/png": "[encoded data removed]",
      "text/plain": [
       "<Figure size 720x432 with 1 Axes>"
      ]
     },
     "metadata": {
      "needs_background": "light"
     },
     "output_type": "display_data"
    },
    {
     "data": {
      "image/png": "[encoded data removed]",
      "text/plain": [
       "<Figure size 720x432 with 1 Axes>"
      ]
     },
     "metadata": {
      "needs_background": "light"
     },
     "output_type": "display_data"
    }
   ],
   "source": [
    "boxplot_numerical(data_col_float[2])"
   ]
  },
  {
   "cell_type": "code",
   "execution_count": 32,
   "metadata": {
    "ExecuteTime": {
     "end_time": "2021-07-16T07:34:04.430040Z",
     "start_time": "2021-07-16T07:34:04.084962Z"
    },
    "cell_id": "00026-1fa4c112-dcdf-4bfb-a46f-56b9a639d46e",
    "deepnote_cell_type": "code",
    "deepnote_to_be_reexecuted": false,
    "execution_millis": 398,
    "execution_start": 1626362162505,
    "source_hash": "5bb3a26",
    "tags": []
   },
   "outputs": [
    {
     "name": "stdout",
     "output_type": "stream",
     "text": [
      "==================================\n",
      "Statistical Data Summary\n",
      "==================================\n",
      "Median :  2133.0\n",
      "1st Quartile :  0.0\n",
      "3rd Quartile :  6705.0\n",
      "IQR :  6705.0\n",
      "Upper Fence :  16762.5\n",
      "Lower Fence :  -10057.5\n",
      "==================================\n",
      "\n",
      "==================================\n",
      "Outliers Data Detection\n",
      "==================================\n",
      "Upper Outliers Data :  [16820.0, 16957.0, 17099.0, 17144.0, 17300.0, 17500.0, 17649.0, 18100.0, 18376.0, 18399.0, 18451.0, 18688.0, 18788.0, 19088.0, 19308.0, 20500.0, 20500.0, 20500.0, 20991.0, 21491.0, 23553.0, 23953.0, 24507.0, 25000.0, 25600.0, 26005.0, 26005.0, 27502.0, 28502.0, 28902.0, 29253.0, 29553.0, 31922.0, 32752.0]\n",
      "Upper Outliers Status :  True\n",
      "Lower Outliers Data :  []\n",
      "Lower Outliers Status :  False\n"
     ]
    },
    {
     "data": {
      "image/png": "[encoded data removed]",
      "text/plain": [
       "<Figure size 720x432 with 1 Axes>"
      ]
     },
     "metadata": {
      "needs_background": "light"
     },
     "output_type": "display_data"
    },
    {
     "data": {
      "image/png": "[encoded data removed]",
      "text/plain": [
       "<Figure size 720x432 with 1 Axes>"
      ]
     },
     "metadata": {
      "needs_background": "light"
     },
     "output_type": "display_data"
    }
   ],
   "source": [
    "boxplot_numerical(data_col_float[3])"
   ]
  },
  {
   "cell_type": "code",
   "execution_count": 33,
   "metadata": {
    "ExecuteTime": {
     "end_time": "2021-07-16T07:34:04.794122Z",
     "start_time": "2021-07-16T07:34:04.434041Z"
    },
    "cell_id": "00027-91d09a9e-6824-4b3d-b4a5-edfaa79b466d",
    "deepnote_cell_type": "code",
    "deepnote_to_be_reexecuted": false,
    "execution_millis": 375,
    "execution_start": 1626362162907,
    "source_hash": "68b21ea5",
    "tags": []
   },
   "outputs": [
    {
     "name": "stdout",
     "output_type": "stream",
     "text": [
      "==================================\n",
      "Statistical Data Summary\n",
      "==================================\n",
      "Median :  4749.0\n",
      "1st Quartile :  0.0\n",
      "3rd Quartile :  7692.0\n",
      "IQR :  7692.0\n",
      "Upper Fence :  19230.0\n",
      "Lower Fence :  -11538.0\n",
      "==================================\n",
      "\n",
      "==================================\n",
      "Outliers Data Detection\n",
      "==================================\n",
      "Upper Outliers Data :  [19670.0, 19733.0, 20096.0, 20101.0, 21941.0, 22339.0, 25076.0, 25597.0, 26151.0, 26379.0, 27514.0, 28925.0, 29461.0, 40727.0, 50824.0, 52360.0, 54463.0, 57521.0, 60476.0]\n",
      "Upper Outliers Status :  True\n",
      "Lower Outliers Data :  []\n",
      "Lower Outliers Status :  False\n"
     ]
    },
    {
     "data": {
      "image/png": "[encoded data removed]",
      "text/plain": [
       "<Figure size 720x432 with 1 Axes>"
      ]
     },
     "metadata": {
      "needs_background": "light"
     },
     "output_type": "display_data"
    },
    {
     "data": {
      "image/png": "[encoded data removed]",
      "text/plain": [
       "<Figure size 720x432 with 1 Axes>"
      ]
     },
     "metadata": {
      "needs_background": "light"
     },
     "output_type": "display_data"
    }
   ],
   "source": [
    "boxplot_numerical(data_col_float[4])"
   ]
  },
  {
   "cell_type": "code",
   "execution_count": 34,
   "metadata": {
    "ExecuteTime": {
     "end_time": "2021-07-16T07:34:05.187210Z",
     "start_time": "2021-07-16T07:34:04.796123Z"
    },
    "cell_id": "00028-59ba9705-a2c2-47df-a5b3-bfed1bef5a52",
    "deepnote_cell_type": "code",
    "deepnote_to_be_reexecuted": false,
    "execution_millis": 384,
    "execution_start": 1626362163374,
    "source_hash": "769cc239",
    "tags": []
   },
   "outputs": [
    {
     "name": "stdout",
     "output_type": "stream",
     "text": [
      "==================================\n",
      "Statistical Data Summary\n",
      "==================================\n",
      "Median :  1133.0\n",
      "1st Quartile :  0.0\n",
      "3rd Quartile :  3137.5\n",
      "IQR :  3137.5\n",
      "Upper Fence :  7843.75\n",
      "Lower Fence :  -4706.25\n",
      "==================================\n",
      "\n",
      "==================================\n",
      "Outliers Data Detection\n",
      "==================================\n",
      "Upper Outliers Data :  [7894.0, 7928.0, 7940.0, 7944.0, 8565.0, 8723.0, 8748.0, 9217.0, 9599.0, 9975.0, 10760.0, 11296.0, 11325.0, 12536.0, 13636.0, 15521.0, 15532.0, 15657.0, 19446.0, 20083.0, 21292.0, 24165.0, 24994.0, 25093.0, 27585.0, 32506.0, 33967.0, 36510.0, 39441.0, 40022.0, 41215.0, 49132.0, 49320.0, 50920.0, 58094.0, 61707.0, 63469.0, 70948.0]\n",
      "Upper Outliers Status :  True\n",
      "Lower Outliers Data :  []\n",
      "Lower Outliers Status :  False\n"
     ]
    },
    {
     "data": {
      "image/png": "[encoded data removed]",
      "text/plain": [
       "<Figure size 720x432 with 1 Axes>"
      ]
     },
     "metadata": {
      "needs_background": "light"
     },
     "output_type": "display_data"
    },
    {
     "data": {
      "image/png": "[encoded data removed]",
      "text/plain": [
       "<Figure size 720x432 with 1 Axes>"
      ]
     },
     "metadata": {
      "needs_background": "light"
     },
     "output_type": "display_data"
    }
   ],
   "source": [
    "boxplot_numerical(data_col_float[5])"
   ]
  },
  {
   "cell_type": "markdown",
   "metadata": {},
   "source": [
    "# Correlation Heatmap"
   ]
  },
  {
   "cell_type": "code",
   "execution_count": 35,
   "metadata": {
    "ExecuteTime": {
     "end_time": "2021-07-16T07:34:07.841597Z",
     "start_time": "2021-07-16T07:34:05.191212Z"
    },
    "cell_id": "00030-961da1c0-3edd-4887-870c-6ff65247c7b6",
    "deepnote_cell_type": "code",
    "deepnote_to_be_reexecuted": false,
    "execution_millis": 2442,
    "execution_start": 1626362163771,
    "source_hash": "25adc0ea",
    "tags": []
   },
   "outputs": [
    {
     "data": {
      "image/png": "[encoded data removed]",
      "text/plain": [
       "<Figure size 1152x432 with 2 Axes>"
      ]
     },
     "metadata": {
      "needs_background": "light"
     },
     "output_type": "display_data"
    }
   ],
   "source": [
    "# Increase the size of the heatmap.\n",
    "plt.figure(figsize=(16, 6))\n",
    "\n",
    "# Store heatmap object in a variable to easily access it when you want to include more features (such as title).\n",
    "# Set the range of values to be displayed on the colormap from -1 to 1, and set the annotation to True to display the correlation values on the heatmap.\n",
    "heatmap = sns.heatmap(data.corr(), vmin=-1, vmax=1, annot=True)\n",
    "\n",
    "# Give a title to the heatmap. Pad defines the distance of the title from the top of the heatmap.\n",
    "heatmap.set_title('Correlation Heatmap', fontdict={'fontsize':12}, pad=12);"
   ]
  },
  {
   "cell_type": "markdown",
   "metadata": {},
   "source": [
    "# Convert Final Data to New CSV"
   ]
  },
  {
   "cell_type": "code",
   "execution_count": 38,
   "metadata": {
    "ExecuteTime": {
     "end_time": "2021-07-16T07:53:22.053837Z",
     "start_time": "2021-07-16T07:53:22.026831Z"
    }
   },
   "outputs": [],
   "source": [
    "data.to_csv('DataJakarta_COVID19_DataClean.csv', index=False)"
   ]
  },
  {
   "cell_type": "code",
   "execution_count": 39,
   "metadata": {
    "ExecuteTime": {
     "end_time": "2021-07-16T07:53:56.363427Z",
     "start_time": "2021-07-16T07:53:56.312415Z"
    }
   },
   "outputs": [
    {
     "data": {
      "text/html": [
       "<div>\n",
       "<style scoped>\n",
       "    .dataframe tbody tr th:only-of-type {\n",
       "        vertical-align: middle;\n",
       "    }\n",
       "\n",
       "    .dataframe tbody tr th {\n",
       "        vertical-align: top;\n",
       "    }\n",
       "\n",
       "    .dataframe thead th {\n",
       "        text-align: right;\n",
       "    }\n",
       "</style>\n",
       "<table border=\"1\" class=\"dataframe\">\n",
       "  <thead>\n",
       "    <tr style=\"text-align: right;\">\n",
       "      <th></th>\n",
       "      <th>Tanggal</th>\n",
       "      <th>Jam</th>\n",
       "      <th>Tanggal Jam</th>\n",
       "      <th>Total Pasien</th>\n",
       "      <th>Sembuh</th>\n",
       "      <th>Meninggal</th>\n",
       "      <th>Self Isolation</th>\n",
       "      <th>Masih Perawatan</th>\n",
       "      <th>Menunggu Hasil</th>\n",
       "      <th>Tenaga Kesehatan Terinfeksi</th>\n",
       "      <th>Positif Harian</th>\n",
       "      <th>Positif Aktif</th>\n",
       "      <th>Sembuh Harian</th>\n",
       "      <th>Tanpa Gejala</th>\n",
       "      <th>Bergejala</th>\n",
       "      <th>Belum Ada Data</th>\n",
       "    </tr>\n",
       "  </thead>\n",
       "  <tbody>\n",
       "    <tr>\n",
       "      <th>0</th>\n",
       "      <td>2020-03-01 00:00:00</td>\n",
       "      <td>18.0</td>\n",
       "      <td>2020-03-01 18:00:00</td>\n",
       "      <td>0</td>\n",
       "      <td>0</td>\n",
       "      <td>0</td>\n",
       "      <td>0</td>\n",
       "      <td>0</td>\n",
       "      <td>0.0</td>\n",
       "      <td>0.0</td>\n",
       "      <td>0</td>\n",
       "      <td>0</td>\n",
       "      <td>0</td>\n",
       "      <td>0.0</td>\n",
       "      <td>0.0</td>\n",
       "      <td>0.0</td>\n",
       "    </tr>\n",
       "    <tr>\n",
       "      <th>1</th>\n",
       "      <td>2020-03-02 00:00:00</td>\n",
       "      <td>18.0</td>\n",
       "      <td>2020-03-02 18:00:00</td>\n",
       "      <td>0</td>\n",
       "      <td>0</td>\n",
       "      <td>0</td>\n",
       "      <td>0</td>\n",
       "      <td>0</td>\n",
       "      <td>0.0</td>\n",
       "      <td>0.0</td>\n",
       "      <td>0</td>\n",
       "      <td>0</td>\n",
       "      <td>0</td>\n",
       "      <td>0.0</td>\n",
       "      <td>0.0</td>\n",
       "      <td>0.0</td>\n",
       "    </tr>\n",
       "    <tr>\n",
       "      <th>2</th>\n",
       "      <td>2020-03-03 00:00:00</td>\n",
       "      <td>18.0</td>\n",
       "      <td>2020-03-03 18:00:00</td>\n",
       "      <td>3</td>\n",
       "      <td>0</td>\n",
       "      <td>1</td>\n",
       "      <td>0</td>\n",
       "      <td>2</td>\n",
       "      <td>0.0</td>\n",
       "      <td>0.0</td>\n",
       "      <td>3</td>\n",
       "      <td>2</td>\n",
       "      <td>0</td>\n",
       "      <td>0.0</td>\n",
       "      <td>0.0</td>\n",
       "      <td>0.0</td>\n",
       "    </tr>\n",
       "    <tr>\n",
       "      <th>3</th>\n",
       "      <td>2020-03-04 00:00:00</td>\n",
       "      <td>18.0</td>\n",
       "      <td>2020-03-04 18:00:00</td>\n",
       "      <td>3</td>\n",
       "      <td>0</td>\n",
       "      <td>1</td>\n",
       "      <td>0</td>\n",
       "      <td>2</td>\n",
       "      <td>0.0</td>\n",
       "      <td>0.0</td>\n",
       "      <td>0</td>\n",
       "      <td>2</td>\n",
       "      <td>0</td>\n",
       "      <td>0.0</td>\n",
       "      <td>0.0</td>\n",
       "      <td>0.0</td>\n",
       "    </tr>\n",
       "    <tr>\n",
       "      <th>4</th>\n",
       "      <td>2020-03-05 00:00:00</td>\n",
       "      <td>18.0</td>\n",
       "      <td>2020-03-05 18:00:00</td>\n",
       "      <td>7</td>\n",
       "      <td>0</td>\n",
       "      <td>3</td>\n",
       "      <td>0</td>\n",
       "      <td>4</td>\n",
       "      <td>0.0</td>\n",
       "      <td>0.0</td>\n",
       "      <td>4</td>\n",
       "      <td>4</td>\n",
       "      <td>0</td>\n",
       "      <td>0.0</td>\n",
       "      <td>0.0</td>\n",
       "      <td>0.0</td>\n",
       "    </tr>\n",
       "    <tr>\n",
       "      <th>...</th>\n",
       "      <td>...</td>\n",
       "      <td>...</td>\n",
       "      <td>...</td>\n",
       "      <td>...</td>\n",
       "      <td>...</td>\n",
       "      <td>...</td>\n",
       "      <td>...</td>\n",
       "      <td>...</td>\n",
       "      <td>...</td>\n",
       "      <td>...</td>\n",
       "      <td>...</td>\n",
       "      <td>...</td>\n",
       "      <td>...</td>\n",
       "      <td>...</td>\n",
       "      <td>...</td>\n",
       "      <td>...</td>\n",
       "    </tr>\n",
       "    <tr>\n",
       "      <th>497</th>\n",
       "      <td>2021-07-11 00:00:00</td>\n",
       "      <td>8.0</td>\n",
       "      <td>2021-07-11 08:00:00</td>\n",
       "      <td>662442</td>\n",
       "      <td>564437</td>\n",
       "      <td>9395</td>\n",
       "      <td>68251</td>\n",
       "      <td>20359</td>\n",
       "      <td>0.0</td>\n",
       "      <td>0.0</td>\n",
       "      <td>13133</td>\n",
       "      <td>88610</td>\n",
       "      <td>20570</td>\n",
       "      <td>4769.0</td>\n",
       "      <td>12893.0</td>\n",
       "      <td>70948.0</td>\n",
       "    </tr>\n",
       "    <tr>\n",
       "      <th>498</th>\n",
       "      <td>2021-07-12 00:00:00</td>\n",
       "      <td>8.0</td>\n",
       "      <td>2021-07-12 08:00:00</td>\n",
       "      <td>677061</td>\n",
       "      <td>584912</td>\n",
       "      <td>9462</td>\n",
       "      <td>66581</td>\n",
       "      <td>16106</td>\n",
       "      <td>0.0</td>\n",
       "      <td>0.0</td>\n",
       "      <td>14619</td>\n",
       "      <td>82687</td>\n",
       "      <td>20475</td>\n",
       "      <td>17649.0</td>\n",
       "      <td>25597.0</td>\n",
       "      <td>39441.0</td>\n",
       "    </tr>\n",
       "    <tr>\n",
       "      <th>499</th>\n",
       "      <td>2021-07-13 00:00:00</td>\n",
       "      <td>8.0</td>\n",
       "      <td>2021-07-13 08:00:00</td>\n",
       "      <td>689243</td>\n",
       "      <td>589486</td>\n",
       "      <td>9541</td>\n",
       "      <td>71848</td>\n",
       "      <td>18368</td>\n",
       "      <td>0.0</td>\n",
       "      <td>0.0</td>\n",
       "      <td>12182</td>\n",
       "      <td>90216</td>\n",
       "      <td>4574</td>\n",
       "      <td>16957.0</td>\n",
       "      <td>22339.0</td>\n",
       "      <td>50920.0</td>\n",
       "    </tr>\n",
       "    <tr>\n",
       "      <th>500</th>\n",
       "      <td>2021-07-14 00:00:00</td>\n",
       "      <td>8.0</td>\n",
       "      <td>2021-07-14 08:00:00</td>\n",
       "      <td>701910</td>\n",
       "      <td>592556</td>\n",
       "      <td>9603</td>\n",
       "      <td>78571</td>\n",
       "      <td>21180</td>\n",
       "      <td>0.0</td>\n",
       "      <td>0.0</td>\n",
       "      <td>12667</td>\n",
       "      <td>99751</td>\n",
       "      <td>3070</td>\n",
       "      <td>32752.0</td>\n",
       "      <td>54463.0</td>\n",
       "      <td>12536.0</td>\n",
       "    </tr>\n",
       "    <tr>\n",
       "      <th>501</th>\n",
       "      <td>2021-07-15 00:00:00</td>\n",
       "      <td>8.0</td>\n",
       "      <td>2021-07-15 08:00:00</td>\n",
       "      <td>714601</td>\n",
       "      <td>595582</td>\n",
       "      <td>9743</td>\n",
       "      <td>86298</td>\n",
       "      <td>22978</td>\n",
       "      <td>0.0</td>\n",
       "      <td>0.0</td>\n",
       "      <td>12691</td>\n",
       "      <td>109276</td>\n",
       "      <td>3026</td>\n",
       "      <td>31922.0</td>\n",
       "      <td>52360.0</td>\n",
       "      <td>24994.0</td>\n",
       "    </tr>\n",
       "  </tbody>\n",
       "</table>\n",
       "<p>502 rows × 16 columns</p>\n",
       "</div>"
      ],
      "text/plain": [
       "                 Tanggal   Jam          Tanggal Jam  Total Pasien  Sembuh  \\\n",
       "0    2020-03-01 00:00:00  18.0  2020-03-01 18:00:00             0       0   \n",
       "1    2020-03-02 00:00:00  18.0  2020-03-02 18:00:00             0       0   \n",
       "2    2020-03-03 00:00:00  18.0  2020-03-03 18:00:00             3       0   \n",
       "3    2020-03-04 00:00:00  18.0  2020-03-04 18:00:00             3       0   \n",
       "4    2020-03-05 00:00:00  18.0  2020-03-05 18:00:00             7       0   \n",
       "..                   ...   ...                  ...           ...     ...   \n",
       "497  2021-07-11 00:00:00   8.0  2021-07-11 08:00:00        662442  564437   \n",
       "498  2021-07-12 00:00:00   8.0  2021-07-12 08:00:00        677061  584912   \n",
       "499  2021-07-13 00:00:00   8.0  2021-07-13 08:00:00        689243  589486   \n",
       "500  2021-07-14 00:00:00   8.0  2021-07-14 08:00:00        701910  592556   \n",
       "501  2021-07-15 00:00:00   8.0  2021-07-15 08:00:00        714601  595582   \n",
       "\n",
       "     Meninggal  Self Isolation  Masih Perawatan  Menunggu Hasil  \\\n",
       "0            0               0                0             0.0   \n",
       "1            0               0                0             0.0   \n",
       "2            1               0                2             0.0   \n",
       "3            1               0                2             0.0   \n",
       "4            3               0                4             0.0   \n",
       "..         ...             ...              ...             ...   \n",
       "497       9395           68251            20359             0.0   \n",
       "498       9462           66581            16106             0.0   \n",
       "499       9541           71848            18368             0.0   \n",
       "500       9603           78571            21180             0.0   \n",
       "501       9743           86298            22978             0.0   \n",
       "\n",
       "     Tenaga Kesehatan Terinfeksi  Positif Harian  Positif Aktif  \\\n",
       "0                            0.0               0              0   \n",
       "1                            0.0               0              0   \n",
       "2                            0.0               3              2   \n",
       "3                            0.0               0              2   \n",
       "4                            0.0               4              4   \n",
       "..                           ...             ...            ...   \n",
       "497                          0.0           13133          88610   \n",
       "498                          0.0           14619          82687   \n",
       "499                          0.0           12182          90216   \n",
       "500                          0.0           12667          99751   \n",
       "501                          0.0           12691         109276   \n",
       "\n",
       "     Sembuh Harian  Tanpa Gejala  Bergejala  Belum Ada Data  \n",
       "0                0           0.0        0.0             0.0  \n",
       "1                0           0.0        0.0             0.0  \n",
       "2                0           0.0        0.0             0.0  \n",
       "3                0           0.0        0.0             0.0  \n",
       "4                0           0.0        0.0             0.0  \n",
       "..             ...           ...        ...             ...  \n",
       "497          20570        4769.0    12893.0         70948.0  \n",
       "498          20475       17649.0    25597.0         39441.0  \n",
       "499           4574       16957.0    22339.0         50920.0  \n",
       "500           3070       32752.0    54463.0         12536.0  \n",
       "501           3026       31922.0    52360.0         24994.0  \n",
       "\n",
       "[502 rows x 16 columns]"
      ]
     },
     "execution_count": 39,
     "metadata": {},
     "output_type": "execute_result"
    }
   ],
   "source": [
    "test = pd.read_csv('DataJakarta_COVID19_DataClean.csv')\n",
    "test"
   ]
  },
  {
   "cell_type": "code",
   "execution_count": 40,
   "metadata": {
    "ExecuteTime": {
     "end_time": "2021-07-16T07:54:02.938589Z",
     "start_time": "2021-07-16T07:54:02.928588Z"
    }
   },
   "outputs": [
    {
     "data": {
      "text/plain": [
       "Tanggal                        0\n",
       "Jam                            0\n",
       "Tanggal Jam                    0\n",
       "Total Pasien                   0\n",
       "Sembuh                         0\n",
       "Meninggal                      0\n",
       "Self Isolation                 0\n",
       "Masih Perawatan                0\n",
       "Menunggu Hasil                 0\n",
       "Tenaga Kesehatan Terinfeksi    0\n",
       "Positif Harian                 0\n",
       "Positif Aktif                  0\n",
       "Sembuh Harian                  0\n",
       "Tanpa Gejala                   0\n",
       "Bergejala                      0\n",
       "Belum Ada Data                 0\n",
       "dtype: int64"
      ]
     },
     "execution_count": 40,
     "metadata": {},
     "output_type": "execute_result"
    }
   ],
   "source": [
    "test.isnull().sum()"
   ]
  },
  {
   "cell_type": "code",
   "execution_count": null,
   "metadata": {},
   "outputs": [],
   "source": []
  }
 ],
 "metadata": {
  "deepnote": {
   "is_reactive": false
  },
  "deepnote_execution_queue": [],
  "deepnote_notebook_id": "a984064a-4a66-4e8f-8452-35afa43423b8",
  "kernelspec": {
   "display_name": "Python 3",
   "language": "python",
   "name": "python3"
  },
  "language_info": {
   "codemirror_mode": {
    "name": "ipython",
    "version": 3
   },
   "file_extension": ".py",
   "mimetype": "text/x-python",
   "name": "python",
   "nbconvert_exporter": "python",
   "pygments_lexer": "ipython3",
   "version": "3.8.8"
  },
  "toc": {
   "base_numbering": 1,
   "nav_menu": {},
   "number_sections": true,
   "sideBar": true,
   "skip_h1_title": false,
   "title_cell": "Table of Contents",
   "title_sidebar": "Contents",
   "toc_cell": false,
   "toc_position": {},
   "toc_section_display": true,
   "toc_window_display": false
  }
 },
 "nbformat": 4,
 "nbformat_minor": 2
}
